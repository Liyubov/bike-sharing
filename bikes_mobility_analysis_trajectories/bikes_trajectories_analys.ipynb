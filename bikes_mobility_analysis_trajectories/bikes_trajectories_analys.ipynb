{
 "cells": [
  {
   "cell_type": "markdown",
   "metadata": {},
   "source": [
    "We analyze trajectories of bikes."
   ]
  },
  {
   "cell_type": "code",
   "execution_count": 6,
   "metadata": {},
   "outputs": [
    {
     "name": "stdout",
     "output_type": "stream",
     "text": [
      "(3626252, 22)\n"
     ]
    }
   ],
   "source": [
    "import plotly.plotly as py\n",
    "import plotly.graph_objs as go\n",
    "import pandas as pd\n",
    "import csv\n",
    "\n",
    "\n",
    "# load data on trajectories, it is very heavy \n",
    "\n",
    "df_traj = pd.read_csv('C:/Users/lyubo/Documents/DATA_networks/mobilitydata/bikes_sharing_data_technologiestiftung_berlin/trajectories_bikes_data_cleaned.csv')\n",
    "df_traj.head(50)\n",
    "\n",
    "print(df_traj.shape)\n",
    "\n"
   ]
  },
  {
   "cell_type": "code",
   "execution_count": 8,
   "metadata": {},
   "outputs": [
    {
     "name": "stdout",
     "output_type": "stream",
     "text": [
      "Index(['id', 'id.1', 'bikeId', 'providerId', 'timestamp', 'latitude',\n",
      "       'longitude', 'prev_id', 'next_id', 'prev_lat', 'prev_lon', 'next_lat',\n",
      "       'next_lon', 'end_timestamp', 'mode', 'response', 'geometry', 'distance',\n",
      "       'calc_time', 'waypoints', 'duration', 'speed'],\n",
      "      dtype='object')\n"
     ]
    }
   ],
   "source": [
    "from matplotlib import pyplot as plt\n",
    "\n",
    "\n",
    "#choose trajectory of the first bike\n",
    "\n",
    "print(df_traj.columns)\n",
    "\n",
    "first_traj = df_traj[df_traj.bikeId == '13001']\n",
    "#print(first_traj.shape)\n",
    "\n",
    "\n",
    "# we can transfer latitude -> x, longitude -> y \n",
    "plt.plot(first_traj.latitude, first_traj.longitude, 'o-')\n",
    "plt.show()"
   ]
  },
  {
   "cell_type": "code",
   "execution_count": null,
   "metadata": {},
   "outputs": [],
   "source": [
    "\n",
    "### First we calculate the distribution P(\\delta) of jumps for the first trajectory\n",
    "import numpy as np\n",
    "import seaborn\n",
    "\n",
    "\n",
    "def calc_jump_dist(Xarray,Yarray): #function to calculate distribution of steps  # given arrays Xarray, Yarray of trajectories\n",
    "    dist = np.zeros(len(Xarray))\n",
    "    for i in range(0, len(Xarray)-1):\n",
    "        dist[i] = calc_dist(Xarray[i],Xarray[i+1],Yarray[i],Yarray[i+1])\n",
    "    return dist\n",
    "    \n",
    "    \n",
    "    \n",
    "def calc_dist(x1,x2,y1,y2): #function to calculate distance between 2 points in 2D\n",
    "    return np.sqrt((x1-x2)*(x1-x2)+(y1-y2)*(y1-y2))\n",
    "\n",
    "\n",
    "\n",
    "# assign values \n",
    "X_tr = first_traj.x.values\n",
    "Y_tr = first_traj.y.values\n",
    "\n",
    "\n",
    "# make sure that we get the right type of the data on both axis\n",
    "\n",
    "print(type(X_tr))\n",
    "\n",
    "# now we apply this function to routes dataframe\n",
    "jumps_lengths = calc_jump_dist(X_tr,Y_tr)\n",
    "\n",
    "\n",
    "\n",
    "# now we are plotting the histogram \n",
    "plt.hist(jumps_lengths, bins=20)\n",
    "\n",
    "#ax.set_xscale('log')\n",
    "plt.show()\n",
    "\n",
    "seaborn.distplot(jumps_lengths, bins=20)\n",
    "plt.show()    \n",
    "    "
   ]
  }
 ],
 "metadata": {
  "kernelspec": {
   "display_name": "Python 3",
   "language": "python",
   "name": "python3"
  },
  "language_info": {
   "codemirror_mode": {
    "name": "ipython",
    "version": 3
   },
   "file_extension": ".py",
   "mimetype": "text/x-python",
   "name": "python",
   "nbconvert_exporter": "python",
   "pygments_lexer": "ipython3",
   "version": "3.6.7"
  }
 },
 "nbformat": 4,
 "nbformat_minor": 2
}
