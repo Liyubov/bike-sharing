{
 "cells": [
  {
   "cell_type": "markdown",
   "metadata": {},
   "source": [
    "# Anaylsis Bike Sharing Data"
   ]
  },
  {
   "cell_type": "code",
   "execution_count": 4,
   "metadata": {},
   "outputs": [],
   "source": [
    "import numpy as np\n",
    "import pandas as pd\n",
    "import datetime\n",
    "import matplotlib as plt\n",
    "%matplotlib inline\n",
    "from sqlalchemy import create_engine\n",
    "import requests\n",
    "import time\n",
    "\n",
    "import geopandas as gpd\n",
    "from shapely.geometry import Point\n",
    "from geopandas.tools import sjoin\n",
    "import geoplot"
   ]
  },
  {
   "cell_type": "markdown",
   "metadata": {},
   "source": [
    "# Analysis"
   ]
  },
  {
   "cell_type": "code",
   "execution_count": 12,
   "metadata": {},
   "outputs": [],
   "source": [
    "df = pd.read_csv('../../data/cleaned.csv', parse_dates=['timestamp','end_timestamp', 'duration'])"
   ]
  },
  {
   "cell_type": "code",
   "execution_count": 13,
   "metadata": {},
   "outputs": [
    {
     "data": {
      "text/html": [
       "<div>\n",
       "<style scoped>\n",
       "    .dataframe tbody tr th:only-of-type {\n",
       "        vertical-align: middle;\n",
       "    }\n",
       "\n",
       "    .dataframe tbody tr th {\n",
       "        vertical-align: top;\n",
       "    }\n",
       "\n",
       "    .dataframe thead th {\n",
       "        text-align: right;\n",
       "    }\n",
       "</style>\n",
       "<table border=\"1\" class=\"dataframe\">\n",
       "  <thead>\n",
       "    <tr style=\"text-align: right;\">\n",
       "      <th></th>\n",
       "      <th>id</th>\n",
       "      <th>id.1</th>\n",
       "      <th>bikeId</th>\n",
       "      <th>providerId</th>\n",
       "      <th>timestamp</th>\n",
       "      <th>latitude</th>\n",
       "      <th>longitude</th>\n",
       "      <th>prev_id</th>\n",
       "      <th>next_id</th>\n",
       "      <th>prev_lat</th>\n",
       "      <th>...</th>\n",
       "      <th>next_lon</th>\n",
       "      <th>end_timestamp</th>\n",
       "      <th>mode</th>\n",
       "      <th>response</th>\n",
       "      <th>geometry</th>\n",
       "      <th>distance</th>\n",
       "      <th>calc_time</th>\n",
       "      <th>waypoints</th>\n",
       "      <th>duration</th>\n",
       "      <th>speed</th>\n",
       "    </tr>\n",
       "  </thead>\n",
       "  <tbody>\n",
       "    <tr>\n",
       "      <th>0</th>\n",
       "      <td>1</td>\n",
       "      <td>1</td>\n",
       "      <td>13001</td>\n",
       "      <td>0</td>\n",
       "      <td>2019-04-05 08:20:04.689917</td>\n",
       "      <td>52.510327</td>\n",
       "      <td>13.405788</td>\n",
       "      <td>13001.0</td>\n",
       "      <td>13001.0</td>\n",
       "      <td>52.536506</td>\n",
       "      <td>...</td>\n",
       "      <td>13.405788</td>\n",
       "      <td>2019-04-05 13:44:04.154419</td>\n",
       "      <td>accessible</td>\n",
       "      <td>NaN</td>\n",
       "      <td>NaN</td>\n",
       "      <td>NaN</td>\n",
       "      <td>NaN</td>\n",
       "      <td>NaN</td>\n",
       "      <td>0 days 05:23:59.464502000</td>\n",
       "      <td>NaN</td>\n",
       "    </tr>\n",
       "    <tr>\n",
       "      <th>1</th>\n",
       "      <td>2</td>\n",
       "      <td>2</td>\n",
       "      <td>13001</td>\n",
       "      <td>0</td>\n",
       "      <td>2019-04-05 13:44:04.154419</td>\n",
       "      <td>52.510327</td>\n",
       "      <td>13.405788</td>\n",
       "      <td>13001.0</td>\n",
       "      <td>13001.0</td>\n",
       "      <td>52.510327</td>\n",
       "      <td>...</td>\n",
       "      <td>13.421259</td>\n",
       "      <td>2019-04-05 18:16:03.582939</td>\n",
       "      <td>trip</td>\n",
       "      <td>{'routes': [{'geometry': {'coordinates': [[13....</td>\n",
       "      <td>{'coordinates': [[13.405853, 52.510328], [13.4...</td>\n",
       "      <td>3238.3</td>\n",
       "      <td>939.0</td>\n",
       "      <td>[{'name': 'Neue Grünstraße', 'hint': 'OmIBgK6Q...</td>\n",
       "      <td>0 days 04:31:59.428520000</td>\n",
       "      <td>0.714356</td>\n",
       "    </tr>\n",
       "    <tr>\n",
       "      <th>2</th>\n",
       "      <td>3</td>\n",
       "      <td>3</td>\n",
       "      <td>13001</td>\n",
       "      <td>0</td>\n",
       "      <td>2019-04-05 18:16:03.582939</td>\n",
       "      <td>52.532190</td>\n",
       "      <td>13.421259</td>\n",
       "      <td>13001.0</td>\n",
       "      <td>13001.0</td>\n",
       "      <td>52.510327</td>\n",
       "      <td>...</td>\n",
       "      <td>13.421259</td>\n",
       "      <td>2019-04-05 18:20:04.351730</td>\n",
       "      <td>accessible</td>\n",
       "      <td>NaN</td>\n",
       "      <td>NaN</td>\n",
       "      <td>NaN</td>\n",
       "      <td>NaN</td>\n",
       "      <td>NaN</td>\n",
       "      <td>0 days 00:04:00.768791000</td>\n",
       "      <td>NaN</td>\n",
       "    </tr>\n",
       "    <tr>\n",
       "      <th>3</th>\n",
       "      <td>4</td>\n",
       "      <td>4</td>\n",
       "      <td>13001</td>\n",
       "      <td>0</td>\n",
       "      <td>2019-04-05 18:20:04.351730</td>\n",
       "      <td>52.532190</td>\n",
       "      <td>13.421259</td>\n",
       "      <td>13001.0</td>\n",
       "      <td>13001.0</td>\n",
       "      <td>52.532190</td>\n",
       "      <td>...</td>\n",
       "      <td>13.421317</td>\n",
       "      <td>2019-04-05 18:24:03.220242</td>\n",
       "      <td>accessible</td>\n",
       "      <td>NaN</td>\n",
       "      <td>NaN</td>\n",
       "      <td>NaN</td>\n",
       "      <td>NaN</td>\n",
       "      <td>NaN</td>\n",
       "      <td>0 days 00:03:58.868512000</td>\n",
       "      <td>NaN</td>\n",
       "    </tr>\n",
       "    <tr>\n",
       "      <th>4</th>\n",
       "      <td>5</td>\n",
       "      <td>5</td>\n",
       "      <td>13001</td>\n",
       "      <td>0</td>\n",
       "      <td>2019-04-05 18:24:03.220242</td>\n",
       "      <td>52.532183</td>\n",
       "      <td>13.421317</td>\n",
       "      <td>13001.0</td>\n",
       "      <td>13001.0</td>\n",
       "      <td>52.532190</td>\n",
       "      <td>...</td>\n",
       "      <td>13.421317</td>\n",
       "      <td>2019-04-06 12:48:04.815239</td>\n",
       "      <td>accessible</td>\n",
       "      <td>NaN</td>\n",
       "      <td>NaN</td>\n",
       "      <td>NaN</td>\n",
       "      <td>NaN</td>\n",
       "      <td>NaN</td>\n",
       "      <td>0 days 18:24:01.594997000</td>\n",
       "      <td>NaN</td>\n",
       "    </tr>\n",
       "  </tbody>\n",
       "</table>\n",
       "<p>5 rows × 22 columns</p>\n",
       "</div>"
      ],
      "text/plain": [
       "   id  id.1  bikeId  providerId                  timestamp   latitude  \\\n",
       "0   1     1   13001           0 2019-04-05 08:20:04.689917  52.510327   \n",
       "1   2     2   13001           0 2019-04-05 13:44:04.154419  52.510327   \n",
       "2   3     3   13001           0 2019-04-05 18:16:03.582939  52.532190   \n",
       "3   4     4   13001           0 2019-04-05 18:20:04.351730  52.532190   \n",
       "4   5     5   13001           0 2019-04-05 18:24:03.220242  52.532183   \n",
       "\n",
       "   longitude  prev_id  next_id   prev_lat  ...   next_lon  \\\n",
       "0  13.405788  13001.0  13001.0  52.536506  ...  13.405788   \n",
       "1  13.405788  13001.0  13001.0  52.510327  ...  13.421259   \n",
       "2  13.421259  13001.0  13001.0  52.510327  ...  13.421259   \n",
       "3  13.421259  13001.0  13001.0  52.532190  ...  13.421317   \n",
       "4  13.421317  13001.0  13001.0  52.532190  ...  13.421317   \n",
       "\n",
       "               end_timestamp        mode  \\\n",
       "0 2019-04-05 13:44:04.154419  accessible   \n",
       "1 2019-04-05 18:16:03.582939        trip   \n",
       "2 2019-04-05 18:20:04.351730  accessible   \n",
       "3 2019-04-05 18:24:03.220242  accessible   \n",
       "4 2019-04-06 12:48:04.815239  accessible   \n",
       "\n",
       "                                            response  \\\n",
       "0                                                NaN   \n",
       "1  {'routes': [{'geometry': {'coordinates': [[13....   \n",
       "2                                                NaN   \n",
       "3                                                NaN   \n",
       "4                                                NaN   \n",
       "\n",
       "                                            geometry distance calc_time  \\\n",
       "0                                                NaN      NaN       NaN   \n",
       "1  {'coordinates': [[13.405853, 52.510328], [13.4...   3238.3     939.0   \n",
       "2                                                NaN      NaN       NaN   \n",
       "3                                                NaN      NaN       NaN   \n",
       "4                                                NaN      NaN       NaN   \n",
       "\n",
       "                                           waypoints  \\\n",
       "0                                                NaN   \n",
       "1  [{'name': 'Neue Grünstraße', 'hint': 'OmIBgK6Q...   \n",
       "2                                                NaN   \n",
       "3                                                NaN   \n",
       "4                                                NaN   \n",
       "\n",
       "                    duration     speed  \n",
       "0  0 days 05:23:59.464502000       NaN  \n",
       "1  0 days 04:31:59.428520000  0.714356  \n",
       "2  0 days 00:04:00.768791000       NaN  \n",
       "3  0 days 00:03:58.868512000       NaN  \n",
       "4  0 days 18:24:01.594997000       NaN  \n",
       "\n",
       "[5 rows x 22 columns]"
      ]
     },
     "execution_count": 13,
     "metadata": {},
     "output_type": "execute_result"
    }
   ],
   "source": [
    "df.head()"
   ]
  },
  {
   "cell_type": "code",
   "execution_count": 15,
   "metadata": {},
   "outputs": [],
   "source": [
    "df.duration = df.end_timestamp - df.timestamp"
   ]
  },
  {
   "cell_type": "code",
   "execution_count": 253,
   "metadata": {},
   "outputs": [],
   "source": [
    "# day of the year\n",
    "df['yday'] = df.timestamp.apply(lambda x: x.timetuple().tm_yday)\n",
    "\n",
    "# hour of the day\n",
    "df['dhour'] = df.timestamp.apply(lambda x: x.time().hour)\n",
    "\n",
    "# \"hour of the year\"\n",
    "df['yhour'] = df.timestamp.apply(lambda x: str(x.time().hour) + str(x.timetuple().tm_yday))\n",
    "\n",
    "# day of week\n",
    "df['dweek'] = df.timestamp.apply(lambda x: x.weekday())"
   ]
  },
  {
   "cell_type": "code",
   "execution_count": 16,
   "metadata": {},
   "outputs": [
    {
     "data": {
      "text/html": [
       "<div>\n",
       "<style scoped>\n",
       "    .dataframe tbody tr th:only-of-type {\n",
       "        vertical-align: middle;\n",
       "    }\n",
       "\n",
       "    .dataframe tbody tr th {\n",
       "        vertical-align: top;\n",
       "    }\n",
       "\n",
       "    .dataframe thead th {\n",
       "        text-align: right;\n",
       "    }\n",
       "</style>\n",
       "<table border=\"1\" class=\"dataframe\">\n",
       "  <thead>\n",
       "    <tr style=\"text-align: right;\">\n",
       "      <th></th>\n",
       "      <th>id</th>\n",
       "      <th>id.1</th>\n",
       "      <th>bikeId</th>\n",
       "      <th>providerId</th>\n",
       "      <th>latitude</th>\n",
       "      <th>longitude</th>\n",
       "      <th>prev_id</th>\n",
       "      <th>next_id</th>\n",
       "      <th>prev_lat</th>\n",
       "      <th>prev_lon</th>\n",
       "      <th>next_lat</th>\n",
       "      <th>next_lon</th>\n",
       "      <th>distance</th>\n",
       "      <th>calc_time</th>\n",
       "      <th>duration</th>\n",
       "      <th>speed</th>\n",
       "    </tr>\n",
       "  </thead>\n",
       "  <tbody>\n",
       "    <tr>\n",
       "      <th>count</th>\n",
       "      <td>3.626252e+06</td>\n",
       "      <td>3.626252e+06</td>\n",
       "      <td>3.626252e+06</td>\n",
       "      <td>3.626252e+06</td>\n",
       "      <td>3.626252e+06</td>\n",
       "      <td>3.626252e+06</td>\n",
       "      <td>3.626252e+06</td>\n",
       "      <td>3.626252e+06</td>\n",
       "      <td>3.626252e+06</td>\n",
       "      <td>3.626252e+06</td>\n",
       "      <td>3.626252e+06</td>\n",
       "      <td>3.626252e+06</td>\n",
       "      <td>661064.000000</td>\n",
       "      <td>661064.000000</td>\n",
       "      <td>3626252</td>\n",
       "      <td>661064.000000</td>\n",
       "    </tr>\n",
       "    <tr>\n",
       "      <th>mean</th>\n",
       "      <td>2.440943e+06</td>\n",
       "      <td>2.440943e+06</td>\n",
       "      <td>6.123823e+08</td>\n",
       "      <td>1.679179e+00</td>\n",
       "      <td>5.250986e+01</td>\n",
       "      <td>1.338660e+01</td>\n",
       "      <td>6.123821e+08</td>\n",
       "      <td>6.123823e+08</td>\n",
       "      <td>5.250986e+01</td>\n",
       "      <td>1.338672e+01</td>\n",
       "      <td>5.250985e+01</td>\n",
       "      <td>1.338661e+01</td>\n",
       "      <td>2041.843521</td>\n",
       "      <td>612.488476</td>\n",
       "      <td>0 days 04:10:38.520627</td>\n",
       "      <td>4.711225</td>\n",
       "    </tr>\n",
       "    <tr>\n",
       "      <th>std</th>\n",
       "      <td>1.463192e+06</td>\n",
       "      <td>1.463192e+06</td>\n",
       "      <td>3.509698e+08</td>\n",
       "      <td>6.040748e-01</td>\n",
       "      <td>2.151929e-02</td>\n",
       "      <td>4.751760e-02</td>\n",
       "      <td>3.509699e+08</td>\n",
       "      <td>3.509698e+08</td>\n",
       "      <td>3.071263e-02</td>\n",
       "      <td>1.346206e-01</td>\n",
       "      <td>2.152272e-02</td>\n",
       "      <td>4.754076e-02</td>\n",
       "      <td>2067.833651</td>\n",
       "      <td>572.172023</td>\n",
       "      <td>0 days 10:47:34.954197</td>\n",
       "      <td>5.547541</td>\n",
       "    </tr>\n",
       "    <tr>\n",
       "      <th>min</th>\n",
       "      <td>1.000000e+00</td>\n",
       "      <td>1.000000e+00</td>\n",
       "      <td>1.300100e+04</td>\n",
       "      <td>0.000000e+00</td>\n",
       "      <td>5.233902e+01</td>\n",
       "      <td>1.301072e+01</td>\n",
       "      <td>1.300100e+04</td>\n",
       "      <td>1.300100e+04</td>\n",
       "      <td>2.248054e+01</td>\n",
       "      <td>-1.344200e+02</td>\n",
       "      <td>5.233902e+01</td>\n",
       "      <td>1.301072e+01</td>\n",
       "      <td>100.100000</td>\n",
       "      <td>16.900000</td>\n",
       "      <td>0 days 00:00:06.225870</td>\n",
       "      <td>0.004344</td>\n",
       "    </tr>\n",
       "    <tr>\n",
       "      <th>25%</th>\n",
       "      <td>1.121774e+06</td>\n",
       "      <td>1.121774e+06</td>\n",
       "      <td>8.100001e+08</td>\n",
       "      <td>2.000000e+00</td>\n",
       "      <td>5.249344e+01</td>\n",
       "      <td>1.334914e+01</td>\n",
       "      <td>8.100001e+08</td>\n",
       "      <td>8.100001e+08</td>\n",
       "      <td>5.249337e+01</td>\n",
       "      <td>1.334957e+01</td>\n",
       "      <td>5.249342e+01</td>\n",
       "      <td>1.334915e+01</td>\n",
       "      <td>349.800000</td>\n",
       "      <td>153.300000</td>\n",
       "      <td>0 days 00:27:58.510768</td>\n",
       "      <td>0.526149</td>\n",
       "    </tr>\n",
       "    <tr>\n",
       "      <th>50%</th>\n",
       "      <td>2.425638e+06</td>\n",
       "      <td>2.425638e+06</td>\n",
       "      <td>8.100236e+08</td>\n",
       "      <td>2.000000e+00</td>\n",
       "      <td>5.250907e+01</td>\n",
       "      <td>1.338850e+01</td>\n",
       "      <td>8.100236e+08</td>\n",
       "      <td>8.100236e+08</td>\n",
       "      <td>5.250911e+01</td>\n",
       "      <td>1.338901e+01</td>\n",
       "      <td>5.250905e+01</td>\n",
       "      <td>1.338850e+01</td>\n",
       "      <td>1432.700000</td>\n",
       "      <td>445.300000</td>\n",
       "      <td>0 days 02:28:00.087468</td>\n",
       "      <td>2.731577</td>\n",
       "    </tr>\n",
       "    <tr>\n",
       "      <th>75%</th>\n",
       "      <td>3.714876e+06</td>\n",
       "      <td>3.714876e+06</td>\n",
       "      <td>8.160356e+08</td>\n",
       "      <td>2.000000e+00</td>\n",
       "      <td>5.252607e+01</td>\n",
       "      <td>1.342509e+01</td>\n",
       "      <td>8.160356e+08</td>\n",
       "      <td>8.160356e+08</td>\n",
       "      <td>5.252615e+01</td>\n",
       "      <td>1.342520e+01</td>\n",
       "      <td>5.252606e+01</td>\n",
       "      <td>1.342513e+01</td>\n",
       "      <td>3018.700000</td>\n",
       "      <td>893.100000</td>\n",
       "      <td>0 days 03:47:59.027103</td>\n",
       "      <td>7.240797</td>\n",
       "    </tr>\n",
       "    <tr>\n",
       "      <th>max</th>\n",
       "      <td>5.000216e+06</td>\n",
       "      <td>5.000216e+06</td>\n",
       "      <td>8.160550e+08</td>\n",
       "      <td>2.000000e+00</td>\n",
       "      <td>5.268865e+01</td>\n",
       "      <td>1.378699e+01</td>\n",
       "      <td>8.160550e+08</td>\n",
       "      <td>8.160550e+08</td>\n",
       "      <td>5.830499e+01</td>\n",
       "      <td>1.631155e+01</td>\n",
       "      <td>5.268865e+01</td>\n",
       "      <td>1.378699e+01</td>\n",
       "      <td>34504.700000</td>\n",
       "      <td>9376.200000</td>\n",
       "      <td>93 days 21:35:59.111435</td>\n",
       "      <td>29.999916</td>\n",
       "    </tr>\n",
       "  </tbody>\n",
       "</table>\n",
       "</div>"
      ],
      "text/plain": [
       "                 id          id.1        bikeId    providerId      latitude  \\\n",
       "count  3.626252e+06  3.626252e+06  3.626252e+06  3.626252e+06  3.626252e+06   \n",
       "mean   2.440943e+06  2.440943e+06  6.123823e+08  1.679179e+00  5.250986e+01   \n",
       "std    1.463192e+06  1.463192e+06  3.509698e+08  6.040748e-01  2.151929e-02   \n",
       "min    1.000000e+00  1.000000e+00  1.300100e+04  0.000000e+00  5.233902e+01   \n",
       "25%    1.121774e+06  1.121774e+06  8.100001e+08  2.000000e+00  5.249344e+01   \n",
       "50%    2.425638e+06  2.425638e+06  8.100236e+08  2.000000e+00  5.250907e+01   \n",
       "75%    3.714876e+06  3.714876e+06  8.160356e+08  2.000000e+00  5.252607e+01   \n",
       "max    5.000216e+06  5.000216e+06  8.160550e+08  2.000000e+00  5.268865e+01   \n",
       "\n",
       "          longitude       prev_id       next_id      prev_lat      prev_lon  \\\n",
       "count  3.626252e+06  3.626252e+06  3.626252e+06  3.626252e+06  3.626252e+06   \n",
       "mean   1.338660e+01  6.123821e+08  6.123823e+08  5.250986e+01  1.338672e+01   \n",
       "std    4.751760e-02  3.509699e+08  3.509698e+08  3.071263e-02  1.346206e-01   \n",
       "min    1.301072e+01  1.300100e+04  1.300100e+04  2.248054e+01 -1.344200e+02   \n",
       "25%    1.334914e+01  8.100001e+08  8.100001e+08  5.249337e+01  1.334957e+01   \n",
       "50%    1.338850e+01  8.100236e+08  8.100236e+08  5.250911e+01  1.338901e+01   \n",
       "75%    1.342509e+01  8.160356e+08  8.160356e+08  5.252615e+01  1.342520e+01   \n",
       "max    1.378699e+01  8.160550e+08  8.160550e+08  5.830499e+01  1.631155e+01   \n",
       "\n",
       "           next_lat      next_lon       distance      calc_time  \\\n",
       "count  3.626252e+06  3.626252e+06  661064.000000  661064.000000   \n",
       "mean   5.250985e+01  1.338661e+01    2041.843521     612.488476   \n",
       "std    2.152272e-02  4.754076e-02    2067.833651     572.172023   \n",
       "min    5.233902e+01  1.301072e+01     100.100000      16.900000   \n",
       "25%    5.249342e+01  1.334915e+01     349.800000     153.300000   \n",
       "50%    5.250905e+01  1.338850e+01    1432.700000     445.300000   \n",
       "75%    5.252606e+01  1.342513e+01    3018.700000     893.100000   \n",
       "max    5.268865e+01  1.378699e+01   34504.700000    9376.200000   \n",
       "\n",
       "                      duration          speed  \n",
       "count                  3626252  661064.000000  \n",
       "mean    0 days 04:10:38.520627       4.711225  \n",
       "std     0 days 10:47:34.954197       5.547541  \n",
       "min     0 days 00:00:06.225870       0.004344  \n",
       "25%     0 days 00:27:58.510768       0.526149  \n",
       "50%     0 days 02:28:00.087468       2.731577  \n",
       "75%     0 days 03:47:59.027103       7.240797  \n",
       "max    93 days 21:35:59.111435      29.999916  "
      ]
     },
     "execution_count": 16,
     "metadata": {},
     "output_type": "execute_result"
    }
   ],
   "source": [
    "df.describe()"
   ]
  },
  {
   "cell_type": "code",
   "execution_count": 17,
   "metadata": {},
   "outputs": [
    {
     "data": {
      "text/plain": [
       "accessible    2965188\n",
       "trip           661064\n",
       "Name: mode, dtype: int64"
      ]
     },
     "execution_count": 17,
     "metadata": {},
     "output_type": "execute_result"
    }
   ],
   "source": [
    "df['mode'].value_counts()"
   ]
  },
  {
   "cell_type": "code",
   "execution_count": 18,
   "metadata": {},
   "outputs": [
    {
     "data": {
      "text/html": [
       "<div>\n",
       "<style scoped>\n",
       "    .dataframe tbody tr th:only-of-type {\n",
       "        vertical-align: middle;\n",
       "    }\n",
       "\n",
       "    .dataframe tbody tr th {\n",
       "        vertical-align: top;\n",
       "    }\n",
       "\n",
       "    .dataframe thead th {\n",
       "        text-align: right;\n",
       "    }\n",
       "</style>\n",
       "<table border=\"1\" class=\"dataframe\">\n",
       "  <thead>\n",
       "    <tr style=\"text-align: right;\">\n",
       "      <th></th>\n",
       "      <th>count</th>\n",
       "      <th>mean</th>\n",
       "      <th>std</th>\n",
       "      <th>min</th>\n",
       "      <th>25%</th>\n",
       "      <th>50%</th>\n",
       "      <th>75%</th>\n",
       "      <th>max</th>\n",
       "    </tr>\n",
       "    <tr>\n",
       "      <th>providerId</th>\n",
       "      <th></th>\n",
       "      <th></th>\n",
       "      <th></th>\n",
       "      <th></th>\n",
       "      <th></th>\n",
       "      <th></th>\n",
       "      <th></th>\n",
       "      <th></th>\n",
       "    </tr>\n",
       "  </thead>\n",
       "  <tbody>\n",
       "    <tr>\n",
       "      <th>0</th>\n",
       "      <td>101215.0</td>\n",
       "      <td>3028.931747</td>\n",
       "      <td>2337.679531</td>\n",
       "      <td>100.1</td>\n",
       "      <td>1327.65</td>\n",
       "      <td>2507.6</td>\n",
       "      <td>4221.45</td>\n",
       "      <td>34504.7</td>\n",
       "    </tr>\n",
       "    <tr>\n",
       "      <th>1</th>\n",
       "      <td>211512.0</td>\n",
       "      <td>2539.926076</td>\n",
       "      <td>1986.279083</td>\n",
       "      <td>100.1</td>\n",
       "      <td>1060.30</td>\n",
       "      <td>2059.8</td>\n",
       "      <td>3588.20</td>\n",
       "      <td>18159.2</td>\n",
       "    </tr>\n",
       "    <tr>\n",
       "      <th>2</th>\n",
       "      <td>348337.0</td>\n",
       "      <td>1452.590665</td>\n",
       "      <td>1830.389019</td>\n",
       "      <td>100.1</td>\n",
       "      <td>196.00</td>\n",
       "      <td>646.0</td>\n",
       "      <td>1986.10</td>\n",
       "      <td>13909.0</td>\n",
       "    </tr>\n",
       "  </tbody>\n",
       "</table>\n",
       "</div>"
      ],
      "text/plain": [
       "               count         mean          std    min      25%     50%  \\\n",
       "providerId                                                               \n",
       "0           101215.0  3028.931747  2337.679531  100.1  1327.65  2507.6   \n",
       "1           211512.0  2539.926076  1986.279083  100.1  1060.30  2059.8   \n",
       "2           348337.0  1452.590665  1830.389019  100.1   196.00   646.0   \n",
       "\n",
       "                75%      max  \n",
       "providerId                    \n",
       "0           4221.45  34504.7  \n",
       "1           3588.20  18159.2  \n",
       "2           1986.10  13909.0  "
      ]
     },
     "execution_count": 18,
     "metadata": {},
     "output_type": "execute_result"
    }
   ],
   "source": [
    "df.groupby('providerId').distance.describe()"
   ]
  },
  {
   "cell_type": "code",
   "execution_count": 291,
   "metadata": {},
   "outputs": [],
   "source": [
    "trips = df[df['mode'] == 'trip']"
   ]
  },
  {
   "cell_type": "code",
   "execution_count": 25,
   "metadata": {},
   "outputs": [
    {
     "data": {
      "text/html": [
       "<div>\n",
       "<style scoped>\n",
       "    .dataframe tbody tr th:only-of-type {\n",
       "        vertical-align: middle;\n",
       "    }\n",
       "\n",
       "    .dataframe tbody tr th {\n",
       "        vertical-align: top;\n",
       "    }\n",
       "\n",
       "    .dataframe thead th {\n",
       "        text-align: right;\n",
       "    }\n",
       "</style>\n",
       "<table border=\"1\" class=\"dataframe\">\n",
       "  <thead>\n",
       "    <tr style=\"text-align: right;\">\n",
       "      <th></th>\n",
       "      <th>count</th>\n",
       "      <th>mean</th>\n",
       "      <th>std</th>\n",
       "      <th>min</th>\n",
       "      <th>25%</th>\n",
       "      <th>50%</th>\n",
       "      <th>75%</th>\n",
       "      <th>max</th>\n",
       "    </tr>\n",
       "    <tr>\n",
       "      <th>providerId</th>\n",
       "      <th></th>\n",
       "      <th></th>\n",
       "      <th></th>\n",
       "      <th></th>\n",
       "      <th></th>\n",
       "      <th></th>\n",
       "      <th></th>\n",
       "      <th></th>\n",
       "    </tr>\n",
       "  </thead>\n",
       "  <tbody>\n",
       "    <tr>\n",
       "      <th>0</th>\n",
       "      <td>101215</td>\n",
       "      <td>0 days 03:17:01.500578</td>\n",
       "      <td>0 days 05:49:03.241760</td>\n",
       "      <td>0 days 00:02:52.188922</td>\n",
       "      <td>0 days 00:16:00.068861</td>\n",
       "      <td>0 days 00:31:35.060509</td>\n",
       "      <td>0 days 02:40:00.061074</td>\n",
       "      <td>0 days 23:59:59.988111</td>\n",
       "    </tr>\n",
       "    <tr>\n",
       "      <th>1</th>\n",
       "      <td>211512</td>\n",
       "      <td>0 days 00:47:05.558576</td>\n",
       "      <td>0 days 02:09:48.783779</td>\n",
       "      <td>0 days 00:02:34.203400</td>\n",
       "      <td>0 days 00:12:01.582322</td>\n",
       "      <td>0 days 00:20:00.140818</td>\n",
       "      <td>0 days 00:31:59.752732</td>\n",
       "      <td>0 days 23:59:59.885565</td>\n",
       "    </tr>\n",
       "    <tr>\n",
       "      <th>2</th>\n",
       "      <td>348337</td>\n",
       "      <td>0 days 02:34:14.975155</td>\n",
       "      <td>0 days 04:44:07.595819</td>\n",
       "      <td>0 days 00:02:43.350700</td>\n",
       "      <td>0 days 00:12:10.527099</td>\n",
       "      <td>0 days 00:32:00.361968</td>\n",
       "      <td>0 days 02:07:59.880636</td>\n",
       "      <td>0 days 23:59:59.973159</td>\n",
       "    </tr>\n",
       "  </tbody>\n",
       "</table>\n",
       "</div>"
      ],
      "text/plain": [
       "             count                    mean                     std  \\\n",
       "providerId                                                           \n",
       "0           101215  0 days 03:17:01.500578  0 days 05:49:03.241760   \n",
       "1           211512  0 days 00:47:05.558576  0 days 02:09:48.783779   \n",
       "2           348337  0 days 02:34:14.975155  0 days 04:44:07.595819   \n",
       "\n",
       "                               min                     25%  \\\n",
       "providerId                                                   \n",
       "0           0 days 00:02:52.188922  0 days 00:16:00.068861   \n",
       "1           0 days 00:02:34.203400  0 days 00:12:01.582322   \n",
       "2           0 days 00:02:43.350700  0 days 00:12:10.527099   \n",
       "\n",
       "                               50%                     75%  \\\n",
       "providerId                                                   \n",
       "0           0 days 00:31:35.060509  0 days 02:40:00.061074   \n",
       "1           0 days 00:20:00.140818  0 days 00:31:59.752732   \n",
       "2           0 days 00:32:00.361968  0 days 02:07:59.880636   \n",
       "\n",
       "                               max  \n",
       "providerId                          \n",
       "0           0 days 23:59:59.988111  \n",
       "1           0 days 23:59:59.885565  \n",
       "2           0 days 23:59:59.973159  "
      ]
     },
     "execution_count": 25,
     "metadata": {},
     "output_type": "execute_result"
    }
   ],
   "source": [
    "trips.groupby('providerId').duration.describe()"
   ]
  },
  {
   "cell_type": "code",
   "execution_count": null,
   "metadata": {},
   "outputs": [],
   "source": [
    "# histogram of minutes spent on trip\n",
    "df.duration.apply(lambda x: x.seconds / 60).hist(range=(0,250))"
   ]
  },
  {
   "cell_type": "code",
   "execution_count": null,
   "metadata": {},
   "outputs": [],
   "source": [
    "# average duration of trips and accesible quases"
   ]
  },
  {
   "cell_type": "code",
   "execution_count": 27,
   "metadata": {},
   "outputs": [],
   "source": [
    "df.loc[:,'hourly_starttime'] = df.timestamp.apply(lambda dt: datetime.datetime(dt.year, dt.month, dt.day, dt.hour,15*(dt.minute // 60)))"
   ]
  },
  {
   "cell_type": "code",
   "execution_count": 66,
   "metadata": {},
   "outputs": [],
   "source": [
    "counts = trips[['bikeId', 'hourly_starttime']].groupby(['hourly_starttime']).count()"
   ]
  },
  {
   "cell_type": "code",
   "execution_count": 69,
   "metadata": {},
   "outputs": [],
   "source": [
    "nb = trips[trips.providerId == 0][['bikeId', 'hourly_starttime']].groupby(['hourly_starttime']).count()"
   ]
  },
  {
   "cell_type": "code",
   "execution_count": 71,
   "metadata": {},
   "outputs": [],
   "source": [
    "lb = trips[trips.providerId == 1][['bikeId', 'hourly_starttime']].groupby(['hourly_starttime']).count()"
   ]
  },
  {
   "cell_type": "code",
   "execution_count": 72,
   "metadata": {},
   "outputs": [],
   "source": [
    "mb = trips[trips.providerId == 2][['bikeId', 'hourly_starttime']].groupby(['hourly_starttime']).count()"
   ]
  },
  {
   "cell_type": "code",
   "execution_count": 73,
   "metadata": {},
   "outputs": [
    {
     "data": {
      "text/plain": [
       "<matplotlib.axes._subplots.AxesSubplot at 0x1b7a02ed6a0>"
      ]
     },
     "execution_count": 73,
     "metadata": {},
     "output_type": "execute_result"
    },
    {
     "data": {
      "image/png": "[encoded data removed]",
      "text/plain": [
       "<Figure size 432x288 with 1 Axes>"
      ]
     },
     "metadata": {
      "needs_background": "light"
     },
     "output_type": "display_data"
    },
    {
     "data": {
      "image/png": "[encoded data removed]",
      "text/plain": [
       "<Figure size 432x288 with 1 Axes>"
      ]
     },
     "metadata": {
      "needs_background": "light"
     },
     "output_type": "display_data"
    },
    {
     "data": {
      "image/png": "[encoded data removed]",
      "text/plain": [
       "<Figure size 432x288 with 1 Axes>"
      ]
     },
     "metadata": {
      "needs_background": "light"
     },
     "output_type": "display_data"
    }
   ],
   "source": [
    "nb.plot()\n",
    "lb.plot()\n",
    "mb.plot()"
   ]
  },
  {
   "cell_type": "code",
   "execution_count": 67,
   "metadata": {},
   "outputs": [
    {
     "data": {
      "text/plain": [
       "<matplotlib.axes._subplots.AxesSubplot at 0x1b7f03eaac8>"
      ]
     },
     "execution_count": 67,
     "metadata": {},
     "output_type": "execute_result"
    },
    {
     "data": {
      "image/png": "[encoded data removed]",
      "text/plain": [
       "<Figure size 720x360 with 1 Axes>"
      ]
     },
     "metadata": {
      "needs_background": "light"
     },
     "output_type": "display_data"
    }
   ],
   "source": [
    "counts.plot(figsize=(10,5))"
   ]
  },
  {
   "cell_type": "code",
   "execution_count": 35,
   "metadata": {},
   "outputs": [
    {
     "data": {
      "text/plain": [
       "<matplotlib.axes._subplots.AxesSubplot at 0x1b7cb9c40b8>"
      ]
     },
     "execution_count": 35,
     "metadata": {},
     "output_type": "execute_result"
    },
    {
     "data": {
      "image/png": "[encoded data removed]",
      "text/plain": [
       "<Figure size 1440x720 with 1 Axes>"
      ]
     },
     "metadata": {
      "needs_background": "light"
     },
     "output_type": "display_data"
    }
   ],
   "source": [
    "counts[100:300].plot(figsize=(20,10))"
   ]
  },
  {
   "cell_type": "markdown",
   "metadata": {},
   "source": [
    "### original data"
   ]
  },
  {
   "cell_type": "markdown",
   "metadata": {},
   "source": [
    "#### How many unique bike IDs are there (per provider)?"
   ]
  },
  {
   "cell_type": "code",
   "execution_count": 74,
   "metadata": {},
   "outputs": [],
   "source": [
    "# how many bikes are available / on a trip for each hour?\n",
    "def get_unique_ids_per_day(df):\n",
    "    daily_unique = pd.DataFrame()\n",
    "\n",
    "    start_time = df.sort_values('timestamp').reset_index().loc[0,'timestamp']\n",
    "    end_time = df.sort_values('timestamp').reset_index().loc[df.shape[0]-2, 'timestamp']\n",
    "    times= []\n",
    "    \n",
    "    # get all desired times\n",
    "    while start_time < end_time:\n",
    "        times.append(start_time)\n",
    "        start_time += datetime.timedelta(hours=24)\n",
    "    \n",
    "    daily_unique['time'] = times\n",
    "    daily_unique['total'] = daily_unique.time.apply(lambda x: df[\n",
    "               (df.timestamp <= x) & \n",
    "               (df.end_timestamp > x)].bikeId.unique().shape[0])\n",
    "    daily_unique['nextbike'] = daily_unique.time.apply(lambda x: df[\n",
    "               (df.providerId == 0)&\n",
    "               (df.timestamp <= x) & \n",
    "               (df.end_timestamp > x)].bikeId.unique().shape[0])\n",
    "    daily_unique['lidlbike'] = daily_unique.time.apply(lambda x: df[\n",
    "               (df.providerId == 1)&\n",
    "               (df.timestamp <= x) & \n",
    "               (df.end_timestamp > x)].bikeId.unique().shape[0])\n",
    "    daily_unique['mobike'] = daily_unique.time.apply(lambda x: df[\n",
    "               (df.providerId == 2)&\n",
    "               (df.timestamp <= x) & \n",
    "               (df.end_timestamp > x)].bikeId.unique().shape[0])\n",
    "    \n",
    "    return daily_unique\n",
    "    "
   ]
  },
  {
   "cell_type": "code",
   "execution_count": 75,
   "metadata": {},
   "outputs": [],
   "source": [
    "def get_unique_ids(df):\n",
    "    unique_bikes = pd.DataFrame()\n",
    "    unique_bikes = unique_bikes.append([([df.bikeId.unique().shape[0], df[(df.providerId == 0)].bikeId.unique().shape[0], \n",
    "             df[(df.providerId == 1)].bikeId.unique().shape[0],\n",
    "             df[(df.providerId == 2)].bikeId.unique().shape[0]])])\n",
    "    unique_bikes.columns = [['total', 'nextbike', 'lidlbike', 'mobike']]\n",
    "    return unique_bikes"
   ]
  },
  {
   "cell_type": "code",
   "execution_count": 76,
   "metadata": {},
   "outputs": [],
   "source": [
    "daily_uniques = get_unique_ids_per_day(df)"
   ]
  },
  {
   "cell_type": "code",
   "execution_count": 77,
   "metadata": {},
   "outputs": [
    {
     "data": {
      "text/html": [
       "<div>\n",
       "<style scoped>\n",
       "    .dataframe tbody tr th:only-of-type {\n",
       "        vertical-align: middle;\n",
       "    }\n",
       "\n",
       "    .dataframe tbody tr th {\n",
       "        vertical-align: top;\n",
       "    }\n",
       "\n",
       "    .dataframe thead th {\n",
       "        text-align: right;\n",
       "    }\n",
       "</style>\n",
       "<table border=\"1\" class=\"dataframe\">\n",
       "  <thead>\n",
       "    <tr style=\"text-align: right;\">\n",
       "      <th></th>\n",
       "      <th>total</th>\n",
       "      <th>nextbike</th>\n",
       "      <th>lidlbike</th>\n",
       "      <th>mobike</th>\n",
       "    </tr>\n",
       "  </thead>\n",
       "  <tbody>\n",
       "    <tr>\n",
       "      <th>count</th>\n",
       "      <td>102.000000</td>\n",
       "      <td>102.000000</td>\n",
       "      <td>102.000000</td>\n",
       "      <td>102.000000</td>\n",
       "    </tr>\n",
       "    <tr>\n",
       "      <th>mean</th>\n",
       "      <td>6200.647059</td>\n",
       "      <td>1054.480392</td>\n",
       "      <td>2343.431373</td>\n",
       "      <td>2802.735294</td>\n",
       "    </tr>\n",
       "    <tr>\n",
       "      <th>std</th>\n",
       "      <td>1435.069182</td>\n",
       "      <td>186.135303</td>\n",
       "      <td>926.606707</td>\n",
       "      <td>972.236545</td>\n",
       "    </tr>\n",
       "    <tr>\n",
       "      <th>min</th>\n",
       "      <td>265.000000</td>\n",
       "      <td>86.000000</td>\n",
       "      <td>95.000000</td>\n",
       "      <td>0.000000</td>\n",
       "    </tr>\n",
       "    <tr>\n",
       "      <th>25%</th>\n",
       "      <td>5523.000000</td>\n",
       "      <td>978.250000</td>\n",
       "      <td>2584.750000</td>\n",
       "      <td>3017.750000</td>\n",
       "    </tr>\n",
       "    <tr>\n",
       "      <th>50%</th>\n",
       "      <td>6904.500000</td>\n",
       "      <td>1063.500000</td>\n",
       "      <td>2731.000000</td>\n",
       "      <td>3130.000000</td>\n",
       "    </tr>\n",
       "    <tr>\n",
       "      <th>75%</th>\n",
       "      <td>7125.750000</td>\n",
       "      <td>1180.000000</td>\n",
       "      <td>2800.000000</td>\n",
       "      <td>3222.000000</td>\n",
       "    </tr>\n",
       "    <tr>\n",
       "      <th>max</th>\n",
       "      <td>7382.000000</td>\n",
       "      <td>1343.000000</td>\n",
       "      <td>2954.000000</td>\n",
       "      <td>3502.000000</td>\n",
       "    </tr>\n",
       "  </tbody>\n",
       "</table>\n",
       "</div>"
      ],
      "text/plain": [
       "             total     nextbike     lidlbike       mobike\n",
       "count   102.000000   102.000000   102.000000   102.000000\n",
       "mean   6200.647059  1054.480392  2343.431373  2802.735294\n",
       "std    1435.069182   186.135303   926.606707   972.236545\n",
       "min     265.000000    86.000000    95.000000     0.000000\n",
       "25%    5523.000000   978.250000  2584.750000  3017.750000\n",
       "50%    6904.500000  1063.500000  2731.000000  3130.000000\n",
       "75%    7125.750000  1180.000000  2800.000000  3222.000000\n",
       "max    7382.000000  1343.000000  2954.000000  3502.000000"
      ]
     },
     "execution_count": 77,
     "metadata": {},
     "output_type": "execute_result"
    }
   ],
   "source": [
    "daily_uniques.describe()"
   ]
  },
  {
   "cell_type": "code",
   "execution_count": 386,
   "metadata": {},
   "outputs": [
    {
     "data": {
      "text/html": [
       "<div>\n",
       "<style scoped>\n",
       "    .dataframe tbody tr th:only-of-type {\n",
       "        vertical-align: middle;\n",
       "    }\n",
       "\n",
       "    .dataframe tbody tr th {\n",
       "        vertical-align: top;\n",
       "    }\n",
       "\n",
       "    .dataframe thead tr th {\n",
       "        text-align: left;\n",
       "    }\n",
       "</style>\n",
       "<table border=\"1\" class=\"dataframe\">\n",
       "  <thead>\n",
       "    <tr>\n",
       "      <th></th>\n",
       "      <th>total</th>\n",
       "      <th>nextbike</th>\n",
       "      <th>lidlbike</th>\n",
       "      <th>mobike</th>\n",
       "    </tr>\n",
       "  </thead>\n",
       "  <tbody>\n",
       "    <tr>\n",
       "      <th>0</th>\n",
       "      <td>14546</td>\n",
       "      <td>2390</td>\n",
       "      <td>2816</td>\n",
       "      <td>9340</td>\n",
       "    </tr>\n",
       "  </tbody>\n",
       "</table>\n",
       "</div>"
      ],
      "text/plain": [
       "   total nextbike lidlbike mobike\n",
       "0  14546     2390     2816   9340"
      ]
     },
     "execution_count": 386,
     "metadata": {},
     "output_type": "execute_result"
    }
   ],
   "source": [
    "uniques = get_unique_ids(df)\n",
    "uniques"
   ]
  },
  {
   "cell_type": "markdown",
   "metadata": {},
   "source": [
    "#### How much time is a bike used? "
   ]
  },
  {
   "cell_type": "code",
   "execution_count": 87,
   "metadata": {},
   "outputs": [
    {
     "data": {
      "text/html": [
       "<div>\n",
       "<style scoped>\n",
       "    .dataframe tbody tr th:only-of-type {\n",
       "        vertical-align: middle;\n",
       "    }\n",
       "\n",
       "    .dataframe tbody tr th {\n",
       "        vertical-align: top;\n",
       "    }\n",
       "\n",
       "    .dataframe thead th {\n",
       "        text-align: right;\n",
       "    }\n",
       "</style>\n",
       "<table border=\"1\" class=\"dataframe\">\n",
       "  <thead>\n",
       "    <tr style=\"text-align: right;\">\n",
       "      <th></th>\n",
       "      <th>count</th>\n",
       "      <th>mean</th>\n",
       "      <th>std</th>\n",
       "      <th>min</th>\n",
       "      <th>25%</th>\n",
       "      <th>50%</th>\n",
       "      <th>75%</th>\n",
       "      <th>max</th>\n",
       "    </tr>\n",
       "    <tr>\n",
       "      <th>providerId</th>\n",
       "      <th></th>\n",
       "      <th></th>\n",
       "      <th></th>\n",
       "      <th></th>\n",
       "      <th></th>\n",
       "      <th></th>\n",
       "      <th></th>\n",
       "      <th></th>\n",
       "    </tr>\n",
       "  </thead>\n",
       "  <tbody>\n",
       "    <tr>\n",
       "      <th>0</th>\n",
       "      <td>2365.0</td>\n",
       "      <td>42.797040</td>\n",
       "      <td>16.472283</td>\n",
       "      <td>1.0</td>\n",
       "      <td>33.0</td>\n",
       "      <td>43.0</td>\n",
       "      <td>53.0</td>\n",
       "      <td>191.0</td>\n",
       "    </tr>\n",
       "    <tr>\n",
       "      <th>1</th>\n",
       "      <td>3551.0</td>\n",
       "      <td>59.564066</td>\n",
       "      <td>26.760414</td>\n",
       "      <td>1.0</td>\n",
       "      <td>42.0</td>\n",
       "      <td>62.0</td>\n",
       "      <td>79.0</td>\n",
       "      <td>161.0</td>\n",
       "    </tr>\n",
       "    <tr>\n",
       "      <th>2</th>\n",
       "      <td>9186.0</td>\n",
       "      <td>37.920422</td>\n",
       "      <td>69.884386</td>\n",
       "      <td>1.0</td>\n",
       "      <td>17.0</td>\n",
       "      <td>30.0</td>\n",
       "      <td>45.0</td>\n",
       "      <td>1823.0</td>\n",
       "    </tr>\n",
       "  </tbody>\n",
       "</table>\n",
       "</div>"
      ],
      "text/plain": [
       "             count       mean        std  min   25%   50%   75%     max\n",
       "providerId                                                             \n",
       "0           2365.0  42.797040  16.472283  1.0  33.0  43.0  53.0   191.0\n",
       "1           3551.0  59.564066  26.760414  1.0  42.0  62.0  79.0   161.0\n",
       "2           9186.0  37.920422  69.884386  1.0  17.0  30.0  45.0  1823.0"
      ]
     },
     "execution_count": 87,
     "metadata": {},
     "output_type": "execute_result"
    }
   ],
   "source": [
    "# average trips per bike\n",
    "trips.groupby(['bikeId', 'providerId']).count().id.groupby('providerId').describe()"
   ]
  },
  {
   "cell_type": "markdown",
   "metadata": {},
   "source": [
    "#### how high is the utilization rate? (available bikes / all bikes)"
   ]
  },
  {
   "cell_type": "code",
   "execution_count": 134,
   "metadata": {},
   "outputs": [],
   "source": [
    "# all accessibe bikes each day\n",
    "accessible = df.drop_duplicates(subset = ['yday', 'bikeId', 'providerId']).groupby(['yday', 'providerId']).count()"
   ]
  },
  {
   "cell_type": "code",
   "execution_count": 311,
   "metadata": {},
   "outputs": [],
   "source": [
    "# all bikes in use each hour\n",
    "in_use = trips[(trips.distance > 300)].groupby(['providerId', 'yday', 'yhour', 'dhour']).count()"
   ]
  },
  {
   "cell_type": "code",
   "execution_count": 312,
   "metadata": {},
   "outputs": [],
   "source": [
    "# merge df on accessible bikes per day\n",
    "in_use = in_use['id'].reset_index().set_index(['yday', 'providerId', 'dhour']).join(accessible['id.1'].reset_index().set_index(['yday', 'providerId']))\n",
    "in_use.rename(columns={\"id\": \"in_use\", \"id.1\": \"accessible\"}, inplace=True)"
   ]
  },
  {
   "cell_type": "code",
   "execution_count": 313,
   "metadata": {},
   "outputs": [],
   "source": [
    "usage_rate = (in_use.in_use / in_use.accessible).reset_index().groupby(['providerId', 'dhour']).median().reset_index()"
   ]
  },
  {
   "cell_type": "code",
   "execution_count": 316,
   "metadata": {},
   "outputs": [
    {
     "data": {
      "text/html": [
       "<div>\n",
       "<style scoped>\n",
       "    .dataframe tbody tr th:only-of-type {\n",
       "        vertical-align: middle;\n",
       "    }\n",
       "\n",
       "    .dataframe tbody tr th {\n",
       "        vertical-align: top;\n",
       "    }\n",
       "\n",
       "    .dataframe thead th {\n",
       "        text-align: right;\n",
       "    }\n",
       "</style>\n",
       "<table border=\"1\" class=\"dataframe\">\n",
       "  <thead>\n",
       "    <tr style=\"text-align: right;\">\n",
       "      <th></th>\n",
       "      <th>providerId</th>\n",
       "      <th>dhour</th>\n",
       "      <th>yday</th>\n",
       "      <th>0</th>\n",
       "    </tr>\n",
       "  </thead>\n",
       "  <tbody>\n",
       "    <tr>\n",
       "      <th>count</th>\n",
       "      <td>72.000000</td>\n",
       "      <td>72.000000</td>\n",
       "      <td>72.000000</td>\n",
       "      <td>72.000000</td>\n",
       "    </tr>\n",
       "    <tr>\n",
       "      <th>mean</th>\n",
       "      <td>1.000000</td>\n",
       "      <td>11.500000</td>\n",
       "      <td>142.118056</td>\n",
       "      <td>0.035061</td>\n",
       "    </tr>\n",
       "    <tr>\n",
       "      <th>std</th>\n",
       "      <td>0.822226</td>\n",
       "      <td>6.970764</td>\n",
       "      <td>5.375671</td>\n",
       "      <td>0.023256</td>\n",
       "    </tr>\n",
       "    <tr>\n",
       "      <th>min</th>\n",
       "      <td>0.000000</td>\n",
       "      <td>0.000000</td>\n",
       "      <td>136.500000</td>\n",
       "      <td>0.003746</td>\n",
       "    </tr>\n",
       "    <tr>\n",
       "      <th>25%</th>\n",
       "      <td>0.000000</td>\n",
       "      <td>5.750000</td>\n",
       "      <td>137.500000</td>\n",
       "      <td>0.014830</td>\n",
       "    </tr>\n",
       "    <tr>\n",
       "      <th>50%</th>\n",
       "      <td>1.000000</td>\n",
       "      <td>11.500000</td>\n",
       "      <td>139.500000</td>\n",
       "      <td>0.030336</td>\n",
       "    </tr>\n",
       "    <tr>\n",
       "      <th>75%</th>\n",
       "      <td>2.000000</td>\n",
       "      <td>17.250000</td>\n",
       "      <td>149.000000</td>\n",
       "      <td>0.051557</td>\n",
       "    </tr>\n",
       "    <tr>\n",
       "      <th>max</th>\n",
       "      <td>2.000000</td>\n",
       "      <td>23.000000</td>\n",
       "      <td>150.500000</td>\n",
       "      <td>0.091234</td>\n",
       "    </tr>\n",
       "  </tbody>\n",
       "</table>\n",
       "</div>"
      ],
      "text/plain": [
       "       providerId      dhour        yday          0\n",
       "count   72.000000  72.000000   72.000000  72.000000\n",
       "mean     1.000000  11.500000  142.118056   0.035061\n",
       "std      0.822226   6.970764    5.375671   0.023256\n",
       "min      0.000000   0.000000  136.500000   0.003746\n",
       "25%      0.000000   5.750000  137.500000   0.014830\n",
       "50%      1.000000  11.500000  139.500000   0.030336\n",
       "75%      2.000000  17.250000  149.000000   0.051557\n",
       "max      2.000000  23.000000  150.500000   0.091234"
      ]
     },
     "execution_count": 316,
     "metadata": {},
     "output_type": "execute_result"
    }
   ],
   "source": [
    "usage_rate.describe()"
   ]
  },
  {
   "cell_type": "code",
   "execution_count": 317,
   "metadata": {},
   "outputs": [
    {
     "data": {
      "text/plain": [
       "<matplotlib.axes._subplots.AxesSubplot at 0x1b799725198>"
      ]
     },
     "execution_count": 317,
     "metadata": {},
     "output_type": "execute_result"
    },
    {
     "data": {
      "image/png": "[encoded data removed]",
      "text/plain": [
       "<Figure size 432x288 with 1 Axes>"
      ]
     },
     "metadata": {
      "needs_background": "light"
     },
     "output_type": "display_data"
    }
   ],
   "source": [
    "usage_rate.drop('yday', axis=1).set_index(['dhour','providerId']).unstack().plot()"
   ]
  },
  {
   "cell_type": "markdown",
   "metadata": {},
   "source": [
    "Usage rate varies between 0 and 9 %."
   ]
  },
  {
   "cell_type": "markdown",
   "metadata": {},
   "source": [
    "#### how many bikes bikes are accessible / in use each day?"
   ]
  },
  {
   "cell_type": "code",
   "execution_count": 133,
   "metadata": {},
   "outputs": [
    {
     "data": {
      "text/html": [
       "<div>\n",
       "<style scoped>\n",
       "    .dataframe tbody tr th:only-of-type {\n",
       "        vertical-align: middle;\n",
       "    }\n",
       "\n",
       "    .dataframe tbody tr th {\n",
       "        vertical-align: top;\n",
       "    }\n",
       "\n",
       "    .dataframe thead th {\n",
       "        text-align: right;\n",
       "    }\n",
       "</style>\n",
       "<table border=\"1\" class=\"dataframe\">\n",
       "  <thead>\n",
       "    <tr style=\"text-align: right;\">\n",
       "      <th></th>\n",
       "      <th>id</th>\n",
       "      <th>id.1</th>\n",
       "      <th>bikeId</th>\n",
       "      <th>timestamp</th>\n",
       "      <th>latitude</th>\n",
       "      <th>longitude</th>\n",
       "      <th>prev_id</th>\n",
       "      <th>next_id</th>\n",
       "      <th>prev_lat</th>\n",
       "      <th>prev_lon</th>\n",
       "      <th>...</th>\n",
       "      <th>end_timestamp</th>\n",
       "      <th>mode</th>\n",
       "      <th>response</th>\n",
       "      <th>geometry</th>\n",
       "      <th>distance</th>\n",
       "      <th>calc_time</th>\n",
       "      <th>waypoints</th>\n",
       "      <th>duration</th>\n",
       "      <th>speed</th>\n",
       "      <th>hourly_starttime</th>\n",
       "    </tr>\n",
       "    <tr>\n",
       "      <th>providerId</th>\n",
       "      <th></th>\n",
       "      <th></th>\n",
       "      <th></th>\n",
       "      <th></th>\n",
       "      <th></th>\n",
       "      <th></th>\n",
       "      <th></th>\n",
       "      <th></th>\n",
       "      <th></th>\n",
       "      <th></th>\n",
       "      <th></th>\n",
       "      <th></th>\n",
       "      <th></th>\n",
       "      <th></th>\n",
       "      <th></th>\n",
       "      <th></th>\n",
       "      <th></th>\n",
       "      <th></th>\n",
       "      <th></th>\n",
       "      <th></th>\n",
       "      <th></th>\n",
       "    </tr>\n",
       "  </thead>\n",
       "  <tbody>\n",
       "    <tr>\n",
       "      <th>0</th>\n",
       "      <td>953.0</td>\n",
       "      <td>953.0</td>\n",
       "      <td>953.0</td>\n",
       "      <td>953.0</td>\n",
       "      <td>953.0</td>\n",
       "      <td>953.0</td>\n",
       "      <td>953.0</td>\n",
       "      <td>953.0</td>\n",
       "      <td>953.0</td>\n",
       "      <td>953.0</td>\n",
       "      <td>...</td>\n",
       "      <td>953.0</td>\n",
       "      <td>953.0</td>\n",
       "      <td>378.0</td>\n",
       "      <td>378.0</td>\n",
       "      <td>378.0</td>\n",
       "      <td>378.0</td>\n",
       "      <td>378.0</td>\n",
       "      <td>953.0</td>\n",
       "      <td>378.0</td>\n",
       "      <td>953.0</td>\n",
       "    </tr>\n",
       "    <tr>\n",
       "      <th>1</th>\n",
       "      <td>2329.0</td>\n",
       "      <td>2329.0</td>\n",
       "      <td>2329.0</td>\n",
       "      <td>2329.0</td>\n",
       "      <td>2329.0</td>\n",
       "      <td>2329.0</td>\n",
       "      <td>2329.0</td>\n",
       "      <td>2329.0</td>\n",
       "      <td>2329.0</td>\n",
       "      <td>2329.0</td>\n",
       "      <td>...</td>\n",
       "      <td>2329.0</td>\n",
       "      <td>2329.0</td>\n",
       "      <td>656.5</td>\n",
       "      <td>656.5</td>\n",
       "      <td>656.5</td>\n",
       "      <td>656.5</td>\n",
       "      <td>656.5</td>\n",
       "      <td>2329.0</td>\n",
       "      <td>656.5</td>\n",
       "      <td>2329.0</td>\n",
       "    </tr>\n",
       "    <tr>\n",
       "      <th>2</th>\n",
       "      <td>4384.0</td>\n",
       "      <td>4384.0</td>\n",
       "      <td>4384.0</td>\n",
       "      <td>4384.0</td>\n",
       "      <td>4384.0</td>\n",
       "      <td>4384.0</td>\n",
       "      <td>4384.0</td>\n",
       "      <td>4384.0</td>\n",
       "      <td>4384.0</td>\n",
       "      <td>4384.0</td>\n",
       "      <td>...</td>\n",
       "      <td>4384.0</td>\n",
       "      <td>4384.0</td>\n",
       "      <td>340.0</td>\n",
       "      <td>340.0</td>\n",
       "      <td>340.0</td>\n",
       "      <td>340.0</td>\n",
       "      <td>340.0</td>\n",
       "      <td>4384.0</td>\n",
       "      <td>340.0</td>\n",
       "      <td>4384.0</td>\n",
       "    </tr>\n",
       "  </tbody>\n",
       "</table>\n",
       "<p>3 rows × 22 columns</p>\n",
       "</div>"
      ],
      "text/plain": [
       "                id    id.1  bikeId  timestamp  latitude  longitude  prev_id  \\\n",
       "providerId                                                                    \n",
       "0            953.0   953.0   953.0      953.0     953.0      953.0    953.0   \n",
       "1           2329.0  2329.0  2329.0     2329.0    2329.0     2329.0   2329.0   \n",
       "2           4384.0  4384.0  4384.0     4384.0    4384.0     4384.0   4384.0   \n",
       "\n",
       "            next_id  prev_lat  prev_lon  ...  end_timestamp    mode  response  \\\n",
       "providerId                               ...                                    \n",
       "0             953.0     953.0     953.0  ...          953.0   953.0     378.0   \n",
       "1            2329.0    2329.0    2329.0  ...         2329.0  2329.0     656.5   \n",
       "2            4384.0    4384.0    4384.0  ...         4384.0  4384.0     340.0   \n",
       "\n",
       "            geometry  distance  calc_time  waypoints  duration  speed  \\\n",
       "providerId                                                              \n",
       "0              378.0     378.0      378.0      378.0     953.0  378.0   \n",
       "1              656.5     656.5      656.5      656.5    2329.0  656.5   \n",
       "2              340.0     340.0      340.0      340.0    4384.0  340.0   \n",
       "\n",
       "            hourly_starttime  \n",
       "providerId                    \n",
       "0                      953.0  \n",
       "1                     2329.0  \n",
       "2                     4384.0  \n",
       "\n",
       "[3 rows x 22 columns]"
      ]
     },
     "execution_count": 133,
     "metadata": {},
     "output_type": "execute_result"
    }
   ],
   "source": [
    "# on average accessible bikes per day\n",
    "df.drop_duplicates(subset = ['yday', 'bikeId', 'providerId']).groupby(['yday', 'providerId']).count().groupby('providerId').median()"
   ]
  },
  {
   "cell_type": "code",
   "execution_count": 138,
   "metadata": {},
   "outputs": [
    {
     "data": {
      "text/html": [
       "<div>\n",
       "<style scoped>\n",
       "    .dataframe tbody tr th:only-of-type {\n",
       "        vertical-align: middle;\n",
       "    }\n",
       "\n",
       "    .dataframe tbody tr th {\n",
       "        vertical-align: top;\n",
       "    }\n",
       "\n",
       "    .dataframe thead th {\n",
       "        text-align: right;\n",
       "    }\n",
       "</style>\n",
       "<table border=\"1\" class=\"dataframe\">\n",
       "  <thead>\n",
       "    <tr style=\"text-align: right;\">\n",
       "      <th></th>\n",
       "      <th>id</th>\n",
       "      <th>id.1</th>\n",
       "      <th>bikeId</th>\n",
       "      <th>timestamp</th>\n",
       "      <th>latitude</th>\n",
       "      <th>longitude</th>\n",
       "      <th>prev_id</th>\n",
       "      <th>next_id</th>\n",
       "      <th>prev_lat</th>\n",
       "      <th>prev_lon</th>\n",
       "      <th>...</th>\n",
       "      <th>end_timestamp</th>\n",
       "      <th>mode</th>\n",
       "      <th>response</th>\n",
       "      <th>geometry</th>\n",
       "      <th>distance</th>\n",
       "      <th>calc_time</th>\n",
       "      <th>waypoints</th>\n",
       "      <th>duration</th>\n",
       "      <th>speed</th>\n",
       "      <th>hourly_starttime</th>\n",
       "    </tr>\n",
       "    <tr>\n",
       "      <th>providerId</th>\n",
       "      <th></th>\n",
       "      <th></th>\n",
       "      <th></th>\n",
       "      <th></th>\n",
       "      <th></th>\n",
       "      <th></th>\n",
       "      <th></th>\n",
       "      <th></th>\n",
       "      <th></th>\n",
       "      <th></th>\n",
       "      <th></th>\n",
       "      <th></th>\n",
       "      <th></th>\n",
       "      <th></th>\n",
       "      <th></th>\n",
       "      <th></th>\n",
       "      <th></th>\n",
       "      <th></th>\n",
       "      <th></th>\n",
       "      <th></th>\n",
       "      <th></th>\n",
       "    </tr>\n",
       "  </thead>\n",
       "  <tbody>\n",
       "    <tr>\n",
       "      <th>0</th>\n",
       "      <td>618.0</td>\n",
       "      <td>618.0</td>\n",
       "      <td>618.0</td>\n",
       "      <td>618.0</td>\n",
       "      <td>618.0</td>\n",
       "      <td>618.0</td>\n",
       "      <td>618.0</td>\n",
       "      <td>618.0</td>\n",
       "      <td>618.0</td>\n",
       "      <td>618.0</td>\n",
       "      <td>...</td>\n",
       "      <td>618.0</td>\n",
       "      <td>618.0</td>\n",
       "      <td>618.0</td>\n",
       "      <td>618.0</td>\n",
       "      <td>618.0</td>\n",
       "      <td>618.0</td>\n",
       "      <td>618.0</td>\n",
       "      <td>618.0</td>\n",
       "      <td>618.0</td>\n",
       "      <td>618.0</td>\n",
       "    </tr>\n",
       "    <tr>\n",
       "      <th>1</th>\n",
       "      <td>1280.0</td>\n",
       "      <td>1280.0</td>\n",
       "      <td>1280.0</td>\n",
       "      <td>1280.0</td>\n",
       "      <td>1280.0</td>\n",
       "      <td>1280.0</td>\n",
       "      <td>1280.0</td>\n",
       "      <td>1280.0</td>\n",
       "      <td>1280.0</td>\n",
       "      <td>1280.0</td>\n",
       "      <td>...</td>\n",
       "      <td>1280.0</td>\n",
       "      <td>1280.0</td>\n",
       "      <td>1280.0</td>\n",
       "      <td>1280.0</td>\n",
       "      <td>1280.0</td>\n",
       "      <td>1280.0</td>\n",
       "      <td>1280.0</td>\n",
       "      <td>1280.0</td>\n",
       "      <td>1280.0</td>\n",
       "      <td>1280.0</td>\n",
       "    </tr>\n",
       "    <tr>\n",
       "      <th>2</th>\n",
       "      <td>1825.5</td>\n",
       "      <td>1825.5</td>\n",
       "      <td>1825.5</td>\n",
       "      <td>1825.5</td>\n",
       "      <td>1825.5</td>\n",
       "      <td>1825.5</td>\n",
       "      <td>1825.5</td>\n",
       "      <td>1825.5</td>\n",
       "      <td>1825.5</td>\n",
       "      <td>1825.5</td>\n",
       "      <td>...</td>\n",
       "      <td>1825.5</td>\n",
       "      <td>1825.5</td>\n",
       "      <td>1825.5</td>\n",
       "      <td>1825.5</td>\n",
       "      <td>1825.5</td>\n",
       "      <td>1825.5</td>\n",
       "      <td>1825.5</td>\n",
       "      <td>1825.5</td>\n",
       "      <td>1825.5</td>\n",
       "      <td>1825.5</td>\n",
       "    </tr>\n",
       "  </tbody>\n",
       "</table>\n",
       "<p>3 rows × 22 columns</p>\n",
       "</div>"
      ],
      "text/plain": [
       "                id    id.1  bikeId  timestamp  latitude  longitude  prev_id  \\\n",
       "providerId                                                                    \n",
       "0            618.0   618.0   618.0      618.0     618.0      618.0    618.0   \n",
       "1           1280.0  1280.0  1280.0     1280.0    1280.0     1280.0   1280.0   \n",
       "2           1825.5  1825.5  1825.5     1825.5    1825.5     1825.5   1825.5   \n",
       "\n",
       "            next_id  prev_lat  prev_lon  ...  end_timestamp    mode  response  \\\n",
       "providerId                               ...                                    \n",
       "0             618.0     618.0     618.0  ...          618.0   618.0     618.0   \n",
       "1            1280.0    1280.0    1280.0  ...         1280.0  1280.0    1280.0   \n",
       "2            1825.5    1825.5    1825.5  ...         1825.5  1825.5    1825.5   \n",
       "\n",
       "            geometry  distance  calc_time  waypoints  duration   speed  \\\n",
       "providerId                                                               \n",
       "0              618.0     618.0      618.0      618.0     618.0   618.0   \n",
       "1             1280.0    1280.0     1280.0     1280.0    1280.0  1280.0   \n",
       "2             1825.5    1825.5     1825.5     1825.5    1825.5  1825.5   \n",
       "\n",
       "            hourly_starttime  \n",
       "providerId                    \n",
       "0                      618.0  \n",
       "1                     1280.0  \n",
       "2                     1825.5  \n",
       "\n",
       "[3 rows x 22 columns]"
      ]
     },
     "execution_count": 138,
     "metadata": {},
     "output_type": "execute_result"
    }
   ],
   "source": [
    "# on overage used bikes per day\n",
    "trips.drop_duplicates(subset = ['yday', 'bikeId', 'providerId']).groupby(['yday', 'providerId']).count().groupby('providerId').median()"
   ]
  },
  {
   "cell_type": "code",
   "execution_count": 146,
   "metadata": {},
   "outputs": [
    {
     "data": {
      "text/html": [
       "<div>\n",
       "<style scoped>\n",
       "    .dataframe tbody tr th:only-of-type {\n",
       "        vertical-align: middle;\n",
       "    }\n",
       "\n",
       "    .dataframe tbody tr th {\n",
       "        vertical-align: top;\n",
       "    }\n",
       "\n",
       "    .dataframe thead th {\n",
       "        text-align: right;\n",
       "    }\n",
       "</style>\n",
       "<table border=\"1\" class=\"dataframe\">\n",
       "  <thead>\n",
       "    <tr style=\"text-align: right;\">\n",
       "      <th></th>\n",
       "      <th>id</th>\n",
       "      <th>id.1</th>\n",
       "      <th>bikeId</th>\n",
       "      <th>timestamp</th>\n",
       "      <th>latitude</th>\n",
       "      <th>longitude</th>\n",
       "      <th>prev_id</th>\n",
       "      <th>next_id</th>\n",
       "      <th>prev_lat</th>\n",
       "      <th>prev_lon</th>\n",
       "      <th>...</th>\n",
       "      <th>mode</th>\n",
       "      <th>response</th>\n",
       "      <th>geometry</th>\n",
       "      <th>distance</th>\n",
       "      <th>calc_time</th>\n",
       "      <th>waypoints</th>\n",
       "      <th>duration</th>\n",
       "      <th>speed</th>\n",
       "      <th>hourly_starttime</th>\n",
       "      <th>yday</th>\n",
       "    </tr>\n",
       "    <tr>\n",
       "      <th>providerId</th>\n",
       "      <th></th>\n",
       "      <th></th>\n",
       "      <th></th>\n",
       "      <th></th>\n",
       "      <th></th>\n",
       "      <th></th>\n",
       "      <th></th>\n",
       "      <th></th>\n",
       "      <th></th>\n",
       "      <th></th>\n",
       "      <th></th>\n",
       "      <th></th>\n",
       "      <th></th>\n",
       "      <th></th>\n",
       "      <th></th>\n",
       "      <th></th>\n",
       "      <th></th>\n",
       "      <th></th>\n",
       "      <th></th>\n",
       "      <th></th>\n",
       "      <th></th>\n",
       "    </tr>\n",
       "  </thead>\n",
       "  <tbody>\n",
       "    <tr>\n",
       "      <th>0</th>\n",
       "      <td>106</td>\n",
       "      <td>106</td>\n",
       "      <td>106</td>\n",
       "      <td>106</td>\n",
       "      <td>106</td>\n",
       "      <td>106</td>\n",
       "      <td>106</td>\n",
       "      <td>106</td>\n",
       "      <td>106</td>\n",
       "      <td>106</td>\n",
       "      <td>...</td>\n",
       "      <td>106</td>\n",
       "      <td>39</td>\n",
       "      <td>39</td>\n",
       "      <td>39</td>\n",
       "      <td>39</td>\n",
       "      <td>39</td>\n",
       "      <td>106</td>\n",
       "      <td>39</td>\n",
       "      <td>106</td>\n",
       "      <td>106</td>\n",
       "    </tr>\n",
       "    <tr>\n",
       "      <th>1</th>\n",
       "      <td>228</td>\n",
       "      <td>228</td>\n",
       "      <td>228</td>\n",
       "      <td>228</td>\n",
       "      <td>228</td>\n",
       "      <td>228</td>\n",
       "      <td>228</td>\n",
       "      <td>228</td>\n",
       "      <td>228</td>\n",
       "      <td>228</td>\n",
       "      <td>...</td>\n",
       "      <td>228</td>\n",
       "      <td>98</td>\n",
       "      <td>98</td>\n",
       "      <td>98</td>\n",
       "      <td>98</td>\n",
       "      <td>98</td>\n",
       "      <td>228</td>\n",
       "      <td>98</td>\n",
       "      <td>228</td>\n",
       "      <td>228</td>\n",
       "    </tr>\n",
       "    <tr>\n",
       "      <th>2</th>\n",
       "      <td>1244</td>\n",
       "      <td>1244</td>\n",
       "      <td>1244</td>\n",
       "      <td>1244</td>\n",
       "      <td>1244</td>\n",
       "      <td>1244</td>\n",
       "      <td>1244</td>\n",
       "      <td>1244</td>\n",
       "      <td>1244</td>\n",
       "      <td>1244</td>\n",
       "      <td>...</td>\n",
       "      <td>1244</td>\n",
       "      <td>155</td>\n",
       "      <td>155</td>\n",
       "      <td>155</td>\n",
       "      <td>155</td>\n",
       "      <td>155</td>\n",
       "      <td>1244</td>\n",
       "      <td>155</td>\n",
       "      <td>1244</td>\n",
       "      <td>1244</td>\n",
       "    </tr>\n",
       "  </tbody>\n",
       "</table>\n",
       "<p>3 rows × 23 columns</p>\n",
       "</div>"
      ],
      "text/plain": [
       "              id  id.1  bikeId  timestamp  latitude  longitude  prev_id  \\\n",
       "providerId                                                                \n",
       "0            106   106     106        106       106        106      106   \n",
       "1            228   228     228        228       228        228      228   \n",
       "2           1244  1244    1244       1244      1244       1244     1244   \n",
       "\n",
       "            next_id  prev_lat  prev_lon  ...  mode  response  geometry  \\\n",
       "providerId                               ...                             \n",
       "0               106       106       106  ...   106        39        39   \n",
       "1               228       228       228  ...   228        98        98   \n",
       "2              1244      1244      1244  ...  1244       155       155   \n",
       "\n",
       "            distance  calc_time  waypoints  duration  speed  hourly_starttime  \\\n",
       "providerId                                                                      \n",
       "0                 39         39         39       106     39               106   \n",
       "1                 98         98         98       228     98               228   \n",
       "2                155        155        155      1244    155              1244   \n",
       "\n",
       "            yday  \n",
       "providerId        \n",
       "0            106  \n",
       "1            228  \n",
       "2           1244  \n",
       "\n",
       "[3 rows x 23 columns]"
      ]
     },
     "execution_count": 146,
     "metadata": {},
     "output_type": "execute_result"
    }
   ],
   "source": [
    "# on overage used bikes per hour\n",
    "df.groupby(['providerId', 'yhour']).count().groupby('providerId').median()"
   ]
  },
  {
   "cell_type": "markdown",
   "metadata": {},
   "source": [
    "#### How many rides per bike per day?"
   ]
  },
  {
   "cell_type": "code",
   "execution_count": 107,
   "metadata": {},
   "outputs": [
    {
     "data": {
      "text/plain": [
       "providerId\n",
       "0    1\n",
       "1    2\n",
       "2    2\n",
       "Name: id, dtype: int64"
      ]
     },
     "execution_count": 107,
     "metadata": {},
     "output_type": "execute_result"
    }
   ],
   "source": [
    "trips.groupby(['yday', 'bikeId', 'providerId']).count().groupby('providerId').median().id"
   ]
  },
  {
   "cell_type": "markdown",
   "metadata": {},
   "source": [
    "Median of 1-2 rides per bike per day."
   ]
  },
  {
   "cell_type": "markdown",
   "metadata": {},
   "source": [
    "#### Bike Availability: \n",
    "- Where are bikes available (per Planungsraum)? On average? On average weekdays / times?\n",
    "- Distance between available bikes"
   ]
  },
  {
   "cell_type": "markdown",
   "metadata": {},
   "source": [
    "#### how long is the life span of a bike? (first appearence and last appearence)\n",
    "- is there periodical appearences?"
   ]
  },
  {
   "cell_type": "code",
   "execution_count": 259,
   "metadata": {},
   "outputs": [],
   "source": [
    "# get data for lifespan\n",
    "\n",
    "def lifespan (df):\n",
    "    # each line one trip with start-loc and end-loc\n",
    "    # for each bike ID\n",
    "    start_timestamp = df.sort_values(by=['bikeId', 'timestamp']).drop_duplicates('bikeId', keep='first')\n",
    "    last_timestamp = df.sort_values(by=['bikeId', 'timestamp'], ascending = False).drop_duplicates('bikeId', keep='first')\n",
    "    start_timestamp.set_index('bikeId', inplace=True)\n",
    "    last_timestamp.set_index('bikeId', inplace=True)\n",
    "    return start_timestamp.join(last_timestamp[['timestamp']], rsuffix='_last')"
   ]
  },
  {
   "cell_type": "code",
   "execution_count": 261,
   "metadata": {},
   "outputs": [],
   "source": [
    "lifespan = lifespan(df)"
   ]
  },
  {
   "cell_type": "code",
   "execution_count": 268,
   "metadata": {},
   "outputs": [
    {
     "data": {
      "text/plain": [
       "Timedelta('88 days 06:09:59.964870')"
      ]
     },
     "execution_count": 268,
     "metadata": {},
     "output_type": "execute_result"
    }
   ],
   "source": [
    "(lifespan.timestamp_last - lifespan.timestamp).median()"
   ]
  },
  {
   "cell_type": "markdown",
   "metadata": {},
   "source": [
    "#### speed of bikes"
   ]
  },
  {
   "cell_type": "code",
   "execution_count": 271,
   "metadata": {},
   "outputs": [
    {
     "data": {
      "text/plain": [
       "<matplotlib.axes._subplots.AxesSubplot at 0x1b7892f01d0>"
      ]
     },
     "execution_count": 271,
     "metadata": {},
     "output_type": "execute_result"
    },
    {
     "data": {
      "image/png": "[encoded data removed]",
      "text/plain": [
       "<Figure size 432x288 with 1 Axes>"
      ]
     },
     "metadata": {
      "needs_background": "light"
     },
     "output_type": "display_data"
    }
   ],
   "source": [
    "df['speed'].hist()"
   ]
  },
  {
   "cell_type": "code",
   "execution_count": 272,
   "metadata": {},
   "outputs": [
    {
     "data": {
      "text/plain": [
       "count    661064.000000\n",
       "mean          4.711225\n",
       "std           5.547541\n",
       "min           0.004344\n",
       "25%           0.526149\n",
       "50%           2.731577\n",
       "75%           7.240797\n",
       "max          29.999916\n",
       "Name: speed, dtype: float64"
      ]
     },
     "execution_count": 272,
     "metadata": {},
     "output_type": "execute_result"
    }
   ],
   "source": [
    "df['speed'].describe()"
   ]
  },
  {
   "cell_type": "markdown",
   "metadata": {},
   "source": [
    "## pseudonomysed trip data"
   ]
  },
  {
   "cell_type": "code",
   "execution_count": null,
   "metadata": {},
   "outputs": [],
   "source": [
    "crs = {'init': 'epsg:4326'}\n",
    "geometry = [Point(xy) for xy in zip(df.longitude, df.latitude)]\n",
    "gdf = gpd.GeoDataFrame(df, crs=crs, geometry=geometry)\n",
    "gdf = gdf.to_crs(epsg=25833)"
   ]
  },
  {
   "cell_type": "code",
   "execution_count": null,
   "metadata": {},
   "outputs": [],
   "source": [
    "geometry = [Point(xy) for xy in zip(df.next_lon, df.next_lat)]\n",
    "gdf_end = gpd.GeoDataFrame(df, crs=crs, geometry=geometry)\n",
    "gdf_end = gdf_end.to_crs(epsg=25833)"
   ]
  },
  {
   "cell_type": "code",
   "execution_count": null,
   "metadata": {},
   "outputs": [],
   "source": [
    "berlin = geopandas.read_file('lor_planungsraeume.geojson')\n",
    "berlin = berlin.to_crs(epsg=25833)"
   ]
  },
  {
   "cell_type": "code",
   "execution_count": null,
   "metadata": {},
   "outputs": [],
   "source": [
    "# map of accessible bikes\n",
    "base = berlin.plot(color='white', edgecolor='black', figsize=(20,20))\n",
    "gdf[(gdf['mode']=='accessible') & (gdf.latitude > 52.3) & (gdf.longitude > 13.0)& (gdf.latitude < 53.7) & (gdf.longitude < 13.7)].plot(ax=base, markersize=0.01, figsize=(20,20))"
   ]
  },
  {
   "cell_type": "code",
   "execution_count": null,
   "metadata": {},
   "outputs": [],
   "source": [
    "# map of startpoints\n",
    "gdf[(gdf['mode']=='trip')].plot(ax=base, markersize=0.01, figsize=(20,20))"
   ]
  },
  {
   "cell_type": "code",
   "execution_count": null,
   "metadata": {},
   "outputs": [],
   "source": [
    "# map of endpoints\n",
    "gdf_end[(gdf_end['mode']=='trip')].plot(ax=base, markersize=0.01, figsize=(20,20))"
   ]
  },
  {
   "cell_type": "code",
   "execution_count": null,
   "metadata": {},
   "outputs": [],
   "source": [
    "# map both\n",
    "start = gdf[(gdf['mode']=='trip')].plot(ax=base, markersize=0.01, figsize=(20,20), color='red')\n",
    "gdf_end[(gdf_end['mode']=='trip')].plot(ax=start, markersize=0.01, figsize=(20,20))"
   ]
  },
  {
   "cell_type": "code",
   "execution_count": null,
   "metadata": {},
   "outputs": [],
   "source": [
    "# heatmap (?)\n",
    "import geoplot\n",
    "ax = geoplot.kdeplot(gdf.head(100),\n",
    "                     shade=True, shade_lowest=False,\n",
    "                     clip=boroughs.geometry)\n",
    "geoplot.polyplot(boroughs, ax=base)"
   ]
  },
  {
   "cell_type": "markdown",
   "metadata": {},
   "source": [
    "#### How many bikes are in use at what point in time (weekday)?"
   ]
  },
  {
   "cell_type": "code",
   "execution_count": 4,
   "metadata": {},
   "outputs": [],
   "source": [
    "# hour of day\n",
    "df['hour_of_day'] = df.timestamp.apply(lambda x: x.time().hour)"
   ]
  },
  {
   "cell_type": "code",
   "execution_count": 5,
   "metadata": {},
   "outputs": [],
   "source": [
    "# day of week\n",
    "df['day_of_week'] = df.timestamp.apply(lambda x: x.weekday())"
   ]
  },
  {
   "cell_type": "code",
   "execution_count": 289,
   "metadata": {},
   "outputs": [
    {
     "data": {
      "text/plain": [
       "<matplotlib.axes._subplots.AxesSubplot at 0x1b795555fd0>"
      ]
     },
     "execution_count": 289,
     "metadata": {},
     "output_type": "execute_result"
    },
    {
     "data": {
      "image/png": "[encoded data removed]",
      "text/plain": [
       "<Figure size 432x288 with 1 Axes>"
      ]
     },
     "metadata": {
      "needs_background": "light"
     },
     "output_type": "display_data"
    }
   ],
   "source": [
    "df[(df.providerId == 1) & (df.distance > 300)].dhour.value_counts().sort_index().plot(kind='bar')"
   ]
  },
  {
   "cell_type": "code",
   "execution_count": 251,
   "metadata": {},
   "outputs": [
    {
     "data": {
      "text/plain": [
       "<matplotlib.axes._subplots.AxesSubplot at 0x1b787547390>"
      ]
     },
     "execution_count": 251,
     "metadata": {},
     "output_type": "execute_result"
    },
    {
     "data": {
      "image/png": "[encoded data removed]",
      "text/plain": [
       "<Figure size 432x288 with 1 Axes>"
      ]
     },
     "metadata": {
      "needs_background": "light"
     },
     "output_type": "display_data"
    }
   ],
   "source": [
    "df[df['mode'] == 'trip'].dhour.value_counts().sort_index().plot(kind='bar')"
   ]
  },
  {
   "cell_type": "code",
   "execution_count": 320,
   "metadata": {},
   "outputs": [
    {
     "data": {
      "text/plain": [
       "<matplotlib.axes._subplots.AxesSubplot at 0x1b79a164ef0>"
      ]
     },
     "execution_count": 320,
     "metadata": {},
     "output_type": "execute_result"
    },
    {
     "data": {
      "image/png": "[encoded data removed]",
      "text/plain": [
       "<Figure size 432x288 with 1 Axes>"
      ]
     },
     "metadata": {
      "needs_background": "light"
     },
     "output_type": "display_data"
    }
   ],
   "source": [
    "df[df['mode'] == 'trip'].dweek.value_counts().sort_index().plot(kind='bar')"
   ]
  },
  {
   "cell_type": "code",
   "execution_count": null,
   "metadata": {},
   "outputs": [],
   "source": [
    "# see whole time on hourly / daily basis"
   ]
  },
  {
   "cell_type": "code",
   "execution_count": 298,
   "metadata": {},
   "outputs": [],
   "source": [
    "df.loc[:,'hourly_starttime'] = df.timestamp.apply(lambda dt: datetime.datetime(dt.year, dt.month, dt.day, dt.hour,15*(dt.minute // 60)))"
   ]
  },
  {
   "cell_type": "code",
   "execution_count": 299,
   "metadata": {},
   "outputs": [
    {
     "data": {
      "text/plain": [
       "count                 2122449\n",
       "unique                   2405\n",
       "top       2019-03-28 09:00:00\n",
       "freq                     2262\n",
       "first     2019-03-27 18:00:00\n",
       "last      2019-07-09 19:00:00\n",
       "Name: hourly_starttime, dtype: object"
      ]
     },
     "execution_count": 299,
     "metadata": {},
     "output_type": "execute_result"
    }
   ],
   "source": [
    "df[df['mode']=='trip'].hourly_starttime.describe()"
   ]
  },
  {
   "cell_type": "markdown",
   "metadata": {},
   "source": [
    "#### How many rides are there per day?"
   ]
  },
  {
   "cell_type": "markdown",
   "metadata": {},
   "source": [
    "#### How long is the average ride (time and length)? How fast?"
   ]
  },
  {
   "cell_type": "markdown",
   "metadata": {},
   "source": [
    "## Geoanalysis "
   ]
  },
  {
   "cell_type": "code",
   "execution_count": null,
   "metadata": {},
   "outputs": [],
   "source": [
    "crs = {'init': 'epsg:4326'}\n",
    "geometry = [Point(xy) for xy in zip(df.longitude, df.latitude)]\n",
    "gdf = gpd.GeoDataFrame(df, crs=crs, geometry=geometry)"
   ]
  },
  {
   "cell_type": "code",
   "execution_count": null,
   "metadata": {},
   "outputs": [],
   "source": [
    "geometry = [Point(xy) for xy in zip(df.next_lon, df.next_lat)]\n",
    "endpoints = gpd.GeoDataFrame(df, crs=crs, geometry=geometry)"
   ]
  },
  {
   "cell_type": "code",
   "execution_count": null,
   "metadata": {},
   "outputs": [],
   "source": [
    "gdf[['geometry']].head(1000).to_file('../../data/small_startpoints.geojson', Driver='GeoJSON')"
   ]
  },
  {
   "cell_type": "code",
   "execution_count": null,
   "metadata": {},
   "outputs": [],
   "source": [
    "gdf_vbb = gpd.read_file('../../data/haltestellen-berlin.geojson')"
   ]
  },
  {
   "cell_type": "code",
   "execution_count": null,
   "metadata": {},
   "outputs": [],
   "source": [
    "gdf_vbb.plot()"
   ]
  },
  {
   "cell_type": "code",
   "execution_count": null,
   "metadata": {},
   "outputs": [],
   "source": [
    "gdf_plr = gpd.read_file('lor_planungsraeume.geojson')"
   ]
  },
  {
   "cell_type": "code",
   "execution_count": null,
   "metadata": {},
   "outputs": [],
   "source": [
    "pointInPolys = sjoin(gdf_data.head(), gdf, how='left')"
   ]
  },
  {
   "cell_type": "code",
   "execution_count": null,
   "metadata": {},
   "outputs": [],
   "source": [
    "gdf_data.intersects(gdf.unary_union)"
   ]
  },
  {
   "cell_type": "code",
   "execution_count": null,
   "metadata": {},
   "outputs": [],
   "source": [
    "gpd.overlay(gdf, gdf_data)"
   ]
  },
  {
   "cell_type": "markdown",
   "metadata": {},
   "source": [
    "#### Where are most rides? (Bezirk, ...) Heatmap"
   ]
  },
  {
   "cell_type": "code",
   "execution_count": null,
   "metadata": {},
   "outputs": [],
   "source": [
    "ax = geoplot.kdeplot(gdf,\n",
    "                     shade=True, shade_lowest=False,\n",
    "                     clip=boroughs.geometry)\n",
    "geoplot.polyplot(gdf_plr, ax=ax)"
   ]
  },
  {
   "cell_type": "code",
   "execution_count": null,
   "metadata": {},
   "outputs": [],
   "source": [
    "# cross with Planungsräume\n",
    "\n",
    "gdf.rename(index=str, columns={\"spatial_name\": \"cell_id\"}, inplace=True)\n",
    "gdf[['cell_id', 'geometry']].to_file('planungsraeume.json', driver='GeoJSON')\n",
    "df = pd.DataFrame(gdf)[['cell_id', 'geometry']]\n",
    "gdf.set_index('cell_id', inplace=True)\n",
    "gdf['geometry'].to_file('test2.json', driver='GeoJSON', index='False')\n",
    "f= open(\"test.json\",\"w\")\n",
    "f.write(gdf['geometry'].to_json())\n",
    "f.close()    \n",
    "test = gdf['geometry'].to_dict()\n",
    "for key, values in test.items():\n",
    "    print (key)\n",
    "test = pd.read_json('test.json', orient='records')"
   ]
  },
  {
   "cell_type": "markdown",
   "metadata": {},
   "source": [
    "#### What are highly frequented routes? (Are there good bike lanes? Should there be better bike lanes?)"
   ]
  },
  {
   "cell_type": "markdown",
   "metadata": {},
   "source": [
    "#### Are there \"hot spots\" for pick up and drop off?"
   ]
  },
  {
   "cell_type": "markdown",
   "metadata": {},
   "source": [
    "## Include further data"
   ]
  },
  {
   "cell_type": "markdown",
   "metadata": {},
   "source": [
    "#### Intersect with subway stops"
   ]
  },
  {
   "cell_type": "markdown",
   "metadata": {},
   "source": [
    "#### weather data"
   ]
  },
  {
   "cell_type": "markdown",
   "metadata": {},
   "source": [
    "#### nextbike stations: with and without docking station: how many rides start from / end at a docking station"
   ]
  }
 ],
 "metadata": {
  "kernelspec": {
   "display_name": "Python 3",
   "language": "python",
   "name": "python3"
  },
  "language_info": {
   "codemirror_mode": {
    "name": "ipython",
    "version": 3
   },
   "file_extension": ".py",
   "mimetype": "text/x-python",
   "name": "python",
   "nbconvert_exporter": "python",
   "pygments_lexer": "ipython3",
   "version": "3.7.1"
  }
 },
 "nbformat": 4,
 "nbformat_minor": 2
}
