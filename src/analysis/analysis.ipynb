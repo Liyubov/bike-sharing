{
 "cells": [
  {
   "cell_type": "markdown",
   "metadata": {},
   "source": [
    "# Anaylsis Bike Sharing Data"
   ]
  },
  {
   "cell_type": "code",
   "execution_count": 1,
   "metadata": {},
   "outputs": [],
   "source": [
    "import numpy as np\n",
    "import pandas as pd\n",
    "import datetime\n",
    "import matplotlib as plt\n",
    "%matplotlib inline\n",
    "from sqlalchemy import create_engine\n",
    "import requests\n",
    "import time\n",
    "\n",
    "import geopandas as gpd\n",
    "from shapely.geometry import Point\n",
    "from geopandas.tools import sjoin\n",
    "import geoplot"
   ]
  },
  {
   "cell_type": "markdown",
   "metadata": {},
   "source": [
    "# Analysis\n",
    "\n",
    "This analysis uses the non-anonymised data to evaluate information on providers and unique bikes."
   ]
  },
  {
   "cell_type": "markdown",
   "metadata": {},
   "source": [
    "## Setup"
   ]
  },
  {
   "cell_type": "code",
   "execution_count": 17,
   "metadata": {},
   "outputs": [],
   "source": [
    "df = pd.read_csv('../../data/cleaned.csv', parse_dates=['timestamp','end_timestamp', 'duration'])"
   ]
  },
  {
   "cell_type": "code",
   "execution_count": 39,
   "metadata": {},
   "outputs": [],
   "source": [
    "df.duration = df.end_timestamp - df.timestamp"
   ]
  },
  {
   "cell_type": "code",
   "execution_count": 40,
   "metadata": {},
   "outputs": [],
   "source": [
    "# day of the year\n",
    "df['yday'] = df.timestamp.apply(lambda x: x.timetuple().tm_yday)\n",
    "\n",
    "# hour of the day\n",
    "df['dhour'] = df.timestamp.apply(lambda x: x.time().hour)\n",
    "\n",
    "# \"hour of the year\"\n",
    "df['yhour'] = df.dhour + (df.yday * 24)\n",
    "\n",
    "# day of week\n",
    "df['dweek'] = df.timestamp.apply(lambda x: x.weekday())\n",
    "\n",
    "# \"hour of the week\"\n",
    "df['whour'] = df.dhour + (df.dweek * 24)\n",
    "\n",
    "# calendarweek\n",
    "df['calweek'] = df.timestamp.apply(lambda x: x.isocalendar()[1])"
   ]
  },
  {
   "cell_type": "code",
   "execution_count": 6,
   "metadata": {},
   "outputs": [],
   "source": [
    "# delete all trips from mobike\n",
    "nomo = df[df.providerId != 2]"
   ]
  },
  {
   "cell_type": "code",
   "execution_count": 19,
   "metadata": {},
   "outputs": [
    {
     "data": {
      "text/html": [
       "<div>\n",
       "<style scoped>\n",
       "    .dataframe tbody tr th:only-of-type {\n",
       "        vertical-align: middle;\n",
       "    }\n",
       "\n",
       "    .dataframe tbody tr th {\n",
       "        vertical-align: top;\n",
       "    }\n",
       "\n",
       "    .dataframe thead th {\n",
       "        text-align: right;\n",
       "    }\n",
       "</style>\n",
       "<table border=\"1\" class=\"dataframe\">\n",
       "  <thead>\n",
       "    <tr style=\"text-align: right;\">\n",
       "      <th></th>\n",
       "      <th>id</th>\n",
       "      <th>id.1</th>\n",
       "      <th>bikeId</th>\n",
       "      <th>providerId</th>\n",
       "      <th>latitude</th>\n",
       "      <th>longitude</th>\n",
       "      <th>prev_id</th>\n",
       "      <th>next_id</th>\n",
       "      <th>prev_lat</th>\n",
       "      <th>prev_lon</th>\n",
       "      <th>...</th>\n",
       "      <th>distance</th>\n",
       "      <th>calc_time</th>\n",
       "      <th>duration</th>\n",
       "      <th>speed</th>\n",
       "      <th>yday</th>\n",
       "      <th>dhour</th>\n",
       "      <th>yhour</th>\n",
       "      <th>dweek</th>\n",
       "      <th>whour</th>\n",
       "      <th>calweek</th>\n",
       "    </tr>\n",
       "  </thead>\n",
       "  <tbody>\n",
       "    <tr>\n",
       "      <th>count</th>\n",
       "      <td>5.300260e+05</td>\n",
       "      <td>5.300260e+05</td>\n",
       "      <td>5.300260e+05</td>\n",
       "      <td>530026.000000</td>\n",
       "      <td>530026.000000</td>\n",
       "      <td>530026.000000</td>\n",
       "      <td>5.300260e+05</td>\n",
       "      <td>5.300260e+05</td>\n",
       "      <td>530026.000000</td>\n",
       "      <td>530026.000000</td>\n",
       "      <td>...</td>\n",
       "      <td>530026.000000</td>\n",
       "      <td>530026.000000</td>\n",
       "      <td>530026</td>\n",
       "      <td>530026.000000</td>\n",
       "      <td>530026.000000</td>\n",
       "      <td>530026.000000</td>\n",
       "      <td>530026.000000</td>\n",
       "      <td>530026.000000</td>\n",
       "      <td>530026.000000</td>\n",
       "      <td>530026.000000</td>\n",
       "    </tr>\n",
       "    <tr>\n",
       "      <th>mean</th>\n",
       "      <td>1.779079e+06</td>\n",
       "      <td>1.779079e+06</td>\n",
       "      <td>3.751641e+08</td>\n",
       "      <td>1.281031</td>\n",
       "      <td>52.511071</td>\n",
       "      <td>13.385783</td>\n",
       "      <td>3.751641e+08</td>\n",
       "      <td>3.751641e+08</td>\n",
       "      <td>52.511046</td>\n",
       "      <td>13.385510</td>\n",
       "      <td>...</td>\n",
       "      <td>2427.326355</td>\n",
       "      <td>720.341570</td>\n",
       "      <td>0 days 02:13:04.810628</td>\n",
       "      <td>5.518721</td>\n",
       "      <td>141.045586</td>\n",
       "      <td>13.635186</td>\n",
       "      <td>3398.729260</td>\n",
       "      <td>2.955661</td>\n",
       "      <td>84.571042</td>\n",
       "      <td>20.727132</td>\n",
       "    </tr>\n",
       "    <tr>\n",
       "      <th>std</th>\n",
       "      <td>1.551575e+06</td>\n",
       "      <td>1.551575e+06</td>\n",
       "      <td>4.057313e+08</td>\n",
       "      <td>0.749341</td>\n",
       "      <td>0.019540</td>\n",
       "      <td>0.046768</td>\n",
       "      <td>4.057313e+08</td>\n",
       "      <td>4.057313e+08</td>\n",
       "      <td>0.019504</td>\n",
       "      <td>0.046971</td>\n",
       "      <td>...</td>\n",
       "      <td>2065.434001</td>\n",
       "      <td>570.087529</td>\n",
       "      <td>0 days 04:33:41.792505</td>\n",
       "      <td>5.725342</td>\n",
       "      <td>27.653907</td>\n",
       "      <td>5.744188</td>\n",
       "      <td>663.676298</td>\n",
       "      <td>1.978917</td>\n",
       "      <td>47.780873</td>\n",
       "      <td>3.949416</td>\n",
       "    </tr>\n",
       "    <tr>\n",
       "      <th>min</th>\n",
       "      <td>2.000000e+00</td>\n",
       "      <td>2.000000e+00</td>\n",
       "      <td>1.300100e+04</td>\n",
       "      <td>0.000000</td>\n",
       "      <td>52.360461</td>\n",
       "      <td>13.010897</td>\n",
       "      <td>1.300100e+04</td>\n",
       "      <td>1.300100e+04</td>\n",
       "      <td>52.360461</td>\n",
       "      <td>13.010897</td>\n",
       "      <td>...</td>\n",
       "      <td>200.100000</td>\n",
       "      <td>35.900000</td>\n",
       "      <td>0 days 00:02:34.203400</td>\n",
       "      <td>0.008346</td>\n",
       "      <td>91.000000</td>\n",
       "      <td>0.000000</td>\n",
       "      <td>2197.000000</td>\n",
       "      <td>0.000000</td>\n",
       "      <td>0.000000</td>\n",
       "      <td>14.000000</td>\n",
       "    </tr>\n",
       "    <tr>\n",
       "      <th>25%</th>\n",
       "      <td>4.849035e+05</td>\n",
       "      <td>4.849035e+05</td>\n",
       "      <td>1.754370e+05</td>\n",
       "      <td>1.000000</td>\n",
       "      <td>52.496990</td>\n",
       "      <td>13.347700</td>\n",
       "      <td>1.754370e+05</td>\n",
       "      <td>1.754370e+05</td>\n",
       "      <td>52.496933</td>\n",
       "      <td>13.347063</td>\n",
       "      <td>...</td>\n",
       "      <td>861.825000</td>\n",
       "      <td>285.600000</td>\n",
       "      <td>0 days 00:15:59.460606</td>\n",
       "      <td>0.925910</td>\n",
       "      <td>116.000000</td>\n",
       "      <td>9.000000</td>\n",
       "      <td>2789.000000</td>\n",
       "      <td>1.000000</td>\n",
       "      <td>42.000000</td>\n",
       "      <td>17.000000</td>\n",
       "    </tr>\n",
       "    <tr>\n",
       "      <th>50%</th>\n",
       "      <td>1.026545e+06</td>\n",
       "      <td>1.026545e+06</td>\n",
       "      <td>1.838900e+05</td>\n",
       "      <td>1.000000</td>\n",
       "      <td>52.510622</td>\n",
       "      <td>13.389274</td>\n",
       "      <td>1.838900e+05</td>\n",
       "      <td>1.838900e+05</td>\n",
       "      <td>52.510628</td>\n",
       "      <td>13.389121</td>\n",
       "      <td>...</td>\n",
       "      <td>1853.800000</td>\n",
       "      <td>565.200000</td>\n",
       "      <td>0 days 00:27:56.910572</td>\n",
       "      <td>4.237607</td>\n",
       "      <td>144.000000</td>\n",
       "      <td>14.000000</td>\n",
       "      <td>3466.000000</td>\n",
       "      <td>3.000000</td>\n",
       "      <td>86.000000</td>\n",
       "      <td>21.000000</td>\n",
       "    </tr>\n",
       "    <tr>\n",
       "      <th>75%</th>\n",
       "      <td>3.186866e+06</td>\n",
       "      <td>3.186866e+06</td>\n",
       "      <td>8.160239e+08</td>\n",
       "      <td>2.000000</td>\n",
       "      <td>52.524813</td>\n",
       "      <td>13.422601</td>\n",
       "      <td>8.160239e+08</td>\n",
       "      <td>8.160239e+08</td>\n",
       "      <td>52.524657</td>\n",
       "      <td>13.422580</td>\n",
       "      <td>...</td>\n",
       "      <td>3448.500000</td>\n",
       "      <td>1008.100000</td>\n",
       "      <td>0 days 01:15:53.780164</td>\n",
       "      <td>8.072169</td>\n",
       "      <td>164.000000</td>\n",
       "      <td>18.000000</td>\n",
       "      <td>3954.000000</td>\n",
       "      <td>5.000000</td>\n",
       "      <td>128.000000</td>\n",
       "      <td>24.000000</td>\n",
       "    </tr>\n",
       "    <tr>\n",
       "      <th>max</th>\n",
       "      <td>5.000193e+06</td>\n",
       "      <td>5.000193e+06</td>\n",
       "      <td>8.160550e+08</td>\n",
       "      <td>2.000000</td>\n",
       "      <td>52.683319</td>\n",
       "      <td>13.752372</td>\n",
       "      <td>8.160550e+08</td>\n",
       "      <td>8.160550e+08</td>\n",
       "      <td>52.683319</td>\n",
       "      <td>13.752372</td>\n",
       "      <td>...</td>\n",
       "      <td>34504.700000</td>\n",
       "      <td>9376.200000</td>\n",
       "      <td>0 days 23:59:59.988111</td>\n",
       "      <td>29.999916</td>\n",
       "      <td>192.000000</td>\n",
       "      <td>23.000000</td>\n",
       "      <td>4622.000000</td>\n",
       "      <td>6.000000</td>\n",
       "      <td>167.000000</td>\n",
       "      <td>28.000000</td>\n",
       "    </tr>\n",
       "  </tbody>\n",
       "</table>\n",
       "<p>8 rows × 22 columns</p>\n",
       "</div>"
      ],
      "text/plain": [
       "                 id          id.1        bikeId     providerId       latitude  \\\n",
       "count  5.300260e+05  5.300260e+05  5.300260e+05  530026.000000  530026.000000   \n",
       "mean   1.779079e+06  1.779079e+06  3.751641e+08       1.281031      52.511071   \n",
       "std    1.551575e+06  1.551575e+06  4.057313e+08       0.749341       0.019540   \n",
       "min    2.000000e+00  2.000000e+00  1.300100e+04       0.000000      52.360461   \n",
       "25%    4.849035e+05  4.849035e+05  1.754370e+05       1.000000      52.496990   \n",
       "50%    1.026545e+06  1.026545e+06  1.838900e+05       1.000000      52.510622   \n",
       "75%    3.186866e+06  3.186866e+06  8.160239e+08       2.000000      52.524813   \n",
       "max    5.000193e+06  5.000193e+06  8.160550e+08       2.000000      52.683319   \n",
       "\n",
       "           longitude       prev_id       next_id       prev_lat  \\\n",
       "count  530026.000000  5.300260e+05  5.300260e+05  530026.000000   \n",
       "mean       13.385783  3.751641e+08  3.751641e+08      52.511046   \n",
       "std         0.046768  4.057313e+08  4.057313e+08       0.019504   \n",
       "min        13.010897  1.300100e+04  1.300100e+04      52.360461   \n",
       "25%        13.347700  1.754370e+05  1.754370e+05      52.496933   \n",
       "50%        13.389274  1.838900e+05  1.838900e+05      52.510628   \n",
       "75%        13.422601  8.160239e+08  8.160239e+08      52.524657   \n",
       "max        13.752372  8.160550e+08  8.160550e+08      52.683319   \n",
       "\n",
       "            prev_lon  ...       distance      calc_time  \\\n",
       "count  530026.000000  ...  530026.000000  530026.000000   \n",
       "mean       13.385510  ...    2427.326355     720.341570   \n",
       "std         0.046971  ...    2065.434001     570.087529   \n",
       "min        13.010897  ...     200.100000      35.900000   \n",
       "25%        13.347063  ...     861.825000     285.600000   \n",
       "50%        13.389121  ...    1853.800000     565.200000   \n",
       "75%        13.422580  ...    3448.500000    1008.100000   \n",
       "max        13.752372  ...   34504.700000    9376.200000   \n",
       "\n",
       "                     duration          speed           yday          dhour  \\\n",
       "count                  530026  530026.000000  530026.000000  530026.000000   \n",
       "mean   0 days 02:13:04.810628       5.518721     141.045586      13.635186   \n",
       "std    0 days 04:33:41.792505       5.725342      27.653907       5.744188   \n",
       "min    0 days 00:02:34.203400       0.008346      91.000000       0.000000   \n",
       "25%    0 days 00:15:59.460606       0.925910     116.000000       9.000000   \n",
       "50%    0 days 00:27:56.910572       4.237607     144.000000      14.000000   \n",
       "75%    0 days 01:15:53.780164       8.072169     164.000000      18.000000   \n",
       "max    0 days 23:59:59.988111      29.999916     192.000000      23.000000   \n",
       "\n",
       "               yhour          dweek          whour        calweek  \n",
       "count  530026.000000  530026.000000  530026.000000  530026.000000  \n",
       "mean     3398.729260       2.955661      84.571042      20.727132  \n",
       "std       663.676298       1.978917      47.780873       3.949416  \n",
       "min      2197.000000       0.000000       0.000000      14.000000  \n",
       "25%      2789.000000       1.000000      42.000000      17.000000  \n",
       "50%      3466.000000       3.000000      86.000000      21.000000  \n",
       "75%      3954.000000       5.000000     128.000000      24.000000  \n",
       "max      4622.000000       6.000000     167.000000      28.000000  \n",
       "\n",
       "[8 rows x 22 columns]"
      ]
     },
     "execution_count": 19,
     "metadata": {},
     "output_type": "execute_result"
    }
   ],
   "source": [
    "df.describe()"
   ]
  },
  {
   "cell_type": "markdown",
   "metadata": {},
   "source": [
    "## How many unique bike IDs are there (per provider)?"
   ]
  },
  {
   "cell_type": "markdown",
   "metadata": {},
   "source": [
    "### Unique ids over the entire time period"
   ]
  },
  {
   "cell_type": "code",
   "execution_count": 22,
   "metadata": {},
   "outputs": [],
   "source": [
    "def get_unique_ids(df):\n",
    "    unique_bikes = pd.DataFrame()\n",
    "    unique_bikes = unique_bikes.append([([df.bikeId.unique().shape[0], df[(df.providerId == 0)].bikeId.unique().shape[0], \n",
    "             df[(df.providerId == 1)].bikeId.unique().shape[0],\n",
    "             df[(df.providerId == 2)].bikeId.unique().shape[0]])])\n",
    "    unique_bikes.columns = [['total', 'nextbike', 'lidlbike', 'mobike']]\n",
    "    return unique_bikes"
   ]
  },
  {
   "cell_type": "code",
   "execution_count": 101,
   "metadata": {},
   "outputs": [
    {
     "data": {
      "text/html": [
       "<div>\n",
       "<style scoped>\n",
       "    .dataframe tbody tr th:only-of-type {\n",
       "        vertical-align: middle;\n",
       "    }\n",
       "\n",
       "    .dataframe tbody tr th {\n",
       "        vertical-align: top;\n",
       "    }\n",
       "\n",
       "    .dataframe thead tr th {\n",
       "        text-align: left;\n",
       "    }\n",
       "</style>\n",
       "<table border=\"1\" class=\"dataframe\">\n",
       "  <thead>\n",
       "    <tr>\n",
       "      <th></th>\n",
       "      <th>total</th>\n",
       "      <th>nextbike</th>\n",
       "      <th>lidlbike</th>\n",
       "      <th>mobike</th>\n",
       "    </tr>\n",
       "  </thead>\n",
       "  <tbody>\n",
       "    <tr>\n",
       "      <th>0</th>\n",
       "      <td>15040</td>\n",
       "      <td>2364</td>\n",
       "      <td>3534</td>\n",
       "      <td>9142</td>\n",
       "    </tr>\n",
       "  </tbody>\n",
       "</table>\n",
       "</div>"
      ],
      "text/plain": [
       "   total nextbike lidlbike mobike\n",
       "0  15040     2364     3534   9142"
      ]
     },
     "execution_count": 101,
     "metadata": {},
     "output_type": "execute_result"
    }
   ],
   "source": [
    "# cleaned dataet\n",
    "get_unique_ids(df)"
   ]
  },
  {
   "cell_type": "code",
   "execution_count": 29,
   "metadata": {},
   "outputs": [
    {
     "data": {
      "text/html": [
       "<div>\n",
       "<style scoped>\n",
       "    .dataframe tbody tr th:only-of-type {\n",
       "        vertical-align: middle;\n",
       "    }\n",
       "\n",
       "    .dataframe tbody tr th {\n",
       "        vertical-align: top;\n",
       "    }\n",
       "\n",
       "    .dataframe thead tr th {\n",
       "        text-align: left;\n",
       "    }\n",
       "</style>\n",
       "<table border=\"1\" class=\"dataframe\">\n",
       "  <thead>\n",
       "    <tr>\n",
       "      <th></th>\n",
       "      <th>total</th>\n",
       "      <th>nextbike</th>\n",
       "      <th>lidlbike</th>\n",
       "      <th>mobike</th>\n",
       "    </tr>\n",
       "  </thead>\n",
       "  <tbody>\n",
       "    <tr>\n",
       "      <th>0</th>\n",
       "      <td>15375</td>\n",
       "      <td>2396</td>\n",
       "      <td>3633</td>\n",
       "      <td>9346</td>\n",
       "    </tr>\n",
       "  </tbody>\n",
       "</table>\n",
       "</div>"
      ],
      "text/plain": [
       "   total nextbike lidlbike mobike\n",
       "0  15375     2396     3633   9346"
      ]
     },
     "execution_count": 29,
     "metadata": {},
     "output_type": "execute_result"
    }
   ],
   "source": [
    "# not cleaned dataset\n",
    "uniques = get_unique_ids(df)\n",
    "uniques"
   ]
  },
  {
   "cell_type": "markdown",
   "metadata": {},
   "source": [
    "### Daily available bikes"
   ]
  },
  {
   "cell_type": "code",
   "execution_count": null,
   "metadata": {},
   "outputs": [],
   "source": [
    "# use dataset with information on \"accessible\" phases of bikes"
   ]
  },
  {
   "cell_type": "code",
   "execution_count": 113,
   "metadata": {},
   "outputs": [],
   "source": [
    "# how many bikes are available each day?\n",
    "def get_unique_ids_per_day(df):\n",
    "    daily_unique = pd.DataFrame()\n",
    "\n",
    "    start_time = df.sort_values('timestamp').reset_index().loc[0,'timestamp']\n",
    "    end_time = df.sort_values('timestamp').reset_index().loc[df.shape[0]-2, 'timestamp']\n",
    "    times= []\n",
    "    \n",
    "    # get all desired times\n",
    "    while start_time < end_time:\n",
    "        times.append(start_time)\n",
    "        start_time += datetime.timedelta(hours=24)\n",
    "    \n",
    "    daily_unique['time'] = times\n",
    "    daily_unique['total'] = daily_unique.time.apply(lambda x: df[\n",
    "               (df.timestamp <= x) & \n",
    "               (df.end_timestamp >= x)].bikeId.unique().shape[0])\n",
    "    daily_unique['nextbike'] = daily_unique.time.apply(lambda x: df[\n",
    "               (df.providerId == 0)&\n",
    "               (df.timestamp <= x) & \n",
    "               (df.end_timestamp >= x)].bikeId.unique().shape[0])\n",
    "    daily_unique['lidlbike'] = daily_unique.time.apply(lambda x: df[\n",
    "               (df.providerId == 1)&\n",
    "               (df.timestamp <= x) & \n",
    "               (df.end_timestamp >= x)].bikeId.unique().shape[0])\n",
    "    daily_unique['mobike'] = daily_unique.time.apply(lambda x: df[\n",
    "               (df.providerId == 2)&\n",
    "               (df.timestamp <= x) & \n",
    "               (df.end_timestamp >= x)].bikeId.unique().shape[0])\n",
    "    \n",
    "    return daily_unique\n",
    "    "
   ]
  },
  {
   "cell_type": "code",
   "execution_count": 111,
   "metadata": {},
   "outputs": [],
   "source": [
    "df_routed = pd.read_csv('../../data/routed.csv', parse_dates=['timestamp','end_timestamp'])\n",
    "\n",
    "df_routed['duration'] = df_routed.end_timestamp - df_routed.timestamp\n",
    "\n",
    "# drop trips that are longer than 24 hours\n",
    "df_routed = df_routed.drop(df_routed[(df_routed['mode'] == 'trip') & (df_routed.duration > datetime.timedelta(hours=24))].index)"
   ]
  },
  {
   "cell_type": "code",
   "execution_count": 114,
   "metadata": {},
   "outputs": [],
   "source": [
    "daily_uniques = get_unique_ids_per_day(df_routed)"
   ]
  },
  {
   "cell_type": "code",
   "execution_count": 115,
   "metadata": {},
   "outputs": [
    {
     "data": {
      "text/html": [
       "<div>\n",
       "<style scoped>\n",
       "    .dataframe tbody tr th:only-of-type {\n",
       "        vertical-align: middle;\n",
       "    }\n",
       "\n",
       "    .dataframe tbody tr th {\n",
       "        vertical-align: top;\n",
       "    }\n",
       "\n",
       "    .dataframe thead th {\n",
       "        text-align: right;\n",
       "    }\n",
       "</style>\n",
       "<table border=\"1\" class=\"dataframe\">\n",
       "  <thead>\n",
       "    <tr style=\"text-align: right;\">\n",
       "      <th></th>\n",
       "      <th>total</th>\n",
       "      <th>nextbike</th>\n",
       "      <th>lidlbike</th>\n",
       "      <th>mobike</th>\n",
       "    </tr>\n",
       "  </thead>\n",
       "  <tbody>\n",
       "    <tr>\n",
       "      <th>count</th>\n",
       "      <td>106.000000</td>\n",
       "      <td>106.000000</td>\n",
       "      <td>106.000000</td>\n",
       "      <td>106.000000</td>\n",
       "    </tr>\n",
       "    <tr>\n",
       "      <th>mean</th>\n",
       "      <td>6648.952830</td>\n",
       "      <td>1080.386792</td>\n",
       "      <td>2378.132075</td>\n",
       "      <td>3190.433962</td>\n",
       "    </tr>\n",
       "    <tr>\n",
       "      <th>std</th>\n",
       "      <td>1683.276037</td>\n",
       "      <td>225.138754</td>\n",
       "      <td>984.323999</td>\n",
       "      <td>1105.881644</td>\n",
       "    </tr>\n",
       "    <tr>\n",
       "      <th>min</th>\n",
       "      <td>603.000000</td>\n",
       "      <td>0.000000</td>\n",
       "      <td>0.000000</td>\n",
       "      <td>16.000000</td>\n",
       "    </tr>\n",
       "    <tr>\n",
       "      <th>25%</th>\n",
       "      <td>5265.500000</td>\n",
       "      <td>1007.500000</td>\n",
       "      <td>2642.250000</td>\n",
       "      <td>3410.250000</td>\n",
       "    </tr>\n",
       "    <tr>\n",
       "      <th>50%</th>\n",
       "      <td>7449.000000</td>\n",
       "      <td>1095.500000</td>\n",
       "      <td>2813.000000</td>\n",
       "      <td>3533.500000</td>\n",
       "    </tr>\n",
       "    <tr>\n",
       "      <th>75%</th>\n",
       "      <td>7719.750000</td>\n",
       "      <td>1215.750000</td>\n",
       "      <td>2889.000000</td>\n",
       "      <td>3730.000000</td>\n",
       "    </tr>\n",
       "    <tr>\n",
       "      <th>max</th>\n",
       "      <td>8078.000000</td>\n",
       "      <td>1409.000000</td>\n",
       "      <td>3048.000000</td>\n",
       "      <td>3966.000000</td>\n",
       "    </tr>\n",
       "  </tbody>\n",
       "</table>\n",
       "</div>"
      ],
      "text/plain": [
       "             total     nextbike     lidlbike       mobike\n",
       "count   106.000000   106.000000   106.000000   106.000000\n",
       "mean   6648.952830  1080.386792  2378.132075  3190.433962\n",
       "std    1683.276037   225.138754   984.323999  1105.881644\n",
       "min     603.000000     0.000000     0.000000    16.000000\n",
       "25%    5265.500000  1007.500000  2642.250000  3410.250000\n",
       "50%    7449.000000  1095.500000  2813.000000  3533.500000\n",
       "75%    7719.750000  1215.750000  2889.000000  3730.000000\n",
       "max    8078.000000  1409.000000  3048.000000  3966.000000"
      ]
     },
     "execution_count": 115,
     "metadata": {},
     "output_type": "execute_result"
    }
   ],
   "source": [
    "daily_uniques.describe()"
   ]
  },
  {
   "cell_type": "code",
   "execution_count": 261,
   "metadata": {},
   "outputs": [],
   "source": [
    "available_nextbike = daily_uniques.describe().nextbike.loc['50%']\n",
    "available_lidlbike = daily_uniques.describe().lidlbike.loc['50%']\n",
    "available_total = daily_uniques.describe().total.loc['50%']"
   ]
  },
  {
   "cell_type": "markdown",
   "metadata": {},
   "source": [
    "## Distance"
   ]
  },
  {
   "cell_type": "code",
   "execution_count": 90,
   "metadata": {},
   "outputs": [],
   "source": [
    "## sum of kilometers driven each day"
   ]
  },
  {
   "cell_type": "code",
   "execution_count": 294,
   "metadata": {},
   "outputs": [
    {
     "data": {
      "text/plain": [
       "count    1.020000e+02\n",
       "mean     8.181863e+06\n",
       "std      3.060360e+06\n",
       "min      1.554133e+06\n",
       "25%      6.624518e+06\n",
       "50%      8.730289e+06\n",
       "75%      1.034454e+07\n",
       "max      1.409361e+07\n",
       "Name: distance, dtype: float64"
      ]
     },
     "execution_count": 294,
     "metadata": {},
     "output_type": "execute_result"
    }
   ],
   "source": [
    "df.groupby(['providerId', 'yday']).sum().distance.describe()"
   ]
  },
  {
   "cell_type": "code",
   "execution_count": 295,
   "metadata": {},
   "outputs": [],
   "source": [
    "## average distance"
   ]
  },
  {
   "cell_type": "code",
   "execution_count": 296,
   "metadata": {},
   "outputs": [
    {
     "data": {
      "text/plain": [
       "count    285505.000000\n",
       "mean       2923.066337\n",
       "std        2068.878080\n",
       "min         300.100000\n",
       "25%        1392.400000\n",
       "50%        2416.400000\n",
       "75%        3990.900000\n",
       "max       34504.700000\n",
       "Name: distance, dtype: float64"
      ]
     },
     "execution_count": 296,
     "metadata": {},
     "output_type": "execute_result"
    }
   ],
   "source": [
    "nomo.distance.describe()"
   ]
  },
  {
   "cell_type": "code",
   "execution_count": 297,
   "metadata": {},
   "outputs": [],
   "source": [
    "# average distance per provider"
   ]
  },
  {
   "cell_type": "code",
   "execution_count": 298,
   "metadata": {},
   "outputs": [
    {
     "data": {
      "text/html": [
       "<div>\n",
       "<style scoped>\n",
       "    .dataframe tbody tr th:only-of-type {\n",
       "        vertical-align: middle;\n",
       "    }\n",
       "\n",
       "    .dataframe tbody tr th {\n",
       "        vertical-align: top;\n",
       "    }\n",
       "\n",
       "    .dataframe thead th {\n",
       "        text-align: right;\n",
       "    }\n",
       "</style>\n",
       "<table border=\"1\" class=\"dataframe\">\n",
       "  <thead>\n",
       "    <tr style=\"text-align: right;\">\n",
       "      <th></th>\n",
       "      <th>count</th>\n",
       "      <th>mean</th>\n",
       "      <th>std</th>\n",
       "      <th>min</th>\n",
       "      <th>25%</th>\n",
       "      <th>50%</th>\n",
       "      <th>75%</th>\n",
       "      <th>max</th>\n",
       "    </tr>\n",
       "    <tr>\n",
       "      <th>providerId</th>\n",
       "      <th></th>\n",
       "      <th></th>\n",
       "      <th></th>\n",
       "      <th></th>\n",
       "      <th></th>\n",
       "      <th></th>\n",
       "      <th></th>\n",
       "      <th></th>\n",
       "    </tr>\n",
       "  </thead>\n",
       "  <tbody>\n",
       "    <tr>\n",
       "      <th>0</th>\n",
       "      <td>96060.0</td>\n",
       "      <td>3181.509189</td>\n",
       "      <td>2302.334391</td>\n",
       "      <td>300.2</td>\n",
       "      <td>1491.5</td>\n",
       "      <td>2651.25</td>\n",
       "      <td>4328.200</td>\n",
       "      <td>34504.7</td>\n",
       "    </tr>\n",
       "    <tr>\n",
       "      <th>1</th>\n",
       "      <td>192576.0</td>\n",
       "      <td>2772.546322</td>\n",
       "      <td>1930.933922</td>\n",
       "      <td>300.1</td>\n",
       "      <td>1327.9</td>\n",
       "      <td>2284.90</td>\n",
       "      <td>3793.325</td>\n",
       "      <td>18159.2</td>\n",
       "    </tr>\n",
       "    <tr>\n",
       "      <th>2</th>\n",
       "      <td>221595.0</td>\n",
       "      <td>2185.121588</td>\n",
       "      <td>1946.801769</td>\n",
       "      <td>300.1</td>\n",
       "      <td>740.5</td>\n",
       "      <td>1562.30</td>\n",
       "      <td>2993.500</td>\n",
       "      <td>13909.0</td>\n",
       "    </tr>\n",
       "  </tbody>\n",
       "</table>\n",
       "</div>"
      ],
      "text/plain": [
       "               count         mean          std    min     25%      50%  \\\n",
       "providerId                                                               \n",
       "0            96060.0  3181.509189  2302.334391  300.2  1491.5  2651.25   \n",
       "1           192576.0  2772.546322  1930.933922  300.1  1327.9  2284.90   \n",
       "2           221595.0  2185.121588  1946.801769  300.1   740.5  1562.30   \n",
       "\n",
       "                 75%      max  \n",
       "providerId                     \n",
       "0           4328.200  34504.7  \n",
       "1           3793.325  18159.2  \n",
       "2           2993.500  13909.0  "
      ]
     },
     "execution_count": 298,
     "metadata": {},
     "output_type": "execute_result"
    }
   ],
   "source": [
    "df.groupby('providerId').distance.describe()"
   ]
  },
  {
   "cell_type": "markdown",
   "metadata": {},
   "source": [
    "## Duration"
   ]
  },
  {
   "cell_type": "code",
   "execution_count": 305,
   "metadata": {},
   "outputs": [
    {
     "data": {
      "text/plain": [
       "count                    285505\n",
       "mean     0 days 01:37:44.060788\n",
       "std      0 days 03:57:21.167035\n",
       "min      0 days 00:03:08.838554\n",
       "25%      0 days 00:15:59.737327\n",
       "50%      0 days 00:23:59.672760\n",
       "75%      0 days 00:40:00.278078\n",
       "max      0 days 23:59:59.988111\n",
       "Name: duration, dtype: object"
      ]
     },
     "execution_count": 305,
     "metadata": {},
     "output_type": "execute_result"
    }
   ],
   "source": [
    "trips.duration.describe()"
   ]
  },
  {
   "cell_type": "code",
   "execution_count": 306,
   "metadata": {},
   "outputs": [
    {
     "data": {
      "text/html": [
       "<div>\n",
       "<style scoped>\n",
       "    .dataframe tbody tr th:only-of-type {\n",
       "        vertical-align: middle;\n",
       "    }\n",
       "\n",
       "    .dataframe tbody tr th {\n",
       "        vertical-align: top;\n",
       "    }\n",
       "\n",
       "    .dataframe thead th {\n",
       "        text-align: right;\n",
       "    }\n",
       "</style>\n",
       "<table border=\"1\" class=\"dataframe\">\n",
       "  <thead>\n",
       "    <tr style=\"text-align: right;\">\n",
       "      <th></th>\n",
       "      <th>count</th>\n",
       "      <th>mean</th>\n",
       "      <th>std</th>\n",
       "      <th>min</th>\n",
       "      <th>25%</th>\n",
       "      <th>50%</th>\n",
       "      <th>75%</th>\n",
       "      <th>max</th>\n",
       "    </tr>\n",
       "    <tr>\n",
       "      <th>providerId</th>\n",
       "      <th></th>\n",
       "      <th></th>\n",
       "      <th></th>\n",
       "      <th></th>\n",
       "      <th></th>\n",
       "      <th></th>\n",
       "      <th></th>\n",
       "      <th></th>\n",
       "    </tr>\n",
       "  </thead>\n",
       "  <tbody>\n",
       "    <tr>\n",
       "      <th>0</th>\n",
       "      <td>95594</td>\n",
       "      <td>0 days 03:24:06.610921</td>\n",
       "      <td>0 days 05:54:10.698723</td>\n",
       "      <td>0 days 00:03:08.838554</td>\n",
       "      <td>0 days 00:16:00.942989</td>\n",
       "      <td>0 days 00:31:59.754681</td>\n",
       "      <td>0 days 02:56:00.061008</td>\n",
       "      <td>0 days 23:59:59.988111</td>\n",
       "    </tr>\n",
       "    <tr>\n",
       "      <th>1</th>\n",
       "      <td>189911</td>\n",
       "      <td>0 days 00:44:11.326942</td>\n",
       "      <td>0 days 01:53:57.996358</td>\n",
       "      <td>0 days 00:03:32.949500</td>\n",
       "      <td>0 days 00:15:59.375762</td>\n",
       "      <td>0 days 00:20:00.649095</td>\n",
       "      <td>0 days 00:32:00.097121</td>\n",
       "      <td>0 days 23:59:59.786224</td>\n",
       "    </tr>\n",
       "  </tbody>\n",
       "</table>\n",
       "</div>"
      ],
      "text/plain": [
       "             count                    mean                     std  \\\n",
       "providerId                                                           \n",
       "0            95594  0 days 03:24:06.610921  0 days 05:54:10.698723   \n",
       "1           189911  0 days 00:44:11.326942  0 days 01:53:57.996358   \n",
       "\n",
       "                               min                     25%  \\\n",
       "providerId                                                   \n",
       "0           0 days 00:03:08.838554  0 days 00:16:00.942989   \n",
       "1           0 days 00:03:32.949500  0 days 00:15:59.375762   \n",
       "\n",
       "                               50%                     75%  \\\n",
       "providerId                                                   \n",
       "0           0 days 00:31:59.754681  0 days 02:56:00.061008   \n",
       "1           0 days 00:20:00.649095  0 days 00:32:00.097121   \n",
       "\n",
       "                               max  \n",
       "providerId                          \n",
       "0           0 days 23:59:59.988111  \n",
       "1           0 days 23:59:59.786224  "
      ]
     },
     "execution_count": 306,
     "metadata": {},
     "output_type": "execute_result"
    }
   ],
   "source": [
    "trips.groupby('providerId').duration.describe()"
   ]
  },
  {
   "cell_type": "code",
   "execution_count": 307,
   "metadata": {},
   "outputs": [
    {
     "data": {
      "text/plain": [
       "<matplotlib.axes._subplots.AxesSubplot at 0x1d1b9206518>"
      ]
     },
     "execution_count": 307,
     "metadata": {},
     "output_type": "execute_result"
    },
    {
     "data": {
      "image/png": "[encoded data removed]",
      "text/plain": [
       "<Figure size 432x288 with 1 Axes>"
      ]
     },
     "metadata": {
      "needs_background": "light"
     },
     "output_type": "display_data"
    }
   ],
   "source": [
    "# histogram of minutes spent on trip\n",
    "trips.duration.apply(lambda x: x.seconds / 60).hist(range=(0,250))"
   ]
  },
  {
   "cell_type": "code",
   "execution_count": 308,
   "metadata": {},
   "outputs": [
    {
     "data": {
      "text/plain": [
       "<matplotlib.axes._subplots.AxesSubplot at 0x1d1b91a8320>"
      ]
     },
     "execution_count": 308,
     "metadata": {},
     "output_type": "execute_result"
    },
    {
     "data": {
      "image/png": "[encoded data removed]",
      "text/plain": [
       "<Figure size 432x288 with 1 Axes>"
      ]
     },
     "metadata": {
      "needs_background": "light"
     },
     "output_type": "display_data"
    }
   ],
   "source": [
    "trips[trips.providerId == 0].groupby('dhour').duration.describe()['mean'].plot()"
   ]
  },
  {
   "cell_type": "markdown",
   "metadata": {},
   "source": [
    "## daily counts of trips"
   ]
  },
  {
   "cell_type": "code",
   "execution_count": 310,
   "metadata": {},
   "outputs": [
    {
     "data": {
      "text/plain": [
       "providerId\n",
       "0    2678.288660\n",
       "1    5139.977778\n",
       "Name: id, dtype: float64"
      ]
     },
     "execution_count": 310,
     "metadata": {},
     "output_type": "execute_result"
    }
   ],
   "source": [
    "# daily trips by provider\n",
    "df.groupby(['yday', 'providerId']).count().id.groupby('providerId').describe()"
   ]
  },
  {
   "cell_type": "markdown",
   "metadata": {},
   "source": [
    "## count of trips each hour"
   ]
  },
  {
   "cell_type": "code",
   "execution_count": 311,
   "metadata": {},
   "outputs": [],
   "source": [
    "counts = trips[['bikeId', 'yhour']].groupby(['yhour']).count()"
   ]
  },
  {
   "cell_type": "code",
   "execution_count": 314,
   "metadata": {},
   "outputs": [],
   "source": [
    "nb = trips[trips.providerId == 0][['bikeId', 'yhour']].groupby(['yhour']).count()\n",
    "\n",
    "lb = trips[trips.providerId == 1][['bikeId', 'yhour']].groupby(['yhour']).count()\n",
    "\n",
    "# mb = trips[trips.providerId == 2][['bikeId', 'yhour']].groupby(['yhour']).count()"
   ]
  },
  {
   "cell_type": "code",
   "execution_count": 315,
   "metadata": {},
   "outputs": [
    {
     "data": {
      "text/plain": [
       "<matplotlib.axes._subplots.AxesSubplot at 0x1d24fe65c50>"
      ]
     },
     "execution_count": 315,
     "metadata": {},
     "output_type": "execute_result"
    },
    {
     "data": {
      "image/png": "[encoded data removed]",
      "text/plain": [
       "<Figure size 432x288 with 1 Axes>"
      ]
     },
     "metadata": {
      "needs_background": "light"
     },
     "output_type": "display_data"
    },
    {
     "data": {
      "image/png": "[encoded data removed]",
      "text/plain": [
       "<Figure size 432x288 with 1 Axes>"
      ]
     },
     "metadata": {
      "needs_background": "light"
     },
     "output_type": "display_data"
    }
   ],
   "source": [
    "nb.plot()\n",
    "lb.plot()\n",
    "# mb.plot()"
   ]
  },
  {
   "cell_type": "code",
   "execution_count": 65,
   "metadata": {},
   "outputs": [
    {
     "data": {
      "text/plain": [
       "<matplotlib.axes._subplots.AxesSubplot at 0x1d1023e17f0>"
      ]
     },
     "execution_count": 65,
     "metadata": {},
     "output_type": "execute_result"
    },
    {
     "data": {
      "image/png": "[encoded data removed]",
      "text/plain": [
       "<Figure size 720x360 with 1 Axes>"
      ]
     },
     "metadata": {
      "needs_background": "light"
     },
     "output_type": "display_data"
    }
   ],
   "source": [
    "counts.plot(figsize=(10,5))"
   ]
  },
  {
   "cell_type": "markdown",
   "metadata": {},
   "source": [
    "#### How much time is a bike used? "
   ]
  },
  {
   "cell_type": "code",
   "execution_count": 87,
   "metadata": {},
   "outputs": [
    {
     "data": {
      "text/html": [
       "<div>\n",
       "<style scoped>\n",
       "    .dataframe tbody tr th:only-of-type {\n",
       "        vertical-align: middle;\n",
       "    }\n",
       "\n",
       "    .dataframe tbody tr th {\n",
       "        vertical-align: top;\n",
       "    }\n",
       "\n",
       "    .dataframe thead th {\n",
       "        text-align: right;\n",
       "    }\n",
       "</style>\n",
       "<table border=\"1\" class=\"dataframe\">\n",
       "  <thead>\n",
       "    <tr style=\"text-align: right;\">\n",
       "      <th></th>\n",
       "      <th>count</th>\n",
       "      <th>mean</th>\n",
       "      <th>std</th>\n",
       "      <th>min</th>\n",
       "      <th>25%</th>\n",
       "      <th>50%</th>\n",
       "      <th>75%</th>\n",
       "      <th>max</th>\n",
       "    </tr>\n",
       "    <tr>\n",
       "      <th>providerId</th>\n",
       "      <th></th>\n",
       "      <th></th>\n",
       "      <th></th>\n",
       "      <th></th>\n",
       "      <th></th>\n",
       "      <th></th>\n",
       "      <th></th>\n",
       "      <th></th>\n",
       "    </tr>\n",
       "  </thead>\n",
       "  <tbody>\n",
       "    <tr>\n",
       "      <th>0</th>\n",
       "      <td>2365.0</td>\n",
       "      <td>42.797040</td>\n",
       "      <td>16.472283</td>\n",
       "      <td>1.0</td>\n",
       "      <td>33.0</td>\n",
       "      <td>43.0</td>\n",
       "      <td>53.0</td>\n",
       "      <td>191.0</td>\n",
       "    </tr>\n",
       "    <tr>\n",
       "      <th>1</th>\n",
       "      <td>3551.0</td>\n",
       "      <td>59.564066</td>\n",
       "      <td>26.760414</td>\n",
       "      <td>1.0</td>\n",
       "      <td>42.0</td>\n",
       "      <td>62.0</td>\n",
       "      <td>79.0</td>\n",
       "      <td>161.0</td>\n",
       "    </tr>\n",
       "    <tr>\n",
       "      <th>2</th>\n",
       "      <td>9186.0</td>\n",
       "      <td>37.920422</td>\n",
       "      <td>69.884386</td>\n",
       "      <td>1.0</td>\n",
       "      <td>17.0</td>\n",
       "      <td>30.0</td>\n",
       "      <td>45.0</td>\n",
       "      <td>1823.0</td>\n",
       "    </tr>\n",
       "  </tbody>\n",
       "</table>\n",
       "</div>"
      ],
      "text/plain": [
       "             count       mean        std  min   25%   50%   75%     max\n",
       "providerId                                                             \n",
       "0           2365.0  42.797040  16.472283  1.0  33.0  43.0  53.0   191.0\n",
       "1           3551.0  59.564066  26.760414  1.0  42.0  62.0  79.0   161.0\n",
       "2           9186.0  37.920422  69.884386  1.0  17.0  30.0  45.0  1823.0"
      ]
     },
     "execution_count": 87,
     "metadata": {},
     "output_type": "execute_result"
    }
   ],
   "source": [
    "# average trips per bike\n",
    "trips.groupby(['bikeId', 'providerId']).count().id.groupby('providerId').describe()"
   ]
  },
  {
   "cell_type": "markdown",
   "metadata": {},
   "source": [
    "## how high is the utilization rate? (available bikes / all bikes)"
   ]
  },
  {
   "cell_type": "code",
   "execution_count": 129,
   "metadata": {},
   "outputs": [],
   "source": [
    "## more precise, than general average of available bikes\n",
    "#\n",
    "# all accessibe bikes each day\n",
    "# accessible = df.drop_duplicates(subset = ['yday', 'bikeId', 'providerId']).groupby(['yday', 'providerId']).count()\n",
    "\n",
    "# merge df on accessible bikes per day\n",
    "# in_use = in_use['id'].reset_index().set_index(['yday', 'providerId', 'dhour']).join(accessible['id.1'].reset_index().set_index(['yday', 'providerId']))\n",
    "# in_use.rename(columns={\"id\": \"in_use\", \"id.1\": \"accessible\"}, inplace=True)"
   ]
  },
  {
   "cell_type": "code",
   "execution_count": 36,
   "metadata": {},
   "outputs": [],
   "source": [
    "# how many bikes are available / on a trip for each hour?\n",
    "def count_bikes_in_mode(df, mode):\n",
    "    bikes_accessible = pd.DataFrame()\n",
    "\n",
    "    start_time = df.sort_values('timestamp').reset_index().loc[0,'timestamp']\n",
    "    end_time = df.sort_values('timestamp').reset_index().loc[df.shape[0]-2, 'timestamp']\n",
    "    times= []\n",
    "    while start_time < end_time:\n",
    "        times.append(start_time)\n",
    "        start_time += datetime.timedelta(hours=1)\n",
    "    \n",
    "    bikes_accessible['time'] = times\n",
    "    bikes_accessible['total'] = bikes_accessible.time.apply(lambda x: df[(df['mode']==mode) &\n",
    "               (df.timestamp <= x) & \n",
    "               (df.end_timestamp > x)].bikeId.unique().shape[0])\n",
    "    bikes_accessible['nextbike'] = bikes_accessible.time.apply(lambda x: df[(df['mode']==mode) &\n",
    "               (df.providerId == 0) &\n",
    "               (df.timestamp <= x) & \n",
    "               (df.end_timestamp > x)].bikeId.unique().shape[0])\n",
    "    bikes_accessible['lidlbike'] = bikes_accessible.time.apply(lambda x: df[(df['mode']==mode) &\n",
    "               (df.providerId == 1) &\n",
    "               (df.timestamp <= x) & \n",
    "               (df.end_timestamp > x)].bikeId.unique().shape[0])\n",
    "   # bikes_accessible['mobike'] = bikes_accessible.time.apply(lambda x: df[(df['mode']==mode) &\n",
    "    #           (df.providerId == 2)&\n",
    "     #          (df.timestamp <= x) & \n",
    "      #         (df.end_timestamp > x)].bikeId.unique().shape[0])\n",
    "    \n",
    "    # day of the year\n",
    "    bikes_accessible['yday'] = bikes_accessible.time.apply(lambda x: x.timetuple().tm_yday)\n",
    "\n",
    "    # hour of the day\n",
    "    bikes_accessible['dhour'] = bikes_accessible.time.apply(lambda x: x.time().hour)\n",
    "\n",
    "    # \"hour of the year\"\n",
    "    bikes_accessible['yhour'] = bikes_accessible.dhour + (bikes_accessible.yday * 24)\n",
    "\n",
    "    # day of week\n",
    "    bikes_accessible['dweek'] = bikes_accessible.time.apply(lambda x: x.weekday())\n",
    "    return bikes_accessible"
   ]
  },
  {
   "cell_type": "code",
   "execution_count": 37,
   "metadata": {},
   "outputs": [],
   "source": [
    "in_use = count_bikes_in_mode(df[(df.timestamp > datetime.datetime(2019,6,1)) & (df.timestamp < datetime.datetime(2019,7,1))].sort_values('timestamp'), 'trip')"
   ]
  },
  {
   "cell_type": "code",
   "execution_count": 222,
   "metadata": {},
   "outputs": [],
   "source": [
    "in_use['nextbike'] = in_use.nextbike / available_nextbike\n",
    "in_use['lidlbike'] = in_use.lidlbike / available_lidlbike\n",
    "in_use['total'] = in_use.total / available_total"
   ]
  },
  {
   "cell_type": "code",
   "execution_count": 223,
   "metadata": {},
   "outputs": [],
   "source": [
    "# in_use.groupby('dhour').mean()"
   ]
  },
  {
   "cell_type": "code",
   "execution_count": 230,
   "metadata": {},
   "outputs": [
    {
     "data": {
      "text/html": [
       "<div>\n",
       "<style scoped>\n",
       "    .dataframe tbody tr th:only-of-type {\n",
       "        vertical-align: middle;\n",
       "    }\n",
       "\n",
       "    .dataframe tbody tr th {\n",
       "        vertical-align: top;\n",
       "    }\n",
       "\n",
       "    .dataframe thead th {\n",
       "        text-align: right;\n",
       "    }\n",
       "</style>\n",
       "<table border=\"1\" class=\"dataframe\">\n",
       "  <thead>\n",
       "    <tr style=\"text-align: right;\">\n",
       "      <th></th>\n",
       "      <th>total</th>\n",
       "      <th>nextbike</th>\n",
       "      <th>lidlbike</th>\n",
       "      <th>yday</th>\n",
       "      <th>dhour</th>\n",
       "      <th>yhour</th>\n",
       "      <th>dweek</th>\n",
       "    </tr>\n",
       "  </thead>\n",
       "  <tbody>\n",
       "    <tr>\n",
       "      <th>count</th>\n",
       "      <td>720.000000</td>\n",
       "      <td>720.000000</td>\n",
       "      <td>720.000000</td>\n",
       "      <td>720.000000</td>\n",
       "      <td>720.000000</td>\n",
       "      <td>720.000000</td>\n",
       "      <td>720.000000</td>\n",
       "    </tr>\n",
       "    <tr>\n",
       "      <th>mean</th>\n",
       "      <td>0.032488</td>\n",
       "      <td>0.141295</td>\n",
       "      <td>0.026134</td>\n",
       "      <td>166.500000</td>\n",
       "      <td>11.500000</td>\n",
       "      <td>4007.500000</td>\n",
       "      <td>3.166667</td>\n",
       "    </tr>\n",
       "    <tr>\n",
       "      <th>std</th>\n",
       "      <td>0.015736</td>\n",
       "      <td>0.084439</td>\n",
       "      <td>0.016040</td>\n",
       "      <td>8.661458</td>\n",
       "      <td>6.926999</td>\n",
       "      <td>207.990384</td>\n",
       "      <td>2.035840</td>\n",
       "    </tr>\n",
       "    <tr>\n",
       "      <th>min</th>\n",
       "      <td>0.000881</td>\n",
       "      <td>0.000000</td>\n",
       "      <td>0.000000</td>\n",
       "      <td>152.000000</td>\n",
       "      <td>0.000000</td>\n",
       "      <td>3648.000000</td>\n",
       "      <td>0.000000</td>\n",
       "    </tr>\n",
       "    <tr>\n",
       "      <th>25%</th>\n",
       "      <td>0.021888</td>\n",
       "      <td>0.081488</td>\n",
       "      <td>0.011382</td>\n",
       "      <td>159.000000</td>\n",
       "      <td>5.750000</td>\n",
       "      <td>3827.750000</td>\n",
       "      <td>1.000000</td>\n",
       "    </tr>\n",
       "    <tr>\n",
       "      <th>50%</th>\n",
       "      <td>0.033713</td>\n",
       "      <td>0.164861</td>\n",
       "      <td>0.024601</td>\n",
       "      <td>166.500000</td>\n",
       "      <td>11.500000</td>\n",
       "      <td>4007.500000</td>\n",
       "      <td>3.000000</td>\n",
       "    </tr>\n",
       "    <tr>\n",
       "      <th>75%</th>\n",
       "      <td>0.043188</td>\n",
       "      <td>0.205370</td>\n",
       "      <td>0.037452</td>\n",
       "      <td>174.000000</td>\n",
       "      <td>17.250000</td>\n",
       "      <td>4187.250000</td>\n",
       "      <td>5.000000</td>\n",
       "    </tr>\n",
       "    <tr>\n",
       "      <th>max</th>\n",
       "      <td>0.072126</td>\n",
       "      <td>0.300518</td>\n",
       "      <td>0.073435</td>\n",
       "      <td>181.000000</td>\n",
       "      <td>23.000000</td>\n",
       "      <td>4367.000000</td>\n",
       "      <td>6.000000</td>\n",
       "    </tr>\n",
       "  </tbody>\n",
       "</table>\n",
       "</div>"
      ],
      "text/plain": [
       "            total    nextbike    lidlbike        yday       dhour  \\\n",
       "count  720.000000  720.000000  720.000000  720.000000  720.000000   \n",
       "mean     0.032488    0.141295    0.026134  166.500000   11.500000   \n",
       "std      0.015736    0.084439    0.016040    8.661458    6.926999   \n",
       "min      0.000881    0.000000    0.000000  152.000000    0.000000   \n",
       "25%      0.021888    0.081488    0.011382  159.000000    5.750000   \n",
       "50%      0.033713    0.164861    0.024601  166.500000   11.500000   \n",
       "75%      0.043188    0.205370    0.037452  174.000000   17.250000   \n",
       "max      0.072126    0.300518    0.073435  181.000000   23.000000   \n",
       "\n",
       "             yhour       dweek  \n",
       "count   720.000000  720.000000  \n",
       "mean   4007.500000    3.166667  \n",
       "std     207.990384    2.035840  \n",
       "min    3648.000000    0.000000  \n",
       "25%    3827.750000    1.000000  \n",
       "50%    4007.500000    3.000000  \n",
       "75%    4187.250000    5.000000  \n",
       "max    4367.000000    6.000000  "
      ]
     },
     "execution_count": 230,
     "metadata": {},
     "output_type": "execute_result"
    }
   ],
   "source": [
    "in_use.describe()"
   ]
  },
  {
   "cell_type": "code",
   "execution_count": 224,
   "metadata": {},
   "outputs": [
    {
     "data": {
      "text/plain": [
       "<matplotlib.axes._subplots.AxesSubplot at 0x1d260ddb860>"
      ]
     },
     "execution_count": 224,
     "metadata": {},
     "output_type": "execute_result"
    },
    {
     "data": {
      "image/png": "[encoded data removed]",
      "text/plain": [
       "<Figure size 432x288 with 1 Axes>"
      ]
     },
     "metadata": {
      "needs_background": "light"
     },
     "output_type": "display_data"
    }
   ],
   "source": [
    "in_use.groupby('dhour').mean()[['nextbike', 'lidlbike']].plot()"
   ]
  },
  {
   "cell_type": "markdown",
   "metadata": {},
   "source": [
    "Usage rate varies between 0 and 16 %."
   ]
  },
  {
   "cell_type": "markdown",
   "metadata": {},
   "source": [
    "#### how many bikes bikes are accessible / in use each day?"
   ]
  },
  {
   "cell_type": "code",
   "execution_count": 269,
   "metadata": {},
   "outputs": [
    {
     "data": {
      "text/html": [
       "<div>\n",
       "<style scoped>\n",
       "    .dataframe tbody tr th:only-of-type {\n",
       "        vertical-align: middle;\n",
       "    }\n",
       "\n",
       "    .dataframe tbody tr th {\n",
       "        vertical-align: top;\n",
       "    }\n",
       "\n",
       "    .dataframe thead th {\n",
       "        text-align: right;\n",
       "    }\n",
       "</style>\n",
       "<table border=\"1\" class=\"dataframe\">\n",
       "  <thead>\n",
       "    <tr style=\"text-align: right;\">\n",
       "      <th></th>\n",
       "      <th>id</th>\n",
       "      <th>id.1</th>\n",
       "      <th>bikeId</th>\n",
       "      <th>timestamp</th>\n",
       "      <th>latitude</th>\n",
       "      <th>longitude</th>\n",
       "      <th>prev_id</th>\n",
       "      <th>next_id</th>\n",
       "      <th>prev_lat</th>\n",
       "      <th>prev_lon</th>\n",
       "      <th>...</th>\n",
       "      <th>response</th>\n",
       "      <th>geometry</th>\n",
       "      <th>distance</th>\n",
       "      <th>calc_time</th>\n",
       "      <th>waypoints</th>\n",
       "      <th>duration</th>\n",
       "      <th>speed</th>\n",
       "      <th>dhour</th>\n",
       "      <th>yhour</th>\n",
       "      <th>dweek</th>\n",
       "    </tr>\n",
       "    <tr>\n",
       "      <th>providerId</th>\n",
       "      <th></th>\n",
       "      <th></th>\n",
       "      <th></th>\n",
       "      <th></th>\n",
       "      <th></th>\n",
       "      <th></th>\n",
       "      <th></th>\n",
       "      <th></th>\n",
       "      <th></th>\n",
       "      <th></th>\n",
       "      <th></th>\n",
       "      <th></th>\n",
       "      <th></th>\n",
       "      <th></th>\n",
       "      <th></th>\n",
       "      <th></th>\n",
       "      <th></th>\n",
       "      <th></th>\n",
       "      <th></th>\n",
       "      <th></th>\n",
       "      <th></th>\n",
       "    </tr>\n",
       "  </thead>\n",
       "  <tbody>\n",
       "    <tr>\n",
       "      <th>0</th>\n",
       "      <td>953</td>\n",
       "      <td>953</td>\n",
       "      <td>953</td>\n",
       "      <td>953</td>\n",
       "      <td>953</td>\n",
       "      <td>953</td>\n",
       "      <td>953</td>\n",
       "      <td>953</td>\n",
       "      <td>953</td>\n",
       "      <td>953</td>\n",
       "      <td>...</td>\n",
       "      <td>360</td>\n",
       "      <td>360</td>\n",
       "      <td>360</td>\n",
       "      <td>360</td>\n",
       "      <td>360</td>\n",
       "      <td>953</td>\n",
       "      <td>360</td>\n",
       "      <td>953</td>\n",
       "      <td>953</td>\n",
       "      <td>953</td>\n",
       "    </tr>\n",
       "    <tr>\n",
       "      <th>1</th>\n",
       "      <td>2326</td>\n",
       "      <td>2326</td>\n",
       "      <td>2326</td>\n",
       "      <td>2326</td>\n",
       "      <td>2326</td>\n",
       "      <td>2326</td>\n",
       "      <td>2326</td>\n",
       "      <td>2326</td>\n",
       "      <td>2326</td>\n",
       "      <td>2326</td>\n",
       "      <td>...</td>\n",
       "      <td>497</td>\n",
       "      <td>497</td>\n",
       "      <td>497</td>\n",
       "      <td>497</td>\n",
       "      <td>497</td>\n",
       "      <td>2326</td>\n",
       "      <td>497</td>\n",
       "      <td>2326</td>\n",
       "      <td>2326</td>\n",
       "      <td>2326</td>\n",
       "    </tr>\n",
       "    <tr>\n",
       "      <th>2</th>\n",
       "      <td>4373</td>\n",
       "      <td>4373</td>\n",
       "      <td>4373</td>\n",
       "      <td>4373</td>\n",
       "      <td>4373</td>\n",
       "      <td>4373</td>\n",
       "      <td>4373</td>\n",
       "      <td>4373</td>\n",
       "      <td>4373</td>\n",
       "      <td>4373</td>\n",
       "      <td>...</td>\n",
       "      <td>161</td>\n",
       "      <td>161</td>\n",
       "      <td>161</td>\n",
       "      <td>161</td>\n",
       "      <td>161</td>\n",
       "      <td>4373</td>\n",
       "      <td>161</td>\n",
       "      <td>4373</td>\n",
       "      <td>4373</td>\n",
       "      <td>4373</td>\n",
       "    </tr>\n",
       "  </tbody>\n",
       "</table>\n",
       "<p>3 rows × 24 columns</p>\n",
       "</div>"
      ],
      "text/plain": [
       "              id  id.1  bikeId  timestamp  latitude  longitude  prev_id  \\\n",
       "providerId                                                                \n",
       "0            953   953     953        953       953        953      953   \n",
       "1           2326  2326    2326       2326      2326       2326     2326   \n",
       "2           4373  4373    4373       4373      4373       4373     4373   \n",
       "\n",
       "            next_id  prev_lat  prev_lon  ...  response  geometry  distance  \\\n",
       "providerId                               ...                                 \n",
       "0               953       953       953  ...       360       360       360   \n",
       "1              2326      2326      2326  ...       497       497       497   \n",
       "2              4373      4373      4373  ...       161       161       161   \n",
       "\n",
       "            calc_time  waypoints  duration  speed  dhour  yhour  dweek  \n",
       "providerId                                                              \n",
       "0                 360        360       953    360    953    953    953  \n",
       "1                 497        497      2326    497   2326   2326   2326  \n",
       "2                 161        161      4373    161   4373   4373   4373  \n",
       "\n",
       "[3 rows x 24 columns]"
      ]
     },
     "execution_count": 269,
     "metadata": {},
     "output_type": "execute_result"
    }
   ],
   "source": [
    "# on average accessible bikes per day\n",
    "df.drop_duplicates(subset = ['yday', 'bikeId', 'providerId']).groupby(['yday', 'providerId']).count().groupby('providerId').median()"
   ]
  },
  {
   "cell_type": "code",
   "execution_count": 43,
   "metadata": {},
   "outputs": [
    {
     "data": {
      "text/html": [
       "<div>\n",
       "<style scoped>\n",
       "    .dataframe tbody tr th:only-of-type {\n",
       "        vertical-align: middle;\n",
       "    }\n",
       "\n",
       "    .dataframe tbody tr th {\n",
       "        vertical-align: top;\n",
       "    }\n",
       "\n",
       "    .dataframe thead th {\n",
       "        text-align: right;\n",
       "    }\n",
       "</style>\n",
       "<table border=\"1\" class=\"dataframe\">\n",
       "  <thead>\n",
       "    <tr style=\"text-align: right;\">\n",
       "      <th></th>\n",
       "      <th>count</th>\n",
       "      <th>mean</th>\n",
       "      <th>std</th>\n",
       "      <th>min</th>\n",
       "      <th>25%</th>\n",
       "      <th>50%</th>\n",
       "      <th>75%</th>\n",
       "      <th>max</th>\n",
       "    </tr>\n",
       "    <tr>\n",
       "      <th>providerId</th>\n",
       "      <th></th>\n",
       "      <th></th>\n",
       "      <th></th>\n",
       "      <th></th>\n",
       "      <th></th>\n",
       "      <th></th>\n",
       "      <th></th>\n",
       "      <th></th>\n",
       "    </tr>\n",
       "  </thead>\n",
       "  <tbody>\n",
       "    <tr>\n",
       "      <th>0</th>\n",
       "      <td>97.0</td>\n",
       "      <td>581.597938</td>\n",
       "      <td>182.938609</td>\n",
       "      <td>51.0</td>\n",
       "      <td>458.0</td>\n",
       "      <td>593.0</td>\n",
       "      <td>724.0</td>\n",
       "      <td>965.0</td>\n",
       "    </tr>\n",
       "    <tr>\n",
       "      <th>1</th>\n",
       "      <td>89.0</td>\n",
       "      <td>1134.943820</td>\n",
       "      <td>206.258684</td>\n",
       "      <td>214.0</td>\n",
       "      <td>1057.0</td>\n",
       "      <td>1147.0</td>\n",
       "      <td>1266.0</td>\n",
       "      <td>1472.0</td>\n",
       "    </tr>\n",
       "    <tr>\n",
       "      <th>2</th>\n",
       "      <td>95.0</td>\n",
       "      <td>1336.147368</td>\n",
       "      <td>324.755291</td>\n",
       "      <td>1.0</td>\n",
       "      <td>1225.0</td>\n",
       "      <td>1380.0</td>\n",
       "      <td>1528.0</td>\n",
       "      <td>1764.0</td>\n",
       "    </tr>\n",
       "  </tbody>\n",
       "</table>\n",
       "</div>"
      ],
      "text/plain": [
       "            count         mean         std    min     25%     50%     75%  \\\n",
       "providerId                                                                  \n",
       "0            97.0   581.597938  182.938609   51.0   458.0   593.0   724.0   \n",
       "1            89.0  1134.943820  206.258684  214.0  1057.0  1147.0  1266.0   \n",
       "2            95.0  1336.147368  324.755291    1.0  1225.0  1380.0  1528.0   \n",
       "\n",
       "               max  \n",
       "providerId          \n",
       "0            965.0  \n",
       "1           1472.0  \n",
       "2           1764.0  "
      ]
     },
     "execution_count": 43,
     "metadata": {},
     "output_type": "execute_result"
    }
   ],
   "source": [
    "# on average used bikes per day\n",
    "df.drop_duplicates(subset = ['yday', 'bikeId', 'providerId']).groupby(['yday', 'providerId']).count().groupby('providerId').describe().id"
   ]
  },
  {
   "cell_type": "code",
   "execution_count": 44,
   "metadata": {},
   "outputs": [
    {
     "data": {
      "text/html": [
       "<div>\n",
       "<style scoped>\n",
       "    .dataframe tbody tr th:only-of-type {\n",
       "        vertical-align: middle;\n",
       "    }\n",
       "\n",
       "    .dataframe tbody tr th {\n",
       "        vertical-align: top;\n",
       "    }\n",
       "\n",
       "    .dataframe thead th {\n",
       "        text-align: right;\n",
       "    }\n",
       "</style>\n",
       "<table border=\"1\" class=\"dataframe\">\n",
       "  <thead>\n",
       "    <tr style=\"text-align: right;\">\n",
       "      <th></th>\n",
       "      <th>count</th>\n",
       "      <th>mean</th>\n",
       "      <th>std</th>\n",
       "      <th>min</th>\n",
       "      <th>25%</th>\n",
       "      <th>50%</th>\n",
       "      <th>75%</th>\n",
       "      <th>max</th>\n",
       "    </tr>\n",
       "    <tr>\n",
       "      <th>providerId</th>\n",
       "      <th></th>\n",
       "      <th></th>\n",
       "      <th></th>\n",
       "      <th></th>\n",
       "      <th></th>\n",
       "      <th></th>\n",
       "      <th></th>\n",
       "      <th></th>\n",
       "    </tr>\n",
       "  </thead>\n",
       "  <tbody>\n",
       "    <tr>\n",
       "      <th>0</th>\n",
       "      <td>2155.0</td>\n",
       "      <td>44.204640</td>\n",
       "      <td>35.060875</td>\n",
       "      <td>1.0</td>\n",
       "      <td>16.0</td>\n",
       "      <td>38.0</td>\n",
       "      <td>64.0</td>\n",
       "      <td>296.0</td>\n",
       "    </tr>\n",
       "    <tr>\n",
       "      <th>1</th>\n",
       "      <td>1968.0</td>\n",
       "      <td>96.824187</td>\n",
       "      <td>70.588359</td>\n",
       "      <td>1.0</td>\n",
       "      <td>36.0</td>\n",
       "      <td>90.0</td>\n",
       "      <td>138.0</td>\n",
       "      <td>807.0</td>\n",
       "    </tr>\n",
       "    <tr>\n",
       "      <th>2</th>\n",
       "      <td>2116.0</td>\n",
       "      <td>115.413516</td>\n",
       "      <td>43.647953</td>\n",
       "      <td>1.0</td>\n",
       "      <td>82.0</td>\n",
       "      <td>112.0</td>\n",
       "      <td>147.0</td>\n",
       "      <td>256.0</td>\n",
       "    </tr>\n",
       "  </tbody>\n",
       "</table>\n",
       "</div>"
      ],
      "text/plain": [
       "             count        mean        std  min   25%    50%    75%    max\n",
       "providerId                                                               \n",
       "0           2155.0   44.204640  35.060875  1.0  16.0   38.0   64.0  296.0\n",
       "1           1968.0   96.824187  70.588359  1.0  36.0   90.0  138.0  807.0\n",
       "2           2116.0  115.413516  43.647953  1.0  82.0  112.0  147.0  256.0"
      ]
     },
     "execution_count": 44,
     "metadata": {},
     "output_type": "execute_result"
    }
   ],
   "source": [
    "# on overage used bikes per hour\n",
    "df.groupby(['providerId', 'yhour']).count().groupby('providerId').describe().id"
   ]
  },
  {
   "cell_type": "code",
   "execution_count": 272,
   "metadata": {},
   "outputs": [
    {
     "data": {
      "text/plain": [
       "0.45023822128110114"
      ]
     },
     "execution_count": 272,
     "metadata": {},
     "output_type": "execute_result"
    }
   ],
   "source": [
    "# percentage of bikes used daily\n",
    "df.drop_duplicates(subset = ['yday', 'bikeId', 'providerId']).groupby('yday').count().median().id / available_total"
   ]
  },
  {
   "cell_type": "markdown",
   "metadata": {},
   "source": [
    "## How many rides per bike per day?"
   ]
  },
  {
   "cell_type": "code",
   "execution_count": 46,
   "metadata": {},
   "outputs": [
    {
     "data": {
      "text/html": [
       "<div>\n",
       "<style scoped>\n",
       "    .dataframe tbody tr th:only-of-type {\n",
       "        vertical-align: middle;\n",
       "    }\n",
       "\n",
       "    .dataframe tbody tr th {\n",
       "        vertical-align: top;\n",
       "    }\n",
       "\n",
       "    .dataframe thead th {\n",
       "        text-align: right;\n",
       "    }\n",
       "</style>\n",
       "<table border=\"1\" class=\"dataframe\">\n",
       "  <thead>\n",
       "    <tr style=\"text-align: right;\">\n",
       "      <th></th>\n",
       "      <th>count</th>\n",
       "      <th>mean</th>\n",
       "      <th>std</th>\n",
       "      <th>min</th>\n",
       "      <th>25%</th>\n",
       "      <th>50%</th>\n",
       "      <th>75%</th>\n",
       "      <th>max</th>\n",
       "    </tr>\n",
       "    <tr>\n",
       "      <th>providerId</th>\n",
       "      <th></th>\n",
       "      <th></th>\n",
       "      <th></th>\n",
       "      <th></th>\n",
       "      <th></th>\n",
       "      <th></th>\n",
       "      <th></th>\n",
       "      <th></th>\n",
       "    </tr>\n",
       "  </thead>\n",
       "  <tbody>\n",
       "    <tr>\n",
       "      <th>0</th>\n",
       "      <td>56415.0</td>\n",
       "      <td>1.688576</td>\n",
       "      <td>1.151787</td>\n",
       "      <td>1.0</td>\n",
       "      <td>1.0</td>\n",
       "      <td>1.0</td>\n",
       "      <td>2.0</td>\n",
       "      <td>61.0</td>\n",
       "    </tr>\n",
       "    <tr>\n",
       "      <th>1</th>\n",
       "      <td>101010.0</td>\n",
       "      <td>1.886447</td>\n",
       "      <td>1.123010</td>\n",
       "      <td>1.0</td>\n",
       "      <td>1.0</td>\n",
       "      <td>2.0</td>\n",
       "      <td>2.0</td>\n",
       "      <td>12.0</td>\n",
       "    </tr>\n",
       "    <tr>\n",
       "      <th>2</th>\n",
       "      <td>126934.0</td>\n",
       "      <td>1.923953</td>\n",
       "      <td>3.903933</td>\n",
       "      <td>1.0</td>\n",
       "      <td>1.0</td>\n",
       "      <td>1.0</td>\n",
       "      <td>2.0</td>\n",
       "      <td>115.0</td>\n",
       "    </tr>\n",
       "  </tbody>\n",
       "</table>\n",
       "</div>"
      ],
      "text/plain": [
       "               count      mean       std  min  25%  50%  75%    max\n",
       "providerId                                                         \n",
       "0            56415.0  1.688576  1.151787  1.0  1.0  1.0  2.0   61.0\n",
       "1           101010.0  1.886447  1.123010  1.0  1.0  2.0  2.0   12.0\n",
       "2           126934.0  1.923953  3.903933  1.0  1.0  1.0  2.0  115.0"
      ]
     },
     "execution_count": 46,
     "metadata": {},
     "output_type": "execute_result"
    }
   ],
   "source": [
    "df.groupby(['yday', 'bikeId', 'providerId']).count().groupby('providerId').describe().id"
   ]
  },
  {
   "cell_type": "markdown",
   "metadata": {},
   "source": [
    "Median of 1-2 rides per bike per day."
   ]
  },
  {
   "cell_type": "code",
   "execution_count": 51,
   "metadata": {},
   "outputs": [
    {
     "data": {
      "text/plain": [
       "count    284359.000000\n",
       "mean          1.863933\n",
       "std           2.742675\n",
       "min           1.000000\n",
       "25%           1.000000\n",
       "50%           1.000000\n",
       "75%           2.000000\n",
       "max         115.000000\n",
       "Name: id, dtype: float64"
      ]
     },
     "execution_count": 51,
     "metadata": {},
     "output_type": "execute_result"
    }
   ],
   "source": [
    "df.groupby(['yday', 'bikeId']).count().id.describe()"
   ]
  },
  {
   "cell_type": "markdown",
   "metadata": {},
   "source": [
    "#### Bike Availability: \n",
    "- Where are bikes available (per Planungsraum)? On average? On average weekdays / times?\n",
    "- Distance between available bikes"
   ]
  },
  {
   "cell_type": "markdown",
   "metadata": {},
   "source": [
    "#### how long is the life span of a bike? (first appearence and last appearence)\n",
    "- is there periodical appearences?"
   ]
  },
  {
   "cell_type": "code",
   "execution_count": 259,
   "metadata": {},
   "outputs": [],
   "source": [
    "# get data for lifespan\n",
    "\n",
    "def lifespan (df):\n",
    "    # each line one trip with start-loc and end-loc\n",
    "    # for each bike ID\n",
    "    start_timestamp = df.sort_values(by=['bikeId', 'timestamp']).drop_duplicates('bikeId', keep='first')\n",
    "    last_timestamp = df.sort_values(by=['bikeId', 'timestamp'], ascending = False).drop_duplicates('bikeId', keep='first')\n",
    "    start_timestamp.set_index('bikeId', inplace=True)\n",
    "    last_timestamp.set_index('bikeId', inplace=True)\n",
    "    return start_timestamp.join(last_timestamp[['timestamp']], rsuffix='_last')"
   ]
  },
  {
   "cell_type": "code",
   "execution_count": 261,
   "metadata": {},
   "outputs": [],
   "source": [
    "lifespan = lifespan(df)"
   ]
  },
  {
   "cell_type": "code",
   "execution_count": 268,
   "metadata": {},
   "outputs": [
    {
     "data": {
      "text/plain": [
       "Timedelta('88 days 06:09:59.964870')"
      ]
     },
     "execution_count": 268,
     "metadata": {},
     "output_type": "execute_result"
    }
   ],
   "source": [
    "(lifespan.timestamp_last - lifespan.timestamp).median()"
   ]
  },
  {
   "cell_type": "markdown",
   "metadata": {},
   "source": [
    "#### speed of bikes"
   ]
  },
  {
   "cell_type": "code",
   "execution_count": 271,
   "metadata": {},
   "outputs": [
    {
     "data": {
      "text/plain": [
       "<matplotlib.axes._subplots.AxesSubplot at 0x1b7892f01d0>"
      ]
     },
     "execution_count": 271,
     "metadata": {},
     "output_type": "execute_result"
    },
    {
     "data": {
      "image/png": "[encoded data removed]",
      "text/plain": [
       "<Figure size 432x288 with 1 Axes>"
      ]
     },
     "metadata": {
      "needs_background": "light"
     },
     "output_type": "display_data"
    }
   ],
   "source": [
    "df['speed'].hist()"
   ]
  },
  {
   "cell_type": "code",
   "execution_count": 272,
   "metadata": {},
   "outputs": [
    {
     "data": {
      "text/plain": [
       "count    661064.000000\n",
       "mean          4.711225\n",
       "std           5.547541\n",
       "min           0.004344\n",
       "25%           0.526149\n",
       "50%           2.731577\n",
       "75%           7.240797\n",
       "max          29.999916\n",
       "Name: speed, dtype: float64"
      ]
     },
     "execution_count": 272,
     "metadata": {},
     "output_type": "execute_result"
    }
   ],
   "source": [
    "df['speed'].describe()"
   ]
  }
 ],
 "metadata": {
  "kernelspec": {
   "display_name": "analysis",
   "language": "python",
   "name": "analysis"
  },
  "language_info": {
   "codemirror_mode": {
    "name": "ipython",
    "version": 3
   },
   "file_extension": ".py",
   "mimetype": "text/x-python",
   "name": "python",
   "nbconvert_exporter": "python",
   "pygments_lexer": "ipython3",
   "version": "3.7.3"
  }
 },
 "nbformat": 4,
 "nbformat_minor": 4
}
