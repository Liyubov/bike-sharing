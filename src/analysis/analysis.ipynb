{
 "cells": [
  {
   "cell_type": "markdown",
   "metadata": {},
   "source": [
    "# Anaylsis Bike Sharing Data"
   ]
  },
  {
   "cell_type": "code",
   "execution_count": 350,
   "metadata": {},
   "outputs": [],
   "source": [
    "import numpy as np\n",
    "import pandas as pd\n",
    "import datetime\n",
    "import matplotlib as plt\n",
    "%matplotlib inline\n",
    "from sqlalchemy import create_engine\n",
    "import requests\n",
    "import time\n",
    "\n",
    "import geopandas as gpd\n",
    "from shapely.geometry import Point\n",
    "from geopandas.tools import sjoin\n",
    "import geoplot"
   ]
  },
  {
   "cell_type": "markdown",
   "metadata": {},
   "source": [
    "# Analysis"
   ]
  },
  {
   "cell_type": "code",
   "execution_count": 122,
   "metadata": {},
   "outputs": [],
   "source": [
    "df = pd.read_csv('../../data/cleaned.csv', parse_dates=['timestamp','end_timestamp', 'duration'])"
   ]
  },
  {
   "cell_type": "code",
   "execution_count": 265,
   "metadata": {},
   "outputs": [],
   "source": [
    "df = df[(df['mode'] != 'trip') | (df.distance > 300)].copy(deep=True)"
   ]
  },
  {
   "cell_type": "code",
   "execution_count": 172,
   "metadata": {},
   "outputs": [],
   "source": [
    "df.duration = df.end_timestamp - df.timestamp"
   ]
  },
  {
   "cell_type": "code",
   "execution_count": 345,
   "metadata": {},
   "outputs": [],
   "source": [
    "# day of the year\n",
    "df['yday'] = df.timestamp.apply(lambda x: x.timetuple().tm_yday)\n",
    "\n",
    "# hour of the day\n",
    "df['dhour'] = df.timestamp.apply(lambda x: x.time().hour)\n",
    "\n",
    "# \"hour of the year\"\n",
    "df['yhour'] = df.dhour + (df.yday * 24)\n",
    "\n",
    "# day of week\n",
    "df['dweek'] = df.timestamp.apply(lambda x: x.weekday())\n",
    "\n",
    "# \"hour of the week\"\n",
    "df['whour'] = df.dhour + (df.dweek * 24)\n",
    "\n",
    "# calendarweek\n",
    "df['calweek'] = df.timestamp.apply(lambda x: x.isocalendar()[1])"
   ]
  },
  {
   "cell_type": "code",
   "execution_count": 346,
   "metadata": {},
   "outputs": [],
   "source": [
    "nomo = df[df.providerId != 2]"
   ]
  },
  {
   "cell_type": "code",
   "execution_count": 347,
   "metadata": {},
   "outputs": [],
   "source": [
    "# delete all trips starting at 4am\n",
    "nomo = nomo[nomo.dhour != 4]"
   ]
  },
  {
   "cell_type": "code",
   "execution_count": 348,
   "metadata": {},
   "outputs": [],
   "source": [
    "trips = nomo[nomo['mode'] == 'trip']"
   ]
  },
  {
   "cell_type": "code",
   "execution_count": 21,
   "metadata": {},
   "outputs": [],
   "source": [
    "# df.loc[:,'hourly_starttime'] = df.timestamp.apply(lambda dt: datetime.datetime(dt.year, dt.month, dt.day, dt.hour,15*(dt.minute // 60)))"
   ]
  },
  {
   "cell_type": "code",
   "execution_count": 351,
   "metadata": {},
   "outputs": [
    {
     "data": {
      "text/html": [
       "<div>\n",
       "<style scoped>\n",
       "    .dataframe tbody tr th:only-of-type {\n",
       "        vertical-align: middle;\n",
       "    }\n",
       "\n",
       "    .dataframe tbody tr th {\n",
       "        vertical-align: top;\n",
       "    }\n",
       "\n",
       "    .dataframe thead th {\n",
       "        text-align: right;\n",
       "    }\n",
       "</style>\n",
       "<table border=\"1\" class=\"dataframe\">\n",
       "  <thead>\n",
       "    <tr style=\"text-align: right;\">\n",
       "      <th></th>\n",
       "      <th>id</th>\n",
       "      <th>id.1</th>\n",
       "      <th>bikeId</th>\n",
       "      <th>providerId</th>\n",
       "      <th>latitude</th>\n",
       "      <th>longitude</th>\n",
       "      <th>prev_id</th>\n",
       "      <th>next_id</th>\n",
       "      <th>prev_lat</th>\n",
       "      <th>prev_lon</th>\n",
       "      <th>...</th>\n",
       "      <th>distance</th>\n",
       "      <th>calc_time</th>\n",
       "      <th>duration</th>\n",
       "      <th>speed</th>\n",
       "      <th>yday</th>\n",
       "      <th>dhour</th>\n",
       "      <th>yhour</th>\n",
       "      <th>dweek</th>\n",
       "      <th>whour</th>\n",
       "      <th>calweek</th>\n",
       "    </tr>\n",
       "  </thead>\n",
       "  <tbody>\n",
       "    <tr>\n",
       "      <th>count</th>\n",
       "      <td>3.475419e+06</td>\n",
       "      <td>3.475419e+06</td>\n",
       "      <td>3.475419e+06</td>\n",
       "      <td>3.475419e+06</td>\n",
       "      <td>3.475419e+06</td>\n",
       "      <td>3.475419e+06</td>\n",
       "      <td>3.475419e+06</td>\n",
       "      <td>3.475419e+06</td>\n",
       "      <td>3.475419e+06</td>\n",
       "      <td>3.475419e+06</td>\n",
       "      <td>...</td>\n",
       "      <td>510231.000000</td>\n",
       "      <td>510231.000000</td>\n",
       "      <td>3475419</td>\n",
       "      <td>510231.000000</td>\n",
       "      <td>3.475419e+06</td>\n",
       "      <td>3.475419e+06</td>\n",
       "      <td>3.475419e+06</td>\n",
       "      <td>3.475419e+06</td>\n",
       "      <td>3.475419e+06</td>\n",
       "      <td>3.475419e+06</td>\n",
       "    </tr>\n",
       "    <tr>\n",
       "      <th>mean</th>\n",
       "      <td>2.431806e+06</td>\n",
       "      <td>2.431806e+06</td>\n",
       "      <td>6.092921e+08</td>\n",
       "      <td>1.673670e+00</td>\n",
       "      <td>5.250982e+01</td>\n",
       "      <td>1.338656e+01</td>\n",
       "      <td>6.092918e+08</td>\n",
       "      <td>6.092921e+08</td>\n",
       "      <td>5.250982e+01</td>\n",
       "      <td>1.338669e+01</td>\n",
       "      <td>...</td>\n",
       "      <td>2594.420315</td>\n",
       "      <td>766.692166</td>\n",
       "      <td>0 days 04:17:51.492495</td>\n",
       "      <td>5.853632</td>\n",
       "      <td>1.376997e+02</td>\n",
       "      <td>1.196783e+01</td>\n",
       "      <td>3.316760e+03</td>\n",
       "      <td>2.977556e+00</td>\n",
       "      <td>8.342917e+01</td>\n",
       "      <td>2.024602e+01</td>\n",
       "    </tr>\n",
       "    <tr>\n",
       "      <th>std</th>\n",
       "      <td>1.466461e+06</td>\n",
       "      <td>1.466461e+06</td>\n",
       "      <td>3.527640e+08</td>\n",
       "      <td>6.084931e-01</td>\n",
       "      <td>2.151807e-02</td>\n",
       "      <td>4.759582e-02</td>\n",
       "      <td>3.527641e+08</td>\n",
       "      <td>3.527640e+08</td>\n",
       "      <td>3.104905e-02</td>\n",
       "      <td>1.371807e-01</td>\n",
       "      <td>...</td>\n",
       "      <td>2049.594306</td>\n",
       "      <td>565.149423</td>\n",
       "      <td>0 days 10:59:22.710403</td>\n",
       "      <td>5.820609</td>\n",
       "      <td>2.744640e+01</td>\n",
       "      <td>6.756400e+00</td>\n",
       "      <td>6.587374e+02</td>\n",
       "      <td>2.001129e+00</td>\n",
       "      <td>4.846316e+01</td>\n",
       "      <td>3.920699e+00</td>\n",
       "    </tr>\n",
       "    <tr>\n",
       "      <th>min</th>\n",
       "      <td>1.000000e+00</td>\n",
       "      <td>1.000000e+00</td>\n",
       "      <td>1.300100e+04</td>\n",
       "      <td>0.000000e+00</td>\n",
       "      <td>5.233902e+01</td>\n",
       "      <td>1.301072e+01</td>\n",
       "      <td>1.300100e+04</td>\n",
       "      <td>1.300100e+04</td>\n",
       "      <td>2.248054e+01</td>\n",
       "      <td>-1.344200e+02</td>\n",
       "      <td>...</td>\n",
       "      <td>300.100000</td>\n",
       "      <td>50.700000</td>\n",
       "      <td>0 days 00:00:06.225870</td>\n",
       "      <td>0.012928</td>\n",
       "      <td>9.100000e+01</td>\n",
       "      <td>0.000000e+00</td>\n",
       "      <td>2.197000e+03</td>\n",
       "      <td>0.000000e+00</td>\n",
       "      <td>0.000000e+00</td>\n",
       "      <td>1.400000e+01</td>\n",
       "    </tr>\n",
       "    <tr>\n",
       "      <th>25%</th>\n",
       "      <td>1.103920e+06</td>\n",
       "      <td>1.103920e+06</td>\n",
       "      <td>1.869630e+05</td>\n",
       "      <td>1.000000e+00</td>\n",
       "      <td>5.249339e+01</td>\n",
       "      <td>1.334900e+01</td>\n",
       "      <td>1.869630e+05</td>\n",
       "      <td>1.869630e+05</td>\n",
       "      <td>5.249333e+01</td>\n",
       "      <td>1.334946e+01</td>\n",
       "      <td>...</td>\n",
       "      <td>1056.500000</td>\n",
       "      <td>343.700000</td>\n",
       "      <td>0 days 00:28:00.543078</td>\n",
       "      <td>1.162022</td>\n",
       "      <td>1.130000e+02</td>\n",
       "      <td>6.000000e+00</td>\n",
       "      <td>2.734000e+03</td>\n",
       "      <td>1.000000e+00</td>\n",
       "      <td>4.100000e+01</td>\n",
       "      <td>1.700000e+01</td>\n",
       "    </tr>\n",
       "    <tr>\n",
       "      <th>50%</th>\n",
       "      <td>2.414034e+06</td>\n",
       "      <td>2.414034e+06</td>\n",
       "      <td>8.100236e+08</td>\n",
       "      <td>2.000000e+00</td>\n",
       "      <td>5.250900e+01</td>\n",
       "      <td>1.338859e+01</td>\n",
       "      <td>8.100236e+08</td>\n",
       "      <td>8.100236e+08</td>\n",
       "      <td>5.250904e+01</td>\n",
       "      <td>1.338910e+01</td>\n",
       "      <td>...</td>\n",
       "      <td>2002.200000</td>\n",
       "      <td>612.300000</td>\n",
       "      <td>0 days 02:39:59.914523</td>\n",
       "      <td>4.769549</td>\n",
       "      <td>1.380000e+02</td>\n",
       "      <td>1.200000e+01</td>\n",
       "      <td>3.324000e+03</td>\n",
       "      <td>3.000000e+00</td>\n",
       "      <td>8.400000e+01</td>\n",
       "      <td>2.000000e+01</td>\n",
       "    </tr>\n",
       "    <tr>\n",
       "      <th>75%</th>\n",
       "      <td>3.709731e+06</td>\n",
       "      <td>3.709731e+06</td>\n",
       "      <td>8.160356e+08</td>\n",
       "      <td>2.000000e+00</td>\n",
       "      <td>5.252605e+01</td>\n",
       "      <td>1.342517e+01</td>\n",
       "      <td>8.160356e+08</td>\n",
       "      <td>8.160356e+08</td>\n",
       "      <td>5.252613e+01</td>\n",
       "      <td>1.342521e+01</td>\n",
       "      <td>...</td>\n",
       "      <td>3601.250000</td>\n",
       "      <td>1051.600000</td>\n",
       "      <td>0 days 03:47:59.695242</td>\n",
       "      <td>8.364029</td>\n",
       "      <td>1.620000e+02</td>\n",
       "      <td>1.800000e+01</td>\n",
       "      <td>3.888000e+03</td>\n",
       "      <td>5.000000e+00</td>\n",
       "      <td>1.250000e+02</td>\n",
       "      <td>2.400000e+01</td>\n",
       "    </tr>\n",
       "    <tr>\n",
       "      <th>max</th>\n",
       "      <td>5.000216e+06</td>\n",
       "      <td>5.000216e+06</td>\n",
       "      <td>8.160550e+08</td>\n",
       "      <td>2.000000e+00</td>\n",
       "      <td>5.268865e+01</td>\n",
       "      <td>1.378699e+01</td>\n",
       "      <td>8.160550e+08</td>\n",
       "      <td>8.160550e+08</td>\n",
       "      <td>5.830499e+01</td>\n",
       "      <td>1.631155e+01</td>\n",
       "      <td>...</td>\n",
       "      <td>34504.700000</td>\n",
       "      <td>9376.200000</td>\n",
       "      <td>93 days 21:35:59.111435</td>\n",
       "      <td>29.999916</td>\n",
       "      <td>1.920000e+02</td>\n",
       "      <td>2.300000e+01</td>\n",
       "      <td>4.622000e+03</td>\n",
       "      <td>6.000000e+00</td>\n",
       "      <td>1.670000e+02</td>\n",
       "      <td>2.800000e+01</td>\n",
       "    </tr>\n",
       "  </tbody>\n",
       "</table>\n",
       "<p>8 rows × 22 columns</p>\n",
       "</div>"
      ],
      "text/plain": [
       "                 id          id.1        bikeId    providerId      latitude  \\\n",
       "count  3.475419e+06  3.475419e+06  3.475419e+06  3.475419e+06  3.475419e+06   \n",
       "mean   2.431806e+06  2.431806e+06  6.092921e+08  1.673670e+00  5.250982e+01   \n",
       "std    1.466461e+06  1.466461e+06  3.527640e+08  6.084931e-01  2.151807e-02   \n",
       "min    1.000000e+00  1.000000e+00  1.300100e+04  0.000000e+00  5.233902e+01   \n",
       "25%    1.103920e+06  1.103920e+06  1.869630e+05  1.000000e+00  5.249339e+01   \n",
       "50%    2.414034e+06  2.414034e+06  8.100236e+08  2.000000e+00  5.250900e+01   \n",
       "75%    3.709731e+06  3.709731e+06  8.160356e+08  2.000000e+00  5.252605e+01   \n",
       "max    5.000216e+06  5.000216e+06  8.160550e+08  2.000000e+00  5.268865e+01   \n",
       "\n",
       "          longitude       prev_id       next_id      prev_lat      prev_lon  \\\n",
       "count  3.475419e+06  3.475419e+06  3.475419e+06  3.475419e+06  3.475419e+06   \n",
       "mean   1.338656e+01  6.092918e+08  6.092921e+08  5.250982e+01  1.338669e+01   \n",
       "std    4.759582e-02  3.527641e+08  3.527640e+08  3.104905e-02  1.371807e-01   \n",
       "min    1.301072e+01  1.300100e+04  1.300100e+04  2.248054e+01 -1.344200e+02   \n",
       "25%    1.334900e+01  1.869630e+05  1.869630e+05  5.249333e+01  1.334946e+01   \n",
       "50%    1.338859e+01  8.100236e+08  8.100236e+08  5.250904e+01  1.338910e+01   \n",
       "75%    1.342517e+01  8.160356e+08  8.160356e+08  5.252613e+01  1.342521e+01   \n",
       "max    1.378699e+01  8.160550e+08  8.160550e+08  5.830499e+01  1.631155e+01   \n",
       "\n",
       "       ...       distance      calc_time                 duration  \\\n",
       "count  ...  510231.000000  510231.000000                  3475419   \n",
       "mean   ...    2594.420315     766.692166   0 days 04:17:51.492495   \n",
       "std    ...    2049.594306     565.149423   0 days 10:59:22.710403   \n",
       "min    ...     300.100000      50.700000   0 days 00:00:06.225870   \n",
       "25%    ...    1056.500000     343.700000   0 days 00:28:00.543078   \n",
       "50%    ...    2002.200000     612.300000   0 days 02:39:59.914523   \n",
       "75%    ...    3601.250000    1051.600000   0 days 03:47:59.695242   \n",
       "max    ...   34504.700000    9376.200000  93 days 21:35:59.111435   \n",
       "\n",
       "               speed          yday         dhour         yhour         dweek  \\\n",
       "count  510231.000000  3.475419e+06  3.475419e+06  3.475419e+06  3.475419e+06   \n",
       "mean        5.853632  1.376997e+02  1.196783e+01  3.316760e+03  2.977556e+00   \n",
       "std         5.820609  2.744640e+01  6.756400e+00  6.587374e+02  2.001129e+00   \n",
       "min         0.012928  9.100000e+01  0.000000e+00  2.197000e+03  0.000000e+00   \n",
       "25%         1.162022  1.130000e+02  6.000000e+00  2.734000e+03  1.000000e+00   \n",
       "50%         4.769549  1.380000e+02  1.200000e+01  3.324000e+03  3.000000e+00   \n",
       "75%         8.364029  1.620000e+02  1.800000e+01  3.888000e+03  5.000000e+00   \n",
       "max        29.999916  1.920000e+02  2.300000e+01  4.622000e+03  6.000000e+00   \n",
       "\n",
       "              whour       calweek  \n",
       "count  3.475419e+06  3.475419e+06  \n",
       "mean   8.342917e+01  2.024602e+01  \n",
       "std    4.846316e+01  3.920699e+00  \n",
       "min    0.000000e+00  1.400000e+01  \n",
       "25%    4.100000e+01  1.700000e+01  \n",
       "50%    8.400000e+01  2.000000e+01  \n",
       "75%    1.250000e+02  2.400000e+01  \n",
       "max    1.670000e+02  2.800000e+01  \n",
       "\n",
       "[8 rows x 22 columns]"
      ]
     },
     "execution_count": 351,
     "metadata": {},
     "output_type": "execute_result"
    }
   ],
   "source": [
    "df.describe()"
   ]
  },
  {
   "cell_type": "code",
   "execution_count": 71,
   "metadata": {},
   "outputs": [
    {
     "data": {
      "text/plain": [
       "trip    510231\n",
       "Name: mode, dtype: int64"
      ]
     },
     "execution_count": 71,
     "metadata": {},
     "output_type": "execute_result"
    }
   ],
   "source": [
    "df['mode'].value_counts()"
   ]
  },
  {
   "cell_type": "code",
   "execution_count": null,
   "metadata": {},
   "outputs": [],
   "source": []
  },
  {
   "cell_type": "markdown",
   "metadata": {},
   "source": [
    "## Distance"
   ]
  },
  {
   "cell_type": "code",
   "execution_count": 90,
   "metadata": {},
   "outputs": [],
   "source": [
    "## sum of kilometers driven each day"
   ]
  },
  {
   "cell_type": "code",
   "execution_count": 294,
   "metadata": {},
   "outputs": [
    {
     "data": {
      "text/plain": [
       "count    1.020000e+02\n",
       "mean     8.181863e+06\n",
       "std      3.060360e+06\n",
       "min      1.554133e+06\n",
       "25%      6.624518e+06\n",
       "50%      8.730289e+06\n",
       "75%      1.034454e+07\n",
       "max      1.409361e+07\n",
       "Name: distance, dtype: float64"
      ]
     },
     "execution_count": 294,
     "metadata": {},
     "output_type": "execute_result"
    }
   ],
   "source": [
    "nomo.groupby('yday').sum().distance.describe()"
   ]
  },
  {
   "cell_type": "code",
   "execution_count": 295,
   "metadata": {},
   "outputs": [],
   "source": [
    "## average distance"
   ]
  },
  {
   "cell_type": "code",
   "execution_count": 296,
   "metadata": {},
   "outputs": [
    {
     "data": {
      "text/plain": [
       "count    285505.000000\n",
       "mean       2923.066337\n",
       "std        2068.878080\n",
       "min         300.100000\n",
       "25%        1392.400000\n",
       "50%        2416.400000\n",
       "75%        3990.900000\n",
       "max       34504.700000\n",
       "Name: distance, dtype: float64"
      ]
     },
     "execution_count": 296,
     "metadata": {},
     "output_type": "execute_result"
    }
   ],
   "source": [
    "nomo.distance.describe()"
   ]
  },
  {
   "cell_type": "code",
   "execution_count": 297,
   "metadata": {},
   "outputs": [],
   "source": [
    "# average distance per provider"
   ]
  },
  {
   "cell_type": "code",
   "execution_count": 298,
   "metadata": {},
   "outputs": [
    {
     "data": {
      "text/html": [
       "<div>\n",
       "<style scoped>\n",
       "    .dataframe tbody tr th:only-of-type {\n",
       "        vertical-align: middle;\n",
       "    }\n",
       "\n",
       "    .dataframe tbody tr th {\n",
       "        vertical-align: top;\n",
       "    }\n",
       "\n",
       "    .dataframe thead th {\n",
       "        text-align: right;\n",
       "    }\n",
       "</style>\n",
       "<table border=\"1\" class=\"dataframe\">\n",
       "  <thead>\n",
       "    <tr style=\"text-align: right;\">\n",
       "      <th></th>\n",
       "      <th>count</th>\n",
       "      <th>mean</th>\n",
       "      <th>std</th>\n",
       "      <th>min</th>\n",
       "      <th>25%</th>\n",
       "      <th>50%</th>\n",
       "      <th>75%</th>\n",
       "      <th>max</th>\n",
       "    </tr>\n",
       "    <tr>\n",
       "      <th>providerId</th>\n",
       "      <th></th>\n",
       "      <th></th>\n",
       "      <th></th>\n",
       "      <th></th>\n",
       "      <th></th>\n",
       "      <th></th>\n",
       "      <th></th>\n",
       "      <th></th>\n",
       "    </tr>\n",
       "  </thead>\n",
       "  <tbody>\n",
       "    <tr>\n",
       "      <th>0</th>\n",
       "      <td>96060.0</td>\n",
       "      <td>3181.509189</td>\n",
       "      <td>2302.334391</td>\n",
       "      <td>300.2</td>\n",
       "      <td>1491.5</td>\n",
       "      <td>2651.25</td>\n",
       "      <td>4328.200</td>\n",
       "      <td>34504.7</td>\n",
       "    </tr>\n",
       "    <tr>\n",
       "      <th>1</th>\n",
       "      <td>192576.0</td>\n",
       "      <td>2772.546322</td>\n",
       "      <td>1930.933922</td>\n",
       "      <td>300.1</td>\n",
       "      <td>1327.9</td>\n",
       "      <td>2284.90</td>\n",
       "      <td>3793.325</td>\n",
       "      <td>18159.2</td>\n",
       "    </tr>\n",
       "    <tr>\n",
       "      <th>2</th>\n",
       "      <td>221595.0</td>\n",
       "      <td>2185.121588</td>\n",
       "      <td>1946.801769</td>\n",
       "      <td>300.1</td>\n",
       "      <td>740.5</td>\n",
       "      <td>1562.30</td>\n",
       "      <td>2993.500</td>\n",
       "      <td>13909.0</td>\n",
       "    </tr>\n",
       "  </tbody>\n",
       "</table>\n",
       "</div>"
      ],
      "text/plain": [
       "               count         mean          std    min     25%      50%  \\\n",
       "providerId                                                               \n",
       "0            96060.0  3181.509189  2302.334391  300.2  1491.5  2651.25   \n",
       "1           192576.0  2772.546322  1930.933922  300.1  1327.9  2284.90   \n",
       "2           221595.0  2185.121588  1946.801769  300.1   740.5  1562.30   \n",
       "\n",
       "                 75%      max  \n",
       "providerId                     \n",
       "0           4328.200  34504.7  \n",
       "1           3793.325  18159.2  \n",
       "2           2993.500  13909.0  "
      ]
     },
     "execution_count": 298,
     "metadata": {},
     "output_type": "execute_result"
    }
   ],
   "source": [
    "df.groupby('providerId').distance.describe()"
   ]
  },
  {
   "cell_type": "markdown",
   "metadata": {},
   "source": [
    "## Duration"
   ]
  },
  {
   "cell_type": "code",
   "execution_count": 305,
   "metadata": {},
   "outputs": [
    {
     "data": {
      "text/plain": [
       "count                    285505\n",
       "mean     0 days 01:37:44.060788\n",
       "std      0 days 03:57:21.167035\n",
       "min      0 days 00:03:08.838554\n",
       "25%      0 days 00:15:59.737327\n",
       "50%      0 days 00:23:59.672760\n",
       "75%      0 days 00:40:00.278078\n",
       "max      0 days 23:59:59.988111\n",
       "Name: duration, dtype: object"
      ]
     },
     "execution_count": 305,
     "metadata": {},
     "output_type": "execute_result"
    }
   ],
   "source": [
    "trips.duration.describe()"
   ]
  },
  {
   "cell_type": "code",
   "execution_count": 306,
   "metadata": {},
   "outputs": [
    {
     "data": {
      "text/html": [
       "<div>\n",
       "<style scoped>\n",
       "    .dataframe tbody tr th:only-of-type {\n",
       "        vertical-align: middle;\n",
       "    }\n",
       "\n",
       "    .dataframe tbody tr th {\n",
       "        vertical-align: top;\n",
       "    }\n",
       "\n",
       "    .dataframe thead th {\n",
       "        text-align: right;\n",
       "    }\n",
       "</style>\n",
       "<table border=\"1\" class=\"dataframe\">\n",
       "  <thead>\n",
       "    <tr style=\"text-align: right;\">\n",
       "      <th></th>\n",
       "      <th>count</th>\n",
       "      <th>mean</th>\n",
       "      <th>std</th>\n",
       "      <th>min</th>\n",
       "      <th>25%</th>\n",
       "      <th>50%</th>\n",
       "      <th>75%</th>\n",
       "      <th>max</th>\n",
       "    </tr>\n",
       "    <tr>\n",
       "      <th>providerId</th>\n",
       "      <th></th>\n",
       "      <th></th>\n",
       "      <th></th>\n",
       "      <th></th>\n",
       "      <th></th>\n",
       "      <th></th>\n",
       "      <th></th>\n",
       "      <th></th>\n",
       "    </tr>\n",
       "  </thead>\n",
       "  <tbody>\n",
       "    <tr>\n",
       "      <th>0</th>\n",
       "      <td>95594</td>\n",
       "      <td>0 days 03:24:06.610921</td>\n",
       "      <td>0 days 05:54:10.698723</td>\n",
       "      <td>0 days 00:03:08.838554</td>\n",
       "      <td>0 days 00:16:00.942989</td>\n",
       "      <td>0 days 00:31:59.754681</td>\n",
       "      <td>0 days 02:56:00.061008</td>\n",
       "      <td>0 days 23:59:59.988111</td>\n",
       "    </tr>\n",
       "    <tr>\n",
       "      <th>1</th>\n",
       "      <td>189911</td>\n",
       "      <td>0 days 00:44:11.326942</td>\n",
       "      <td>0 days 01:53:57.996358</td>\n",
       "      <td>0 days 00:03:32.949500</td>\n",
       "      <td>0 days 00:15:59.375762</td>\n",
       "      <td>0 days 00:20:00.649095</td>\n",
       "      <td>0 days 00:32:00.097121</td>\n",
       "      <td>0 days 23:59:59.786224</td>\n",
       "    </tr>\n",
       "  </tbody>\n",
       "</table>\n",
       "</div>"
      ],
      "text/plain": [
       "             count                    mean                     std  \\\n",
       "providerId                                                           \n",
       "0            95594  0 days 03:24:06.610921  0 days 05:54:10.698723   \n",
       "1           189911  0 days 00:44:11.326942  0 days 01:53:57.996358   \n",
       "\n",
       "                               min                     25%  \\\n",
       "providerId                                                   \n",
       "0           0 days 00:03:08.838554  0 days 00:16:00.942989   \n",
       "1           0 days 00:03:32.949500  0 days 00:15:59.375762   \n",
       "\n",
       "                               50%                     75%  \\\n",
       "providerId                                                   \n",
       "0           0 days 00:31:59.754681  0 days 02:56:00.061008   \n",
       "1           0 days 00:20:00.649095  0 days 00:32:00.097121   \n",
       "\n",
       "                               max  \n",
       "providerId                          \n",
       "0           0 days 23:59:59.988111  \n",
       "1           0 days 23:59:59.786224  "
      ]
     },
     "execution_count": 306,
     "metadata": {},
     "output_type": "execute_result"
    }
   ],
   "source": [
    "trips.groupby('providerId').duration.describe()"
   ]
  },
  {
   "cell_type": "code",
   "execution_count": 307,
   "metadata": {},
   "outputs": [
    {
     "data": {
      "text/plain": [
       "<matplotlib.axes._subplots.AxesSubplot at 0x1d1b9206518>"
      ]
     },
     "execution_count": 307,
     "metadata": {},
     "output_type": "execute_result"
    },
    {
     "data": {
      "image/png": "[encoded data removed]",
      "text/plain": [
       "<Figure size 432x288 with 1 Axes>"
      ]
     },
     "metadata": {
      "needs_background": "light"
     },
     "output_type": "display_data"
    }
   ],
   "source": [
    "# histogram of minutes spent on trip\n",
    "trips.duration.apply(lambda x: x.seconds / 60).hist(range=(0,250))"
   ]
  },
  {
   "cell_type": "code",
   "execution_count": 308,
   "metadata": {},
   "outputs": [
    {
     "data": {
      "text/plain": [
       "<matplotlib.axes._subplots.AxesSubplot at 0x1d1b91a8320>"
      ]
     },
     "execution_count": 308,
     "metadata": {},
     "output_type": "execute_result"
    },
    {
     "data": {
      "image/png": "[encoded data removed]",
      "text/plain": [
       "<Figure size 432x288 with 1 Axes>"
      ]
     },
     "metadata": {
      "needs_background": "light"
     },
     "output_type": "display_data"
    }
   ],
   "source": [
    "trips[trips.providerId == 0].groupby('dhour').duration.describe()['mean'].plot()"
   ]
  },
  {
   "cell_type": "markdown",
   "metadata": {},
   "source": [
    "mobikes are used longer during night (some kind of error?)"
   ]
  },
  {
   "cell_type": "markdown",
   "metadata": {},
   "source": [
    "## daily counts of trips"
   ]
  },
  {
   "cell_type": "code",
   "execution_count": 309,
   "metadata": {},
   "outputs": [
    {
     "data": {
      "text/plain": [
       "count      102.000000\n",
       "mean      7082.274510\n",
       "std       2495.347719\n",
       "min       1673.000000\n",
       "25%       5977.500000\n",
       "50%       7616.500000\n",
       "75%       8588.500000\n",
       "max      13637.000000\n",
       "Name: id, dtype: float64"
      ]
     },
     "execution_count": 309,
     "metadata": {},
     "output_type": "execute_result"
    }
   ],
   "source": [
    "# daily average trips counts\n",
    "nomo.groupby('yday').count().id.describe()"
   ]
  },
  {
   "cell_type": "code",
   "execution_count": 310,
   "metadata": {},
   "outputs": [
    {
     "data": {
      "text/plain": [
       "providerId\n",
       "0    2678.288660\n",
       "1    5139.977778\n",
       "Name: id, dtype: float64"
      ]
     },
     "execution_count": 310,
     "metadata": {},
     "output_type": "execute_result"
    }
   ],
   "source": [
    "# daily trips by provider\n",
    "nomo.groupby(['yday', 'providerId']).count().id.groupby('providerId').mean()"
   ]
  },
  {
   "cell_type": "markdown",
   "metadata": {},
   "source": [
    "## count of trips each hour"
   ]
  },
  {
   "cell_type": "code",
   "execution_count": 311,
   "metadata": {},
   "outputs": [],
   "source": [
    "counts = trips[['bikeId', 'yhour']].groupby(['yhour']).count()"
   ]
  },
  {
   "cell_type": "code",
   "execution_count": 314,
   "metadata": {},
   "outputs": [],
   "source": [
    "nb = trips[trips.providerId == 0][['bikeId', 'yhour']].groupby(['yhour']).count()\n",
    "\n",
    "lb = trips[trips.providerId == 1][['bikeId', 'yhour']].groupby(['yhour']).count()\n",
    "\n",
    "# mb = trips[trips.providerId == 2][['bikeId', 'yhour']].groupby(['yhour']).count()"
   ]
  },
  {
   "cell_type": "code",
   "execution_count": 315,
   "metadata": {},
   "outputs": [
    {
     "data": {
      "text/plain": [
       "<matplotlib.axes._subplots.AxesSubplot at 0x1d24fe65c50>"
      ]
     },
     "execution_count": 315,
     "metadata": {},
     "output_type": "execute_result"
    },
    {
     "data": {
      "image/png": "[encoded data removed]",
      "text/plain": [
       "<Figure size 432x288 with 1 Axes>"
      ]
     },
     "metadata": {
      "needs_background": "light"
     },
     "output_type": "display_data"
    },
    {
     "data": {
      "image/png": "[encoded data removed]",
      "text/plain": [
       "<Figure size 432x288 with 1 Axes>"
      ]
     },
     "metadata": {
      "needs_background": "light"
     },
     "output_type": "display_data"
    }
   ],
   "source": [
    "nb.plot()\n",
    "lb.plot()\n",
    "# mb.plot()"
   ]
  },
  {
   "cell_type": "code",
   "execution_count": 65,
   "metadata": {},
   "outputs": [
    {
     "data": {
      "text/plain": [
       "<matplotlib.axes._subplots.AxesSubplot at 0x1d1023e17f0>"
      ]
     },
     "execution_count": 65,
     "metadata": {},
     "output_type": "execute_result"
    },
    {
     "data": {
      "image/png": "[encoded data removed]",
      "text/plain": [
       "<Figure size 720x360 with 1 Axes>"
      ]
     },
     "metadata": {
      "needs_background": "light"
     },
     "output_type": "display_data"
    }
   ],
   "source": [
    "counts.plot(figsize=(10,5))"
   ]
  },
  {
   "cell_type": "markdown",
   "metadata": {},
   "source": [
    "## How many unique bike IDs are there (per provider)?"
   ]
  },
  {
   "cell_type": "code",
   "execution_count": 124,
   "metadata": {},
   "outputs": [],
   "source": [
    "# how many bikes are available / on a trip for each hour?\n",
    "def get_unique_ids_per_day(df):\n",
    "    daily_unique = pd.DataFrame()\n",
    "\n",
    "    start_time = df.sort_values('timestamp').reset_index().loc[0,'timestamp']\n",
    "    end_time = df.sort_values('timestamp').reset_index().loc[df.shape[0]-2, 'timestamp']\n",
    "    times= []\n",
    "    \n",
    "    # get all desired times\n",
    "    while start_time < end_time:\n",
    "        times.append(start_time)\n",
    "        start_time += datetime.timedelta(hours=24)\n",
    "    \n",
    "    daily_unique['time'] = times\n",
    "    daily_unique['total'] = daily_unique.time.apply(lambda x: df[\n",
    "               (df.timestamp <= x) & \n",
    "               (df.end_timestamp > x)].bikeId.unique().shape[0])\n",
    "    daily_unique['nextbike'] = daily_unique.time.apply(lambda x: df[\n",
    "               (df.providerId == 0)&\n",
    "               (df.timestamp <= x) & \n",
    "               (df.end_timestamp > x)].bikeId.unique().shape[0])\n",
    "    daily_unique['lidlbike'] = daily_unique.time.apply(lambda x: df[\n",
    "               (df.providerId == 1)&\n",
    "               (df.timestamp <= x) & \n",
    "               (df.end_timestamp > x)].bikeId.unique().shape[0])\n",
    "    daily_unique['mobike'] = daily_unique.time.apply(lambda x: df[\n",
    "               (df.providerId == 2)&\n",
    "               (df.timestamp <= x) & \n",
    "               (df.end_timestamp > x)].bikeId.unique().shape[0])\n",
    "    \n",
    "    return daily_unique\n",
    "    "
   ]
  },
  {
   "cell_type": "code",
   "execution_count": 125,
   "metadata": {},
   "outputs": [],
   "source": [
    "def get_unique_ids(df):\n",
    "    unique_bikes = pd.DataFrame()\n",
    "    unique_bikes = unique_bikes.append([([df.bikeId.unique().shape[0], df[(df.providerId == 0)].bikeId.unique().shape[0], \n",
    "             df[(df.providerId == 1)].bikeId.unique().shape[0],\n",
    "             df[(df.providerId == 2)].bikeId.unique().shape[0]])])\n",
    "    unique_bikes.columns = [['total', 'nextbike', 'lidlbike', 'mobike']]\n",
    "    return unique_bikes"
   ]
  },
  {
   "cell_type": "code",
   "execution_count": 259,
   "metadata": {},
   "outputs": [],
   "source": [
    "daily_uniques = get_unique_ids_per_day(nomo)"
   ]
  },
  {
   "cell_type": "code",
   "execution_count": 260,
   "metadata": {},
   "outputs": [
    {
     "data": {
      "text/html": [
       "<div>\n",
       "<style scoped>\n",
       "    .dataframe tbody tr th:only-of-type {\n",
       "        vertical-align: middle;\n",
       "    }\n",
       "\n",
       "    .dataframe tbody tr th {\n",
       "        vertical-align: top;\n",
       "    }\n",
       "\n",
       "    .dataframe thead th {\n",
       "        text-align: right;\n",
       "    }\n",
       "</style>\n",
       "<table border=\"1\" class=\"dataframe\">\n",
       "  <thead>\n",
       "    <tr style=\"text-align: right;\">\n",
       "      <th></th>\n",
       "      <th>total</th>\n",
       "      <th>nextbike</th>\n",
       "      <th>lidlbike</th>\n",
       "      <th>mobike</th>\n",
       "    </tr>\n",
       "  </thead>\n",
       "  <tbody>\n",
       "    <tr>\n",
       "      <th>count</th>\n",
       "      <td>102.000000</td>\n",
       "      <td>102.000000</td>\n",
       "      <td>102.000000</td>\n",
       "      <td>102.0</td>\n",
       "    </tr>\n",
       "    <tr>\n",
       "      <th>mean</th>\n",
       "      <td>3385.813725</td>\n",
       "      <td>1051.509804</td>\n",
       "      <td>2334.303922</td>\n",
       "      <td>0.0</td>\n",
       "    </tr>\n",
       "    <tr>\n",
       "      <th>std</th>\n",
       "      <td>977.997800</td>\n",
       "      <td>185.369727</td>\n",
       "      <td>922.730899</td>\n",
       "      <td>0.0</td>\n",
       "    </tr>\n",
       "    <tr>\n",
       "      <th>min</th>\n",
       "      <td>262.000000</td>\n",
       "      <td>86.000000</td>\n",
       "      <td>95.000000</td>\n",
       "      <td>0.0</td>\n",
       "    </tr>\n",
       "    <tr>\n",
       "      <th>25%</th>\n",
       "      <td>3567.500000</td>\n",
       "      <td>975.250000</td>\n",
       "      <td>2577.750000</td>\n",
       "      <td>0.0</td>\n",
       "    </tr>\n",
       "    <tr>\n",
       "      <th>50%</th>\n",
       "      <td>3778.000000</td>\n",
       "      <td>1061.500000</td>\n",
       "      <td>2723.500000</td>\n",
       "      <td>0.0</td>\n",
       "    </tr>\n",
       "    <tr>\n",
       "      <th>75%</th>\n",
       "      <td>3954.250000</td>\n",
       "      <td>1175.750000</td>\n",
       "      <td>2792.250000</td>\n",
       "      <td>0.0</td>\n",
       "    </tr>\n",
       "    <tr>\n",
       "      <th>max</th>\n",
       "      <td>4085.000000</td>\n",
       "      <td>1337.000000</td>\n",
       "      <td>2940.000000</td>\n",
       "      <td>0.0</td>\n",
       "    </tr>\n",
       "  </tbody>\n",
       "</table>\n",
       "</div>"
      ],
      "text/plain": [
       "             total     nextbike     lidlbike  mobike\n",
       "count   102.000000   102.000000   102.000000   102.0\n",
       "mean   3385.813725  1051.509804  2334.303922     0.0\n",
       "std     977.997800   185.369727   922.730899     0.0\n",
       "min     262.000000    86.000000    95.000000     0.0\n",
       "25%    3567.500000   975.250000  2577.750000     0.0\n",
       "50%    3778.000000  1061.500000  2723.500000     0.0\n",
       "75%    3954.250000  1175.750000  2792.250000     0.0\n",
       "max    4085.000000  1337.000000  2940.000000     0.0"
      ]
     },
     "execution_count": 260,
     "metadata": {},
     "output_type": "execute_result"
    }
   ],
   "source": [
    "daily_uniques.describe()"
   ]
  },
  {
   "cell_type": "code",
   "execution_count": 261,
   "metadata": {},
   "outputs": [],
   "source": [
    "available_nextbike = daily_uniques.describe().nextbike.loc['50%']\n",
    "available_lidlbike = daily_uniques.describe().lidlbike.loc['50%']\n",
    "available_total = daily_uniques.describe().total.loc['50%']"
   ]
  },
  {
   "cell_type": "code",
   "execution_count": 119,
   "metadata": {},
   "outputs": [
    {
     "data": {
      "text/html": [
       "<div>\n",
       "<style scoped>\n",
       "    .dataframe tbody tr th:only-of-type {\n",
       "        vertical-align: middle;\n",
       "    }\n",
       "\n",
       "    .dataframe tbody tr th {\n",
       "        vertical-align: top;\n",
       "    }\n",
       "\n",
       "    .dataframe thead tr th {\n",
       "        text-align: left;\n",
       "    }\n",
       "</style>\n",
       "<table border=\"1\" class=\"dataframe\">\n",
       "  <thead>\n",
       "    <tr>\n",
       "      <th></th>\n",
       "      <th>total</th>\n",
       "      <th>nextbike</th>\n",
       "      <th>lidlbike</th>\n",
       "      <th>mobike</th>\n",
       "    </tr>\n",
       "  </thead>\n",
       "  <tbody>\n",
       "    <tr>\n",
       "      <th>0</th>\n",
       "      <td>15021</td>\n",
       "      <td>2364</td>\n",
       "      <td>3540</td>\n",
       "      <td>9117</td>\n",
       "    </tr>\n",
       "  </tbody>\n",
       "</table>\n",
       "</div>"
      ],
      "text/plain": [
       "   total nextbike lidlbike mobike\n",
       "0  15021     2364     3540   9117"
      ]
     },
     "execution_count": 119,
     "metadata": {},
     "output_type": "execute_result"
    }
   ],
   "source": [
    "uniques = get_unique_ids(df)\n",
    "uniques"
   ]
  },
  {
   "cell_type": "markdown",
   "metadata": {},
   "source": [
    "#### How much time is a bike used? "
   ]
  },
  {
   "cell_type": "code",
   "execution_count": 87,
   "metadata": {},
   "outputs": [
    {
     "data": {
      "text/html": [
       "<div>\n",
       "<style scoped>\n",
       "    .dataframe tbody tr th:only-of-type {\n",
       "        vertical-align: middle;\n",
       "    }\n",
       "\n",
       "    .dataframe tbody tr th {\n",
       "        vertical-align: top;\n",
       "    }\n",
       "\n",
       "    .dataframe thead th {\n",
       "        text-align: right;\n",
       "    }\n",
       "</style>\n",
       "<table border=\"1\" class=\"dataframe\">\n",
       "  <thead>\n",
       "    <tr style=\"text-align: right;\">\n",
       "      <th></th>\n",
       "      <th>count</th>\n",
       "      <th>mean</th>\n",
       "      <th>std</th>\n",
       "      <th>min</th>\n",
       "      <th>25%</th>\n",
       "      <th>50%</th>\n",
       "      <th>75%</th>\n",
       "      <th>max</th>\n",
       "    </tr>\n",
       "    <tr>\n",
       "      <th>providerId</th>\n",
       "      <th></th>\n",
       "      <th></th>\n",
       "      <th></th>\n",
       "      <th></th>\n",
       "      <th></th>\n",
       "      <th></th>\n",
       "      <th></th>\n",
       "      <th></th>\n",
       "    </tr>\n",
       "  </thead>\n",
       "  <tbody>\n",
       "    <tr>\n",
       "      <th>0</th>\n",
       "      <td>2365.0</td>\n",
       "      <td>42.797040</td>\n",
       "      <td>16.472283</td>\n",
       "      <td>1.0</td>\n",
       "      <td>33.0</td>\n",
       "      <td>43.0</td>\n",
       "      <td>53.0</td>\n",
       "      <td>191.0</td>\n",
       "    </tr>\n",
       "    <tr>\n",
       "      <th>1</th>\n",
       "      <td>3551.0</td>\n",
       "      <td>59.564066</td>\n",
       "      <td>26.760414</td>\n",
       "      <td>1.0</td>\n",
       "      <td>42.0</td>\n",
       "      <td>62.0</td>\n",
       "      <td>79.0</td>\n",
       "      <td>161.0</td>\n",
       "    </tr>\n",
       "    <tr>\n",
       "      <th>2</th>\n",
       "      <td>9186.0</td>\n",
       "      <td>37.920422</td>\n",
       "      <td>69.884386</td>\n",
       "      <td>1.0</td>\n",
       "      <td>17.0</td>\n",
       "      <td>30.0</td>\n",
       "      <td>45.0</td>\n",
       "      <td>1823.0</td>\n",
       "    </tr>\n",
       "  </tbody>\n",
       "</table>\n",
       "</div>"
      ],
      "text/plain": [
       "             count       mean        std  min   25%   50%   75%     max\n",
       "providerId                                                             \n",
       "0           2365.0  42.797040  16.472283  1.0  33.0  43.0  53.0   191.0\n",
       "1           3551.0  59.564066  26.760414  1.0  42.0  62.0  79.0   161.0\n",
       "2           9186.0  37.920422  69.884386  1.0  17.0  30.0  45.0  1823.0"
      ]
     },
     "execution_count": 87,
     "metadata": {},
     "output_type": "execute_result"
    }
   ],
   "source": [
    "# average trips per bike\n",
    "trips.groupby(['bikeId', 'providerId']).count().id.groupby('providerId').describe()"
   ]
  },
  {
   "cell_type": "markdown",
   "metadata": {},
   "source": [
    "## how high is the utilization rate? (available bikes / all bikes)"
   ]
  },
  {
   "cell_type": "code",
   "execution_count": 129,
   "metadata": {},
   "outputs": [],
   "source": [
    "## more precise, than general average of available bikes\n",
    "#\n",
    "# all accessibe bikes each day\n",
    "# accessible = df.drop_duplicates(subset = ['yday', 'bikeId', 'providerId']).groupby(['yday', 'providerId']).count()\n",
    "\n",
    "# merge df on accessible bikes per day\n",
    "# in_use = in_use['id'].reset_index().set_index(['yday', 'providerId', 'dhour']).join(accessible['id.1'].reset_index().set_index(['yday', 'providerId']))\n",
    "# in_use.rename(columns={\"id\": \"in_use\", \"id.1\": \"accessible\"}, inplace=True)"
   ]
  },
  {
   "cell_type": "code",
   "execution_count": 146,
   "metadata": {},
   "outputs": [],
   "source": [
    "# how many bikes are available / on a trip for each hour?\n",
    "def count_bikes_in_mode(df, mode):\n",
    "    bikes_accessible = pd.DataFrame()\n",
    "\n",
    "    start_time = df.sort_values('timestamp').reset_index().loc[0,'timestamp']\n",
    "    end_time = df.sort_values('timestamp').reset_index().loc[df.shape[0]-2, 'timestamp']\n",
    "    times= []\n",
    "    while start_time < end_time:\n",
    "        times.append(start_time)\n",
    "        start_time += datetime.timedelta(hours=1)\n",
    "    \n",
    "    bikes_accessible['time'] = times\n",
    "    bikes_accessible['total'] = bikes_accessible.time.apply(lambda x: df[(df['mode']==mode) &\n",
    "               (df.timestamp <= x) & \n",
    "               (df.end_timestamp > x)].bikeId.unique().shape[0])\n",
    "    bikes_accessible['nextbike'] = bikes_accessible.time.apply(lambda x: df[(df['mode']==mode) &\n",
    "               (df.providerId == 0) &\n",
    "               (df.timestamp <= x) & \n",
    "               (df.end_timestamp > x)].bikeId.unique().shape[0])\n",
    "    bikes_accessible['lidlbike'] = bikes_accessible.time.apply(lambda x: df[(df['mode']==mode) &\n",
    "               (df.providerId == 1) &\n",
    "               (df.timestamp <= x) & \n",
    "               (df.end_timestamp > x)].bikeId.unique().shape[0])\n",
    "   # bikes_accessible['mobike'] = bikes_accessible.time.apply(lambda x: df[(df['mode']==mode) &\n",
    "    #           (df.providerId == 2)&\n",
    "     #          (df.timestamp <= x) & \n",
    "      #         (df.end_timestamp > x)].bikeId.unique().shape[0])\n",
    "    \n",
    "    # day of the year\n",
    "    bikes_accessible['yday'] = bikes_accessible.time.apply(lambda x: x.timetuple().tm_yday)\n",
    "\n",
    "    # hour of the day\n",
    "    bikes_accessible['dhour'] = bikes_accessible.time.apply(lambda x: x.time().hour)\n",
    "\n",
    "    # \"hour of the year\"\n",
    "    bikes_accessible['yhour'] = bikes_accessible.dhour + (bikes_accessible.yday * 24)\n",
    "\n",
    "    # day of week\n",
    "    bikes_accessible['dweek'] = bikes_accessible.time.apply(lambda x: x.weekday())\n",
    "    return bikes_accessible"
   ]
  },
  {
   "cell_type": "code",
   "execution_count": 221,
   "metadata": {},
   "outputs": [],
   "source": [
    "in_use = count_bikes_in_mode(nomo[(nomo.timestamp > datetime.datetime(2019,6,1)) & (nomo.timestamp < datetime.datetime(2019,7,1))].sort_values('timestamp'), 'trip')"
   ]
  },
  {
   "cell_type": "code",
   "execution_count": 222,
   "metadata": {},
   "outputs": [],
   "source": [
    "in_use['nextbike'] = in_use.nextbike / available_nextbike\n",
    "in_use['lidlbike'] = in_use.lidlbike / available_lidlbike\n",
    "in_use['total'] = in_use.total / available_total"
   ]
  },
  {
   "cell_type": "code",
   "execution_count": 223,
   "metadata": {},
   "outputs": [],
   "source": [
    "# in_use.groupby('dhour').mean()"
   ]
  },
  {
   "cell_type": "code",
   "execution_count": 230,
   "metadata": {},
   "outputs": [
    {
     "data": {
      "text/html": [
       "<div>\n",
       "<style scoped>\n",
       "    .dataframe tbody tr th:only-of-type {\n",
       "        vertical-align: middle;\n",
       "    }\n",
       "\n",
       "    .dataframe tbody tr th {\n",
       "        vertical-align: top;\n",
       "    }\n",
       "\n",
       "    .dataframe thead th {\n",
       "        text-align: right;\n",
       "    }\n",
       "</style>\n",
       "<table border=\"1\" class=\"dataframe\">\n",
       "  <thead>\n",
       "    <tr style=\"text-align: right;\">\n",
       "      <th></th>\n",
       "      <th>total</th>\n",
       "      <th>nextbike</th>\n",
       "      <th>lidlbike</th>\n",
       "      <th>yday</th>\n",
       "      <th>dhour</th>\n",
       "      <th>yhour</th>\n",
       "      <th>dweek</th>\n",
       "    </tr>\n",
       "  </thead>\n",
       "  <tbody>\n",
       "    <tr>\n",
       "      <th>count</th>\n",
       "      <td>720.000000</td>\n",
       "      <td>720.000000</td>\n",
       "      <td>720.000000</td>\n",
       "      <td>720.000000</td>\n",
       "      <td>720.000000</td>\n",
       "      <td>720.000000</td>\n",
       "      <td>720.000000</td>\n",
       "    </tr>\n",
       "    <tr>\n",
       "      <th>mean</th>\n",
       "      <td>0.032488</td>\n",
       "      <td>0.141295</td>\n",
       "      <td>0.026134</td>\n",
       "      <td>166.500000</td>\n",
       "      <td>11.500000</td>\n",
       "      <td>4007.500000</td>\n",
       "      <td>3.166667</td>\n",
       "    </tr>\n",
       "    <tr>\n",
       "      <th>std</th>\n",
       "      <td>0.015736</td>\n",
       "      <td>0.084439</td>\n",
       "      <td>0.016040</td>\n",
       "      <td>8.661458</td>\n",
       "      <td>6.926999</td>\n",
       "      <td>207.990384</td>\n",
       "      <td>2.035840</td>\n",
       "    </tr>\n",
       "    <tr>\n",
       "      <th>min</th>\n",
       "      <td>0.000881</td>\n",
       "      <td>0.000000</td>\n",
       "      <td>0.000000</td>\n",
       "      <td>152.000000</td>\n",
       "      <td>0.000000</td>\n",
       "      <td>3648.000000</td>\n",
       "      <td>0.000000</td>\n",
       "    </tr>\n",
       "    <tr>\n",
       "      <th>25%</th>\n",
       "      <td>0.021888</td>\n",
       "      <td>0.081488</td>\n",
       "      <td>0.011382</td>\n",
       "      <td>159.000000</td>\n",
       "      <td>5.750000</td>\n",
       "      <td>3827.750000</td>\n",
       "      <td>1.000000</td>\n",
       "    </tr>\n",
       "    <tr>\n",
       "      <th>50%</th>\n",
       "      <td>0.033713</td>\n",
       "      <td>0.164861</td>\n",
       "      <td>0.024601</td>\n",
       "      <td>166.500000</td>\n",
       "      <td>11.500000</td>\n",
       "      <td>4007.500000</td>\n",
       "      <td>3.000000</td>\n",
       "    </tr>\n",
       "    <tr>\n",
       "      <th>75%</th>\n",
       "      <td>0.043188</td>\n",
       "      <td>0.205370</td>\n",
       "      <td>0.037452</td>\n",
       "      <td>174.000000</td>\n",
       "      <td>17.250000</td>\n",
       "      <td>4187.250000</td>\n",
       "      <td>5.000000</td>\n",
       "    </tr>\n",
       "    <tr>\n",
       "      <th>max</th>\n",
       "      <td>0.072126</td>\n",
       "      <td>0.300518</td>\n",
       "      <td>0.073435</td>\n",
       "      <td>181.000000</td>\n",
       "      <td>23.000000</td>\n",
       "      <td>4367.000000</td>\n",
       "      <td>6.000000</td>\n",
       "    </tr>\n",
       "  </tbody>\n",
       "</table>\n",
       "</div>"
      ],
      "text/plain": [
       "            total    nextbike    lidlbike        yday       dhour  \\\n",
       "count  720.000000  720.000000  720.000000  720.000000  720.000000   \n",
       "mean     0.032488    0.141295    0.026134  166.500000   11.500000   \n",
       "std      0.015736    0.084439    0.016040    8.661458    6.926999   \n",
       "min      0.000881    0.000000    0.000000  152.000000    0.000000   \n",
       "25%      0.021888    0.081488    0.011382  159.000000    5.750000   \n",
       "50%      0.033713    0.164861    0.024601  166.500000   11.500000   \n",
       "75%      0.043188    0.205370    0.037452  174.000000   17.250000   \n",
       "max      0.072126    0.300518    0.073435  181.000000   23.000000   \n",
       "\n",
       "             yhour       dweek  \n",
       "count   720.000000  720.000000  \n",
       "mean   4007.500000    3.166667  \n",
       "std     207.990384    2.035840  \n",
       "min    3648.000000    0.000000  \n",
       "25%    3827.750000    1.000000  \n",
       "50%    4007.500000    3.000000  \n",
       "75%    4187.250000    5.000000  \n",
       "max    4367.000000    6.000000  "
      ]
     },
     "execution_count": 230,
     "metadata": {},
     "output_type": "execute_result"
    }
   ],
   "source": [
    "in_use.describe()"
   ]
  },
  {
   "cell_type": "code",
   "execution_count": 224,
   "metadata": {},
   "outputs": [
    {
     "data": {
      "text/plain": [
       "<matplotlib.axes._subplots.AxesSubplot at 0x1d260ddb860>"
      ]
     },
     "execution_count": 224,
     "metadata": {},
     "output_type": "execute_result"
    },
    {
     "data": {
      "image/png": "[encoded data removed]",
      "text/plain": [
       "<Figure size 432x288 with 1 Axes>"
      ]
     },
     "metadata": {
      "needs_background": "light"
     },
     "output_type": "display_data"
    }
   ],
   "source": [
    "in_use.groupby('dhour').mean()[['nextbike', 'lidlbike']].plot()"
   ]
  },
  {
   "cell_type": "markdown",
   "metadata": {},
   "source": [
    "Usage rate varies between 0 and 16 %."
   ]
  },
  {
   "cell_type": "markdown",
   "metadata": {},
   "source": [
    "#### how many bikes bikes are accessible / in use each day?"
   ]
  },
  {
   "cell_type": "code",
   "execution_count": 269,
   "metadata": {},
   "outputs": [
    {
     "data": {
      "text/html": [
       "<div>\n",
       "<style scoped>\n",
       "    .dataframe tbody tr th:only-of-type {\n",
       "        vertical-align: middle;\n",
       "    }\n",
       "\n",
       "    .dataframe tbody tr th {\n",
       "        vertical-align: top;\n",
       "    }\n",
       "\n",
       "    .dataframe thead th {\n",
       "        text-align: right;\n",
       "    }\n",
       "</style>\n",
       "<table border=\"1\" class=\"dataframe\">\n",
       "  <thead>\n",
       "    <tr style=\"text-align: right;\">\n",
       "      <th></th>\n",
       "      <th>id</th>\n",
       "      <th>id.1</th>\n",
       "      <th>bikeId</th>\n",
       "      <th>timestamp</th>\n",
       "      <th>latitude</th>\n",
       "      <th>longitude</th>\n",
       "      <th>prev_id</th>\n",
       "      <th>next_id</th>\n",
       "      <th>prev_lat</th>\n",
       "      <th>prev_lon</th>\n",
       "      <th>...</th>\n",
       "      <th>response</th>\n",
       "      <th>geometry</th>\n",
       "      <th>distance</th>\n",
       "      <th>calc_time</th>\n",
       "      <th>waypoints</th>\n",
       "      <th>duration</th>\n",
       "      <th>speed</th>\n",
       "      <th>dhour</th>\n",
       "      <th>yhour</th>\n",
       "      <th>dweek</th>\n",
       "    </tr>\n",
       "    <tr>\n",
       "      <th>providerId</th>\n",
       "      <th></th>\n",
       "      <th></th>\n",
       "      <th></th>\n",
       "      <th></th>\n",
       "      <th></th>\n",
       "      <th></th>\n",
       "      <th></th>\n",
       "      <th></th>\n",
       "      <th></th>\n",
       "      <th></th>\n",
       "      <th></th>\n",
       "      <th></th>\n",
       "      <th></th>\n",
       "      <th></th>\n",
       "      <th></th>\n",
       "      <th></th>\n",
       "      <th></th>\n",
       "      <th></th>\n",
       "      <th></th>\n",
       "      <th></th>\n",
       "      <th></th>\n",
       "    </tr>\n",
       "  </thead>\n",
       "  <tbody>\n",
       "    <tr>\n",
       "      <th>0</th>\n",
       "      <td>953</td>\n",
       "      <td>953</td>\n",
       "      <td>953</td>\n",
       "      <td>953</td>\n",
       "      <td>953</td>\n",
       "      <td>953</td>\n",
       "      <td>953</td>\n",
       "      <td>953</td>\n",
       "      <td>953</td>\n",
       "      <td>953</td>\n",
       "      <td>...</td>\n",
       "      <td>360</td>\n",
       "      <td>360</td>\n",
       "      <td>360</td>\n",
       "      <td>360</td>\n",
       "      <td>360</td>\n",
       "      <td>953</td>\n",
       "      <td>360</td>\n",
       "      <td>953</td>\n",
       "      <td>953</td>\n",
       "      <td>953</td>\n",
       "    </tr>\n",
       "    <tr>\n",
       "      <th>1</th>\n",
       "      <td>2326</td>\n",
       "      <td>2326</td>\n",
       "      <td>2326</td>\n",
       "      <td>2326</td>\n",
       "      <td>2326</td>\n",
       "      <td>2326</td>\n",
       "      <td>2326</td>\n",
       "      <td>2326</td>\n",
       "      <td>2326</td>\n",
       "      <td>2326</td>\n",
       "      <td>...</td>\n",
       "      <td>497</td>\n",
       "      <td>497</td>\n",
       "      <td>497</td>\n",
       "      <td>497</td>\n",
       "      <td>497</td>\n",
       "      <td>2326</td>\n",
       "      <td>497</td>\n",
       "      <td>2326</td>\n",
       "      <td>2326</td>\n",
       "      <td>2326</td>\n",
       "    </tr>\n",
       "    <tr>\n",
       "      <th>2</th>\n",
       "      <td>4373</td>\n",
       "      <td>4373</td>\n",
       "      <td>4373</td>\n",
       "      <td>4373</td>\n",
       "      <td>4373</td>\n",
       "      <td>4373</td>\n",
       "      <td>4373</td>\n",
       "      <td>4373</td>\n",
       "      <td>4373</td>\n",
       "      <td>4373</td>\n",
       "      <td>...</td>\n",
       "      <td>161</td>\n",
       "      <td>161</td>\n",
       "      <td>161</td>\n",
       "      <td>161</td>\n",
       "      <td>161</td>\n",
       "      <td>4373</td>\n",
       "      <td>161</td>\n",
       "      <td>4373</td>\n",
       "      <td>4373</td>\n",
       "      <td>4373</td>\n",
       "    </tr>\n",
       "  </tbody>\n",
       "</table>\n",
       "<p>3 rows × 24 columns</p>\n",
       "</div>"
      ],
      "text/plain": [
       "              id  id.1  bikeId  timestamp  latitude  longitude  prev_id  \\\n",
       "providerId                                                                \n",
       "0            953   953     953        953       953        953      953   \n",
       "1           2326  2326    2326       2326      2326       2326     2326   \n",
       "2           4373  4373    4373       4373      4373       4373     4373   \n",
       "\n",
       "            next_id  prev_lat  prev_lon  ...  response  geometry  distance  \\\n",
       "providerId                               ...                                 \n",
       "0               953       953       953  ...       360       360       360   \n",
       "1              2326      2326      2326  ...       497       497       497   \n",
       "2              4373      4373      4373  ...       161       161       161   \n",
       "\n",
       "            calc_time  waypoints  duration  speed  dhour  yhour  dweek  \n",
       "providerId                                                              \n",
       "0                 360        360       953    360    953    953    953  \n",
       "1                 497        497      2326    497   2326   2326   2326  \n",
       "2                 161        161      4373    161   4373   4373   4373  \n",
       "\n",
       "[3 rows x 24 columns]"
      ]
     },
     "execution_count": 269,
     "metadata": {},
     "output_type": "execute_result"
    }
   ],
   "source": [
    "# on average accessible bikes per day\n",
    "df.drop_duplicates(subset = ['yday', 'bikeId', 'providerId']).groupby(['yday', 'providerId']).count().groupby('providerId').median()"
   ]
  },
  {
   "cell_type": "code",
   "execution_count": 270,
   "metadata": {},
   "outputs": [
    {
     "data": {
      "text/plain": [
       "providerId\n",
       "0     599\n",
       "1    1163\n",
       "Name: id, dtype: int64"
      ]
     },
     "execution_count": 270,
     "metadata": {},
     "output_type": "execute_result"
    }
   ],
   "source": [
    "# on overage used bikes per day\n",
    "trips.drop_duplicates(subset = ['yday', 'bikeId', 'providerId']).groupby(['yday', 'providerId']).count().groupby('providerId').median().id"
   ]
  },
  {
   "cell_type": "code",
   "execution_count": 271,
   "metadata": {},
   "outputs": [
    {
     "data": {
      "text/plain": [
       "providerId\n",
       "0    37\n",
       "1    87\n",
       "Name: id, dtype: int64"
      ]
     },
     "execution_count": 271,
     "metadata": {},
     "output_type": "execute_result"
    }
   ],
   "source": [
    "# on overage used bikes per hour\n",
    "trips.groupby(['providerId', 'yhour']).count().groupby('providerId').median().id"
   ]
  },
  {
   "cell_type": "code",
   "execution_count": 272,
   "metadata": {},
   "outputs": [
    {
     "data": {
      "text/plain": [
       "0.45023822128110114"
      ]
     },
     "execution_count": 272,
     "metadata": {},
     "output_type": "execute_result"
    }
   ],
   "source": [
    "# percentage of bikes used daily\n",
    "trips.drop_duplicates(subset = ['yday', 'bikeId', 'providerId']).groupby('yday').count().median().id / available_total\n"
   ]
  },
  {
   "cell_type": "markdown",
   "metadata": {},
   "source": [
    "## How many rides per bike per day?"
   ]
  },
  {
   "cell_type": "code",
   "execution_count": 316,
   "metadata": {},
   "outputs": [
    {
     "data": {
      "text/plain": [
       "providerId\n",
       "0    1\n",
       "1    2\n",
       "Name: id, dtype: int64"
      ]
     },
     "execution_count": 316,
     "metadata": {},
     "output_type": "execute_result"
    }
   ],
   "source": [
    "trips.groupby(['yday', 'bikeId', 'providerId']).count().groupby('providerId').median().id"
   ]
  },
  {
   "cell_type": "markdown",
   "metadata": {},
   "source": [
    "Median of 1-2 rides per bike per day."
   ]
  },
  {
   "cell_type": "code",
   "execution_count": 317,
   "metadata": {},
   "outputs": [
    {
     "data": {
      "text/plain": [
       "count    158008.000000\n",
       "mean          1.806902\n",
       "std           1.100434\n",
       "min           1.000000\n",
       "25%           1.000000\n",
       "50%           1.000000\n",
       "75%           2.000000\n",
       "max          32.000000\n",
       "Name: id, dtype: float64"
      ]
     },
     "execution_count": 317,
     "metadata": {},
     "output_type": "execute_result"
    }
   ],
   "source": [
    "trips.groupby(['yday', 'bikeId']).count().id.describe()"
   ]
  },
  {
   "cell_type": "code",
   "execution_count": 318,
   "metadata": {},
   "outputs": [
    {
     "data": {
      "text/plain": [
       "<matplotlib.axes._subplots.AxesSubplot at 0x1d25d5fa128>"
      ]
     },
     "execution_count": 318,
     "metadata": {},
     "output_type": "execute_result"
    },
    {
     "data": {
      "image/png": "[encoded data removed]",
      "text/plain": [
       "<Figure size 432x288 with 1 Axes>"
      ]
     },
     "metadata": {
      "needs_background": "light"
     },
     "output_type": "display_data"
    }
   ],
   "source": [
    "trips.groupby(['yday', 'bikeId']).count().id.value_counts().plot(kind='bar')"
   ]
  },
  {
   "cell_type": "markdown",
   "metadata": {},
   "source": [
    "#### Bike Availability: \n",
    "- Where are bikes available (per Planungsraum)? On average? On average weekdays / times?\n",
    "- Distance between available bikes"
   ]
  },
  {
   "cell_type": "markdown",
   "metadata": {},
   "source": [
    "#### how long is the life span of a bike? (first appearence and last appearence)\n",
    "- is there periodical appearences?"
   ]
  },
  {
   "cell_type": "code",
   "execution_count": 259,
   "metadata": {},
   "outputs": [],
   "source": [
    "# get data for lifespan\n",
    "\n",
    "def lifespan (df):\n",
    "    # each line one trip with start-loc and end-loc\n",
    "    # for each bike ID\n",
    "    start_timestamp = df.sort_values(by=['bikeId', 'timestamp']).drop_duplicates('bikeId', keep='first')\n",
    "    last_timestamp = df.sort_values(by=['bikeId', 'timestamp'], ascending = False).drop_duplicates('bikeId', keep='first')\n",
    "    start_timestamp.set_index('bikeId', inplace=True)\n",
    "    last_timestamp.set_index('bikeId', inplace=True)\n",
    "    return start_timestamp.join(last_timestamp[['timestamp']], rsuffix='_last')"
   ]
  },
  {
   "cell_type": "code",
   "execution_count": 261,
   "metadata": {},
   "outputs": [],
   "source": [
    "lifespan = lifespan(df)"
   ]
  },
  {
   "cell_type": "code",
   "execution_count": 268,
   "metadata": {},
   "outputs": [
    {
     "data": {
      "text/plain": [
       "Timedelta('88 days 06:09:59.964870')"
      ]
     },
     "execution_count": 268,
     "metadata": {},
     "output_type": "execute_result"
    }
   ],
   "source": [
    "(lifespan.timestamp_last - lifespan.timestamp).median()"
   ]
  },
  {
   "cell_type": "markdown",
   "metadata": {},
   "source": [
    "#### speed of bikes"
   ]
  },
  {
   "cell_type": "code",
   "execution_count": 271,
   "metadata": {},
   "outputs": [
    {
     "data": {
      "text/plain": [
       "<matplotlib.axes._subplots.AxesSubplot at 0x1b7892f01d0>"
      ]
     },
     "execution_count": 271,
     "metadata": {},
     "output_type": "execute_result"
    },
    {
     "data": {
      "image/png": "[encoded data removed]",
      "text/plain": [
       "<Figure size 432x288 with 1 Axes>"
      ]
     },
     "metadata": {
      "needs_background": "light"
     },
     "output_type": "display_data"
    }
   ],
   "source": [
    "df['speed'].hist()"
   ]
  },
  {
   "cell_type": "code",
   "execution_count": 272,
   "metadata": {},
   "outputs": [
    {
     "data": {
      "text/plain": [
       "count    661064.000000\n",
       "mean          4.711225\n",
       "std           5.547541\n",
       "min           0.004344\n",
       "25%           0.526149\n",
       "50%           2.731577\n",
       "75%           7.240797\n",
       "max          29.999916\n",
       "Name: speed, dtype: float64"
      ]
     },
     "execution_count": 272,
     "metadata": {},
     "output_type": "execute_result"
    }
   ],
   "source": [
    "df['speed'].describe()"
   ]
  },
  {
   "cell_type": "markdown",
   "metadata": {},
   "source": [
    "## How many bikes are in use at what point in time (weekday)?"
   ]
  },
  {
   "cell_type": "code",
   "execution_count": 321,
   "metadata": {},
   "outputs": [],
   "source": [
    "# hour of day"
   ]
  },
  {
   "cell_type": "code",
   "execution_count": 320,
   "metadata": {},
   "outputs": [
    {
     "data": {
      "text/plain": [
       "<matplotlib.axes._subplots.AxesSubplot at 0x1d1dc233470>"
      ]
     },
     "execution_count": 320,
     "metadata": {},
     "output_type": "execute_result"
    },
    {
     "data": {
      "image/png": "[encoded data removed]",
      "text/plain": [
       "<Figure size 432x288 with 1 Axes>"
      ]
     },
     "metadata": {
      "needs_background": "light"
     },
     "output_type": "display_data"
    }
   ],
   "source": [
    "nomo.dhour.value_counts().sort_index().plot(kind='bar')"
   ]
  },
  {
   "cell_type": "code",
   "execution_count": 326,
   "metadata": {},
   "outputs": [
    {
     "data": {
      "text/plain": [
       "<matplotlib.axes._subplots.AxesSubplot at 0x1d25bc76e10>"
      ]
     },
     "execution_count": 326,
     "metadata": {},
     "output_type": "execute_result"
    },
    {
     "data": {
      "image/png": "[encoded data removed]",
      "text/plain": [
       "<Figure size 432x288 with 1 Axes>"
      ]
     },
     "metadata": {
      "needs_background": "light"
     },
     "output_type": "display_data"
    }
   ],
   "source": [
    "trips.dweek.value_counts().sort_index().plot(kind='bar')"
   ]
  },
  {
   "cell_type": "code",
   "execution_count": 359,
   "metadata": {},
   "outputs": [],
   "source": [
    "pd.DataFrame(trips.whour.value_counts().sort_index()).to_csv('../../data/week_usage.csv')"
   ]
  },
  {
   "cell_type": "code",
   "execution_count": 353,
   "metadata": {},
   "outputs": [
    {
     "data": {
      "text/plain": [
       "<matplotlib.axes._subplots.AxesSubplot at 0x1d1347b9d68>"
      ]
     },
     "execution_count": 353,
     "metadata": {},
     "output_type": "execute_result"
    },
    {
     "data": {
      "image/png": "[encoded data removed]",
      "text/plain": [
       "<Figure size 432x288 with 1 Axes>"
      ]
     },
     "metadata": {
      "needs_background": "light"
     },
     "output_type": "display_data"
    }
   ],
   "source": [
    "trips.whour.value_counts().sort_index().plot()"
   ]
  },
  {
   "cell_type": "code",
   "execution_count": null,
   "metadata": {},
   "outputs": [],
   "source": [
    "# plot week of year"
   ]
  },
  {
   "cell_type": "code",
   "execution_count": 349,
   "metadata": {},
   "outputs": [
    {
     "data": {
      "text/plain": [
       "<matplotlib.axes._subplots.AxesSubplot at 0x1d25f458908>"
      ]
     },
     "execution_count": 349,
     "metadata": {},
     "output_type": "execute_result"
    },
    {
     "data": {
      "image/png": "[encoded data removed]",
      "text/plain": [
       "<Figure size 432x288 with 1 Axes>"
      ]
     },
     "metadata": {
      "needs_background": "light"
     },
     "output_type": "display_data"
    }
   ],
   "source": [
    "trips.calweek.value_counts().sort_index().plot()"
   ]
  },
  {
   "cell_type": "code",
   "execution_count": 298,
   "metadata": {},
   "outputs": [],
   "source": [
    "df.loc[:,'hourly_starttime'] = df.timestamp.apply(lambda dt: datetime.datetime(dt.year, dt.month, dt.day, dt.hour,15*(dt.minute // 60)))"
   ]
  },
  {
   "cell_type": "code",
   "execution_count": 299,
   "metadata": {},
   "outputs": [
    {
     "data": {
      "text/plain": [
       "count                 2122449\n",
       "unique                   2405\n",
       "top       2019-03-28 09:00:00\n",
       "freq                     2262\n",
       "first     2019-03-27 18:00:00\n",
       "last      2019-07-09 19:00:00\n",
       "Name: hourly_starttime, dtype: object"
      ]
     },
     "execution_count": 299,
     "metadata": {},
     "output_type": "execute_result"
    }
   ],
   "source": [
    "df[df['mode']=='trip'].hourly_starttime.describe()"
   ]
  },
  {
   "cell_type": "markdown",
   "metadata": {},
   "source": [
    "#### How many rides are there per day?"
   ]
  },
  {
   "cell_type": "markdown",
   "metadata": {},
   "source": [
    "#### How long is the average ride (time and length)? How fast?"
   ]
  },
  {
   "cell_type": "markdown",
   "metadata": {},
   "source": [
    "## Geoanalysis "
   ]
  },
  {
   "cell_type": "code",
   "execution_count": 330,
   "metadata": {},
   "outputs": [],
   "source": [
    "crs = {'init': 'epsg:4326'}\n",
    "geometry = [Point(xy) for xy in zip(df.longitude, df.latitude)]\n",
    "gdf = gpd.GeoDataFrame(df, crs=crs, geometry=geometry)"
   ]
  },
  {
   "cell_type": "code",
   "execution_count": 331,
   "metadata": {},
   "outputs": [],
   "source": [
    "geometry = [Point(xy) for xy in zip(df.next_lon, df.next_lat)]\n",
    "endpoints = gpd.GeoDataFrame(df, crs=crs, geometry=geometry)"
   ]
  },
  {
   "cell_type": "code",
   "execution_count": 332,
   "metadata": {},
   "outputs": [],
   "source": [
    "gdf[['geometry']].head(1000).to_file('../../data/small_startpoints.geojson', Driver='GeoJSON')"
   ]
  },
  {
   "cell_type": "code",
   "execution_count": 333,
   "metadata": {},
   "outputs": [],
   "source": [
    "gdf_vbb = gpd.read_file('../../data/haltestellen-berlin.geojson')"
   ]
  },
  {
   "cell_type": "code",
   "execution_count": 334,
   "metadata": {},
   "outputs": [
    {
     "data": {
      "text/plain": [
       "<matplotlib.axes._subplots.AxesSubplot at 0x1b79a25ee48>"
      ]
     },
     "execution_count": 334,
     "metadata": {},
     "output_type": "execute_result"
    },
    {
     "data": {
      "image/png": "[encoded data removed]",
      "text/plain": [
       "<Figure size 432x288 with 1 Axes>"
      ]
     },
     "metadata": {
      "needs_background": "light"
     },
     "output_type": "display_data"
    }
   ],
   "source": [
    "gdf_vbb.plot()"
   ]
  },
  {
   "cell_type": "code",
   "execution_count": 335,
   "metadata": {},
   "outputs": [],
   "source": [
    "gdf_plr = gpd.read_file('lor_planungsraeume.geojson')"
   ]
  },
  {
   "cell_type": "code",
   "execution_count": 336,
   "metadata": {},
   "outputs": [
    {
     "ename": "NameError",
     "evalue": "name 'gdf_data' is not defined",
     "output_type": "error",
     "traceback": [
      "\u001b[1;31m---------------------------------------------------------------------------\u001b[0m",
      "\u001b[1;31mNameError\u001b[0m                                 Traceback (most recent call last)",
      "\u001b[1;32m<ipython-input-336-fbc99c9baef3>\u001b[0m in \u001b[0;36m<module>\u001b[1;34m\u001b[0m\n\u001b[1;32m----> 1\u001b[1;33m \u001b[0mpointInPolys\u001b[0m \u001b[1;33m=\u001b[0m \u001b[0msjoin\u001b[0m\u001b[1;33m(\u001b[0m\u001b[0mgdf_data\u001b[0m\u001b[1;33m.\u001b[0m\u001b[0mhead\u001b[0m\u001b[1;33m(\u001b[0m\u001b[1;33m)\u001b[0m\u001b[1;33m,\u001b[0m \u001b[0mgdf\u001b[0m\u001b[1;33m,\u001b[0m \u001b[0mhow\u001b[0m\u001b[1;33m=\u001b[0m\u001b[1;34m'left'\u001b[0m\u001b[1;33m)\u001b[0m\u001b[1;33m\u001b[0m\u001b[1;33m\u001b[0m\u001b[0m\n\u001b[0m",
      "\u001b[1;31mNameError\u001b[0m: name 'gdf_data' is not defined"
     ]
    }
   ],
   "source": [
    "pointInPolys = sjoin(gdf_data.head(), gdf, how='left')"
   ]
  },
  {
   "cell_type": "code",
   "execution_count": null,
   "metadata": {},
   "outputs": [],
   "source": [
    "gdf_data.intersects(gdf.unary_union)"
   ]
  },
  {
   "cell_type": "code",
   "execution_count": null,
   "metadata": {},
   "outputs": [],
   "source": [
    "gpd.overlay(gdf, gdf_data)"
   ]
  },
  {
   "cell_type": "markdown",
   "metadata": {},
   "source": [
    "#### Where are most rides? (Bezirk, ...) Heatmap"
   ]
  },
  {
   "cell_type": "code",
   "execution_count": null,
   "metadata": {},
   "outputs": [],
   "source": [
    "ax = geoplot.kdeplot(gdf,\n",
    "                     shade=True, shade_lowest=False,\n",
    "                     clip=boroughs.geometry)\n",
    "geoplot.polyplot(gdf_plr, ax=ax)"
   ]
  },
  {
   "cell_type": "code",
   "execution_count": null,
   "metadata": {},
   "outputs": [],
   "source": [
    "# cross with Planungsräume\n",
    "\n",
    "gdf.rename(index=str, columns={\"spatial_name\": \"cell_id\"}, inplace=True)\n",
    "gdf[['cell_id', 'geometry']].to_file('planungsraeume.json', driver='GeoJSON')\n",
    "df = pd.DataFrame(gdf)[['cell_id', 'geometry']]\n",
    "gdf.set_index('cell_id', inplace=True)\n",
    "gdf['geometry'].to_file('test2.json', driver='GeoJSON', index='False')\n",
    "f= open(\"test.json\",\"w\")\n",
    "f.write(gdf['geometry'].to_json())\n",
    "f.close()    \n",
    "test = gdf['geometry'].to_dict()\n",
    "for key, values in test.items():\n",
    "    print (key)\n",
    "test = pd.read_json('test.json', orient='records')"
   ]
  },
  {
   "cell_type": "markdown",
   "metadata": {},
   "source": [
    "#### What are highly frequented routes? (Are there good bike lanes? Should there be better bike lanes?)"
   ]
  },
  {
   "cell_type": "markdown",
   "metadata": {},
   "source": [
    "#### Are there \"hot spots\" for pick up and drop off?"
   ]
  },
  {
   "cell_type": "markdown",
   "metadata": {},
   "source": [
    "## pseudonomysed trip data"
   ]
  },
  {
   "cell_type": "code",
   "execution_count": null,
   "metadata": {},
   "outputs": [],
   "source": [
    "crs = {'init': 'epsg:4326'}\n",
    "geometry = [Point(xy) for xy in zip(df.longitude, df.latitude)]\n",
    "gdf = gpd.GeoDataFrame(df, crs=crs, geometry=geometry)\n",
    "gdf = gdf.to_crs(epsg=25833)"
   ]
  },
  {
   "cell_type": "code",
   "execution_count": null,
   "metadata": {},
   "outputs": [],
   "source": [
    "geometry = [Point(xy) for xy in zip(df.next_lon, df.next_lat)]\n",
    "gdf_end = gpd.GeoDataFrame(df, crs=crs, geometry=geometry)\n",
    "gdf_end = gdf_end.to_crs(epsg=25833)"
   ]
  },
  {
   "cell_type": "code",
   "execution_count": null,
   "metadata": {},
   "outputs": [],
   "source": [
    "berlin = geopandas.read_file('lor_planungsraeume.geojson')\n",
    "berlin = berlin.to_crs(epsg=25833)"
   ]
  },
  {
   "cell_type": "code",
   "execution_count": null,
   "metadata": {},
   "outputs": [],
   "source": [
    "# map of accessible bikes\n",
    "base = berlin.plot(color='white', edgecolor='black', figsize=(20,20))\n",
    "gdf[(gdf['mode']=='accessible') & (gdf.latitude > 52.3) & (gdf.longitude > 13.0)& (gdf.latitude < 53.7) & (gdf.longitude < 13.7)].plot(ax=base, markersize=0.01, figsize=(20,20))"
   ]
  },
  {
   "cell_type": "code",
   "execution_count": null,
   "metadata": {},
   "outputs": [],
   "source": [
    "# map of startpoints\n",
    "gdf[(gdf['mode']=='trip')].plot(ax=base, markersize=0.01, figsize=(20,20))"
   ]
  },
  {
   "cell_type": "code",
   "execution_count": null,
   "metadata": {},
   "outputs": [],
   "source": [
    "# map of endpoints\n",
    "gdf_end[(gdf_end['mode']=='trip')].plot(ax=base, markersize=0.01, figsize=(20,20))"
   ]
  },
  {
   "cell_type": "code",
   "execution_count": null,
   "metadata": {},
   "outputs": [],
   "source": [
    "# map both\n",
    "start = gdf[(gdf['mode']=='trip')].plot(ax=base, markersize=0.01, figsize=(20,20), color='red')\n",
    "gdf_end[(gdf_end['mode']=='trip')].plot(ax=start, markersize=0.01, figsize=(20,20))"
   ]
  },
  {
   "cell_type": "code",
   "execution_count": null,
   "metadata": {},
   "outputs": [],
   "source": [
    "# heatmap (?)\n",
    "import geoplot\n",
    "ax = geoplot.kdeplot(gdf.head(100),\n",
    "                     shade=True, shade_lowest=False,\n",
    "                     clip=boroughs.geometry)\n",
    "geoplot.polyplot(boroughs, ax=base)"
   ]
  },
  {
   "cell_type": "markdown",
   "metadata": {},
   "source": [
    "## Include further data"
   ]
  },
  {
   "cell_type": "markdown",
   "metadata": {},
   "source": [
    "#### Intersect with subway stops"
   ]
  },
  {
   "cell_type": "markdown",
   "metadata": {},
   "source": [
    "#### weather data"
   ]
  },
  {
   "cell_type": "markdown",
   "metadata": {},
   "source": [
    "#### nextbike stations: with and without docking station: how many rides start from / end at a docking station"
   ]
  }
 ],
 "metadata": {
  "kernelspec": {
   "display_name": "Python 3",
   "language": "python",
   "name": "python3"
  },
  "language_info": {
   "codemirror_mode": {
    "name": "ipython",
    "version": 3
   },
   "file_extension": ".py",
   "mimetype": "text/x-python",
   "name": "python",
   "nbconvert_exporter": "python",
   "pygments_lexer": "ipython3",
   "version": "3.7.1"
  }
 },
 "nbformat": 4,
 "nbformat_minor": 2
}
