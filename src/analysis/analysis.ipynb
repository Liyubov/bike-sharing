{
 "cells": [
  {
   "cell_type": "markdown",
   "metadata": {},
   "source": [
    "# Anaylsis Bike Sharing Data"
   ]
  },
  {
   "cell_type": "code",
   "execution_count": 179,
   "metadata": {},
   "outputs": [],
   "source": [
    "import numpy as np\n",
    "import pandas as pd\n",
    "import datetime\n",
    "import matplotlib as plt\n",
    "%matplotlib inline\n",
    "from sqlalchemy import create_engine\n",
    "import requests\n",
    "import time\n",
    "\n",
    "import geopandas as gpd\n",
    "from shapely.geometry import Point\n",
    "from geopandas.tools import sjoin"
   ]
  },
  {
   "cell_type": "markdown",
   "metadata": {},
   "source": [
    "### Datasets\n",
    "\n",
    "- Raw data: raw.csv\n",
    "\n",
    "- Categorized in Trip and accessible: preprocessed.csv\n",
    "\n",
    "- Cleaned according to plausability: cleaned.csv\n",
    "\n",
    "- routed routed.csv\n",
    "\n",
    "- Trip Dataset: pseudonomysed.csv\n",
    "    - pseudonomysed\n",
    "    - trip ID, start time, end time, start location, stop location, duration, estimated distance<"
   ]
  },
  {
   "cell_type": "markdown",
   "metadata": {},
   "source": [
    "# Preprocessing"
   ]
  },
  {
   "cell_type": "markdown",
   "metadata": {},
   "source": [
    "## get data from database"
   ]
  },
  {
   "cell_type": "code",
   "execution_count": null,
   "metadata": {},
   "outputs": [],
   "source": [
    "dbhost = ''\n",
    "dbname = ''\n",
    "dbuser = ''\n",
    "dbpassword = ''"
   ]
  },
  {
   "cell_type": "code",
   "execution_count": null,
   "metadata": {},
   "outputs": [],
   "source": [
    "sql = \"\"\"\n",
    "select *\n",
    "from (\n",
    "    select  \"bikeId\", \"providerId\", \"timestamp\", latitude, longitude,\n",
    "\t\t\tlag(\"bikeId\") over (order by \"bikeId\" ASC, \"timestamp\" ASC) as prev_id,\n",
    "            lead(\"bikeId\") over (order by \"bikeId\" ASC, \"timestamp\" ASC) as next_id,\n",
    "            lag(\"latitude\") over (order by \"bikeId\" ASC, \"timestamp\" ASC) as prev_lat,\n",
    "\t\t\tlag(\"longitude\") over (order by \"bikeId\" ASC, \"timestamp\" ASC) as prev_lon,\n",
    "            lead(\"latitude\") over (order by \"bikeId\" ASC, \"timestamp\" ASC) as next_lat,\n",
    "            lead(\"longitude\") over (order by \"bikeId\" ASC, \"timestamp\" ASC) as next_lon\n",
    "    from public.\"bikeLocations\"\n",
    "    )x\n",
    "\twhere (\"bikeId\" <> next_id) or\n",
    "\t\t   (\"bikeId\" <> prev_id) or\n",
    "\t\t   (latitude <> next_lat or longitude <> next_lon or latitude <> prev_lat or longitude <> prev_lon)\n",
    "\t\n",
    "\t--keep first and last instance of bike (bikeId <> prev_id or bikeId <> next_id)\n",
    "\t--keep all changes inbetween, where bike_Id is equal to next_id but lat or lon changed to prev or next\n",
    "\"\"\"\n",
    "\n",
    "engine = create_engine('postgresql://' + dbuser + ':' + dbpassword + '@' + dbhost + ':5432/' + dbname)\n",
    "df = pd.read_sql_query(sql,con=engine)"
   ]
  },
  {
   "cell_type": "code",
   "execution_count": null,
   "metadata": {},
   "outputs": [],
   "source": [
    "# df.to_csv('../../data/raw.csv', index_label= 'id')"
   ]
  },
  {
   "cell_type": "markdown",
   "metadata": {},
   "source": [
    "## preprocess"
   ]
  },
  {
   "cell_type": "code",
   "execution_count": 169,
   "metadata": {},
   "outputs": [],
   "source": [
    "df = pd.read_csv('../../data/raw.csv', parse_dates=['timestamp'])"
   ]
  },
  {
   "cell_type": "code",
   "execution_count": 170,
   "metadata": {},
   "outputs": [],
   "source": [
    "# correct wrong lat lons \n",
    "# get mode (trip or is bike accessible)\n",
    "\n",
    "def preprocess(df):\n",
    "    \n",
    "    # for a certain period the lat lon of one provider were stored the wrong way \n",
    "    # switch lat lon where it's wrong (for Berlin)\n",
    "    temp = df.loc[(df.longitude > 40),'latitude'].copy(deep=True)\n",
    "\n",
    "    df.loc[(df.longitude > 40),'latitude'] = df.loc[(df.longitude > 40),'longitude']\n",
    "    df.loc[(df.longitude > 40),'longitude'] = temp\n",
    "    \n",
    "    temp0 = df.loc[(df.next_lon > 40),'next_lat'].copy(deep=True)\n",
    "\n",
    "    df.loc[(df.next_lon > 40),'next_lat'] = df.loc[(df.next_lon > 40),'next_lon']\n",
    "    df.loc[(df.next_lon > 40),'next_lon'] = temp0\n",
    "    \n",
    "    temp1 = df.loc[(df.prev_lon > 40),'prev_lat'].copy(deep=True)\n",
    "    \n",
    "    df.loc[(df.prev_lon > 40),'prev_lat'] = df.loc[(df.prev_lon > 40),'prev_lon']\n",
    "    df.loc[(df.prev_lon > 40),'prev_lon'] = temp1\n",
    "    \n",
    "    MODE_TRIP = 'trip'\n",
    "    MODE_ACCESS = 'accessible'\n",
    "\n",
    "    df['end_timestamp'] = None\n",
    "    df['mode'] = None\n",
    "\n",
    "    df.sort_values(by=['bikeId', 'timestamp'], inplace = True)\n",
    "    df['end_timestamp'] = df.timestamp.shift(-1)\n",
    "    \n",
    "    df['next_lat'] = np.where(df.bikeId == df.bikeId.shift(-1), df.latitude.shift(-1), -1)\\n\n",
    "    df['next_lon'] = np.where(df.bikeId == df.bikeId.shift(-1), df.longitude.shift(-1), -1)\\n\n",
    "\n",
    "    # if the bike has moved its a trip, otherwise the bike was accessible at its location\n",
    "    # round to 3 digits for lat lon (trip should be longer than approx. 100 meters)\n",
    "    df['mode'] = np.where((df.latitude.round(3) != df.next_lat.round(3)) | (df.longitude.round(4) != df.next_lon.round(4)), MODE_TRIP, MODE_ACCESS)\n",
    "    \n",
    "    # if bike Id is not the same as next, then this is the final time stamp and the next_timestamp is set to None\n",
    "    df['end_timestamp'] = df.end_timestamp.where(df.bikeId == df.bikeId.shift(-1),None, axis=0)\n",
    "    \n",
    "    # delete last instances of all bikes\n",
    "    df = df[df.next_lat.notnull()]\n",
    "    \n",
    "    return df"
   ]
  },
  {
   "cell_type": "code",
   "execution_count": 171,
   "metadata": {},
   "outputs": [],
   "source": [
    "df = preprocess(df)"
   ]
  },
  {
   "cell_type": "code",
   "execution_count": 172,
   "metadata": {},
   "outputs": [],
   "source": [
    "df.to_csv('../../data/preprocessed.csv', index_label= 'id')"
   ]
  },
  {
   "cell_type": "markdown",
   "metadata": {},
   "source": [
    "## Routing"
   ]
  },
  {
   "cell_type": "code",
   "execution_count": 180,
   "metadata": {},
   "outputs": [],
   "source": [
    "def routing(start_lon, start_lat, end_lon, end_lat):\n",
    "    start = str(start_lon) + ',' + str(start_lat)\n",
    "    end = str(end_lon) + ',' + str(end_lat)\n",
    "    params = {'start':start,\n",
    "              'end':end,\n",
    "              'modal':'bicycle'\n",
    "             }\n",
    "    r = requests.get('http://localhost:1717/route', params = params)\n",
    "    response = r.json()\n",
    "    return response"
   ]
  },
  {
   "cell_type": "code",
   "execution_count": 181,
   "metadata": {},
   "outputs": [
    {
     "name": "stdout",
     "output_type": "stream",
     "text": [
      "214.57879996299744\n",
      "223.48249912261963\n",
      "214.69404888153076\n",
      "189.998055934906\n",
      "177.86353087425232\n",
      "178.07002592086792\n",
      "178.5570878982544\n",
      "490.3402931690216\n",
      "514.6639800071716\n",
      "230.62421798706055\n",
      "204.9859230518341\n",
      "166.9845311641693\n",
      "173.87214183807373\n",
      "163.3482518196106\n",
      "156.35346794128418\n",
      "154.9044930934906\n",
      "168.71858096122742\n",
      "179.56365704536438\n",
      "154.8981430530548\n",
      "153.71806001663208\n",
      "161.40800881385803\n",
      "160.61402201652527\n",
      "484.7227940559387\n",
      "165.4938759803772\n",
      "144.62416791915894\n",
      "160.95510387420654\n",
      "188.71538925170898\n",
      "160.1147141456604\n",
      "156.14063096046448\n",
      "145.88051581382751\n",
      "151.20413494110107\n",
      "5570.233852863312\n",
      "168.08731317520142\n",
      "156.1642780303955\n",
      "168.08376622200012\n",
      "180.47953414916992\n",
      "164.22090196609497\n",
      "177.3228931427002\n",
      "9975.520352125168\n",
      "155.88235807418823\n",
      "154.1496877670288\n",
      "146.9719421863556\n",
      "1111.4445898532867\n",
      "161.26306581497192\n",
      "165.64914107322693\n",
      "157.92316102981567\n",
      "171.8003692626953\n",
      "163.10643601417542\n",
      "150.91775488853455\n",
      "175.11917686462402\n",
      "0.3518679141998291\n"
     ]
    }
   ],
   "source": [
    "df = pd.DataFrame()\n",
    "for chunk in pd.read_csv('../../data/preprocessed.csv', index_col='id', parse_dates=['timestamp', 'end_timestamp'],chunksize=100000):\n",
    "    start = time.time()\n",
    "    chunk['response'] = None\n",
    "    chunk['geometry'] = None\n",
    "    chunk['distance'] = None\n",
    "    chunk['calc_time'] = None\n",
    "    chunk['waypoints'] = None\n",
    "    \n",
    "    # only do routing for trips\n",
    "    selection = (chunk['mode']=='trip') & (chunk.next_lat.notnull())\n",
    "    chunk.loc[selection, 'response'] = chunk.loc[selection].apply(lambda row: routing(row.longitude, row.latitude, row.next_lon, row.next_lat), axis=1)\n",
    "    chunk.loc[selection, 'geometry'] = chunk.loc[selection]['response'].apply(lambda row: row['routes'][0]['geometry'])\n",
    "    chunk.loc[selection, 'distance'] = chunk.loc[selection]['response'].apply(lambda row: row['routes'][0]['distance'])\n",
    "    chunk.loc[selection, 'calc_time'] = chunk.loc[selection]['response'].apply(lambda row: row['routes'][0]['duration'])\n",
    "    chunk.loc[selection, 'waypoints'] = chunk.loc[selection]['response'].apply(lambda row: row['waypoints'])\n",
    "    end = time.time()\n",
    "    print(end - start)\n",
    "    df = df.append(chunk)"
   ]
  },
  {
   "cell_type": "code",
   "execution_count": 182,
   "metadata": {},
   "outputs": [],
   "source": [
    "# df.to_csv('../../data/routed.csv')"
   ]
  },
  {
   "cell_type": "code",
   "execution_count": 115,
   "metadata": {},
   "outputs": [],
   "source": [
    "# df.to_json('../../data/routed.json')"
   ]
  },
  {
   "cell_type": "markdown",
   "metadata": {},
   "source": [
    "## Pseudonomysation of uncleaned data"
   ]
  },
  {
   "cell_type": "code",
   "execution_count": null,
   "metadata": {},
   "outputs": [],
   "source": [
    "# df = pd.read_csv('../../data/routed.csv', parse_dates=['timestamp','end_timestamp'])"
   ]
  },
  {
   "cell_type": "code",
   "execution_count": 87,
   "metadata": {},
   "outputs": [],
   "source": [
    "# pseudonomoysed\n",
    "pseudon = df.copy(deep=True)\n",
    "pseudon['starttime'] = pseudon.timestamp.apply(lambda dt: datetime.datetime(dt.year, dt.month, dt.day, dt.hour,15*(dt.minute // 15)))\n",
    "pseudon['endtime'] = np.where(pseudon.end_timestamp.isnull(), None, pseudon.end_timestamp.apply(lambda dt: datetime.datetime(dt.year, dt.month, dt.day, dt.hour,15*(dt.minute // 15))))\n",
    "pseudon.reset_index()\n",
    "pseudon.latitude = pseudon.latitude.round(3)\n",
    "pseudon.longitude = pseudon.longitude.round(3)\n",
    "pseudon.next_lat = pseudon.next_lat.round(3)\n",
    "pseudon.next_lon = pseudon.next_lon.round(3)\n",
    "pseudon = pseudon[pseudon['mode'] == 'trip'].drop(['providerId', 'bikeId', 'timestamp', 'end_timestamp', 'next_id','prev_id', 'mode', 'prev_lat', 'prev_lon', 'response', 'calc_time','geometry', 'waypoints'], axis=1).copy(deep=True)"
   ]
  },
  {
   "cell_type": "code",
   "execution_count": 88,
   "metadata": {},
   "outputs": [],
   "source": [
    "# pseudon.to_csv('../../data/pseudonomysed.csv', index_label='id')"
   ]
  },
  {
   "cell_type": "markdown",
   "metadata": {},
   "source": [
    "## Data Cleaning"
   ]
  },
  {
   "cell_type": "code",
   "execution_count": 160,
   "metadata": {},
   "outputs": [],
   "source": [
    "# df = pd.read_csv('../../data/routed.csv', parse_dates=['timestamp','end_timestamp'])"
   ]
  },
  {
   "cell_type": "code",
   "execution_count": 183,
   "metadata": {},
   "outputs": [],
   "source": [
    "def cleaning(df):\n",
    "    df['duration'] = df.end_timestamp - df.timestamp\n",
    "    df['speed'] = np.where(df.distance.notnull(), ((df.distance/1000) / (df.duration.apply(lambda x: x.total_seconds()/3600))), None)\n",
    " \n",
    "    # delete instances with unplausible locations (outside of Berlin)\n",
    "    df.drop(df[df.longitude > 13.8].index, inplace=True)\n",
    "    df.drop(df[df.next_lon > 13.8].index, inplace=True)\n",
    "\n",
    "    df.drop(df[df.longitude < 13.0].index, inplace=True)\n",
    "    df.drop(df[df.next_lon < 13.0].index, inplace=True)\n",
    "\n",
    "    df.drop(df[df.latitude > 52.7].index, inplace=True)\n",
    "    df.drop(df[df.next_lat > 52.7].index, inplace=True)\n",
    "\n",
    "    df.drop(df[df.latitude < 52.3].index, inplace=True)\n",
    "    df.drop(df[df.next_lat < 52.3].index, inplace=True)\n",
    "\n",
    "    \n",
    "    # Check for unplausible data\n",
    "    \n",
    "    # drop trips that are longer than 24 hours\n",
    "    df = df.drop(df[(df['mode'] == 'trip') & (df.duration > datetime.timedelta(hours=24))].index)\n",
    "\n",
    "    # drop trips before 1.4.2019 \n",
    "    df = df.drop(df[df['timestamp'] <  pd.Timestamp(2019,4,1)].index)\n",
    "    \n",
    "    # drop trips that are smaller than 100 m or faster than 30 km/h\n",
    "    df = df[(df['mode']=='accessible')|((df.distance > 100) & (df.speed < 30))]\n",
    "    \n",
    "    return df"
   ]
  },
  {
   "cell_type": "code",
   "execution_count": 184,
   "metadata": {},
   "outputs": [],
   "source": [
    "df = cleaning(df)"
   ]
  },
  {
   "cell_type": "code",
   "execution_count": null,
   "metadata": {},
   "outputs": [],
   "source": [
    "# TODO: drop all last occurencies"
   ]
  },
  {
   "cell_type": "code",
   "execution_count": 286,
   "metadata": {},
   "outputs": [],
   "source": [
    "ids = df.sort_values(by=['bikeId', 'timestamp']).groupby('bikeId').last()['id.1']"
   ]
  },
  {
   "cell_type": "code",
   "execution_count": 306,
   "metadata": {},
   "outputs": [],
   "source": [
    "df = df.drop(ids.tolist())"
   ]
  },
  {
   "cell_type": "code",
   "execution_count": 307,
   "metadata": {},
   "outputs": [],
   "source": [
    "df.to_csv('../../data/cleaned.csv', index_label = 'id')"
   ]
  },
  {
   "cell_type": "markdown",
   "metadata": {},
   "source": [
    "## Pseudonymisation of cleaned data\n",
    "\n",
    "https://datasmart.ash.harvard.edu/news/article/civic-analytics-network-dockless-mobility-open-letter\n",
    "\n",
    "https://data.louisvilleky.gov/dataset/dockless-vehicles"
   ]
  },
  {
   "cell_type": "code",
   "execution_count": 308,
   "metadata": {},
   "outputs": [],
   "source": [
    "# pseudonomoysed cleaned\n",
    "pseudon = df.copy(deep=True)\n",
    "pseudon['starttime'] = pseudon.timestamp.apply(lambda dt: datetime.datetime(dt.year, dt.month, dt.day, dt.hour,15*(dt.minute // 15)))\n",
    "pseudon['endtime'] = np.where(pseudon.end_timestamp.isnull(), None, pseudon.end_timestamp.apply(lambda dt: datetime.datetime(dt.year, dt.month, dt.day, dt.hour,15*(dt.minute // 15))))\n",
    "pseudon.reset_index()\n",
    "pseudon.latitude = pseudon.latitude.round(3)\n",
    "pseudon.longitude = pseudon.longitude.round(3)\n",
    "pseudon.next_lat = pseudon.next_lat.round(3)\n",
    "pseudon.next_lon = pseudon.next_lon.round(3)\n",
    "pseudon = pseudon[pseudon['mode'] == 'trip'].drop(['providerId', 'bikeId', 'timestamp', 'end_timestamp', 'next_id','prev_id', 'mode', 'prev_lat', 'prev_lon', 'response', 'calc_time','geometry', 'waypoints'], axis=1).copy(deep=True)"
   ]
  },
  {
   "cell_type": "code",
   "execution_count": 309,
   "metadata": {},
   "outputs": [],
   "source": [
    "pseudon.to_csv('../../data/pseudonomysed_clean.csv', index_label='id')"
   ]
  },
  {
   "cell_type": "markdown",
   "metadata": {},
   "source": [
    "# Analysis"
   ]
  },
  {
   "cell_type": "code",
   "execution_count": null,
   "metadata": {},
   "outputs": [],
   "source": [
    "# df = pd.read_csv('../../data/cleaned.csv', parse_dates=['timestamp','end_timestamp', 'duration'])"
   ]
  },
  {
   "cell_type": "code",
   "execution_count": 312,
   "metadata": {},
   "outputs": [
    {
     "data": {
      "text/plain": [
       "accessible    2965188\n",
       "trip           661064\n",
       "Name: mode, dtype: int64"
      ]
     },
     "execution_count": 312,
     "metadata": {},
     "output_type": "execute_result"
    }
   ],
   "source": [
    "df['mode'].value_counts()"
   ]
  },
  {
   "cell_type": "code",
   "execution_count": null,
   "metadata": {},
   "outputs": [],
   "source": [
    "df.duration = df.end_timestamp - df.timestamp"
   ]
  },
  {
   "cell_type": "code",
   "execution_count": null,
   "metadata": {},
   "outputs": [],
   "source": [
    "dist = df[df.distance.notnull()]"
   ]
  },
  {
   "cell_type": "code",
   "execution_count": null,
   "metadata": {},
   "outputs": [],
   "source": [
    "dist.groupby('providerId').distance.describe()"
   ]
  },
  {
   "cell_type": "code",
   "execution_count": null,
   "metadata": {},
   "outputs": [],
   "source": [
    "dist[dist.distance > 100].distance.hist(range=(200, 2000))"
   ]
  },
  {
   "cell_type": "code",
   "execution_count": null,
   "metadata": {},
   "outputs": [],
   "source": [
    "#dist[dist.distance > 200].distance.value_counts()"
   ]
  },
  {
   "cell_type": "code",
   "execution_count": null,
   "metadata": {},
   "outputs": [],
   "source": [
    "dist[dist.distance > 100].describe()"
   ]
  },
  {
   "cell_type": "code",
   "execution_count": null,
   "metadata": {},
   "outputs": [],
   "source": [
    "dist[dist.distance < 100].shape"
   ]
  },
  {
   "cell_type": "code",
   "execution_count": null,
   "metadata": {},
   "outputs": [],
   "source": [
    "dist[dist.duration > datetime.timedelta(minutes=5)].describe()"
   ]
  },
  {
   "cell_type": "code",
   "execution_count": null,
   "metadata": {},
   "outputs": [],
   "source": [
    "dist[dist.distance > 100].groupby('providerId').duration.describe()"
   ]
  },
  {
   "cell_type": "code",
   "execution_count": null,
   "metadata": {},
   "outputs": [],
   "source": [
    "df[df['mode'] == 'trip'].duration.describe()"
   ]
  },
  {
   "cell_type": "code",
   "execution_count": null,
   "metadata": {},
   "outputs": [],
   "source": [
    "# histogram of minutes spent on trip\n",
    "df.duration.apply(lambda x: x.seconds / 60).hist(range=(0,250))"
   ]
  },
  {
   "cell_type": "code",
   "execution_count": null,
   "metadata": {},
   "outputs": [],
   "source": [
    "# average duration of trips and accesible quases"
   ]
  },
  {
   "cell_type": "code",
   "execution_count": null,
   "metadata": {},
   "outputs": [],
   "source": [
    "df[df['mode'] == 'trip'].duration.describe()"
   ]
  },
  {
   "cell_type": "code",
   "execution_count": null,
   "metadata": {},
   "outputs": [],
   "source": [
    "df[df['mode'] == 'accessible'].duration.describe()"
   ]
  },
  {
   "cell_type": "code",
   "execution_count": null,
   "metadata": {},
   "outputs": [],
   "source": [
    "dist.loc[:,'hourly_starttime'] = dist.timestamp.apply(lambda dt: datetime.datetime(dt.year, dt.month, dt.day, dt.hour,15*(dt.minute // 60)))"
   ]
  },
  {
   "cell_type": "code",
   "execution_count": null,
   "metadata": {},
   "outputs": [],
   "source": [
    "dist"
   ]
  },
  {
   "cell_type": "code",
   "execution_count": null,
   "metadata": {},
   "outputs": [],
   "source": [
    "counts = dist[dist.distance > 100][['bikeId', 'hourly_starttime']].groupby(['hourly_starttime']).count()"
   ]
  },
  {
   "cell_type": "code",
   "execution_count": null,
   "metadata": {},
   "outputs": [],
   "source": [
    "counts[100:300].plot(figsize=(20,10))"
   ]
  },
  {
   "cell_type": "markdown",
   "metadata": {},
   "source": [
    "### original data"
   ]
  },
  {
   "cell_type": "markdown",
   "metadata": {},
   "source": [
    "#### How many unique bike IDs are there (per provider)?"
   ]
  },
  {
   "cell_type": "code",
   "execution_count": null,
   "metadata": {},
   "outputs": [],
   "source": [
    "# how many bikes are available / on a trip for each hour?\n",
    "def get_unique_ids_per_day(df):\n",
    "    daily_unique = pd.DataFrame()\n",
    "\n",
    "    start_time = df.sort_values('timestamp').reset_index().loc[0,'timestamp']\n",
    "    end_time = df.sort_values('timestamp').reset_index().loc[df.shape[0]-2, 'timestamp']\n",
    "    times= []\n",
    "    \n",
    "    # get all desired times\n",
    "    while start_time < end_time:\n",
    "        times.append(start_time)\n",
    "        start_time += datetime.timedelta(hours=24)\n",
    "    \n",
    "    daily_unique['time'] = times\n",
    "    daily_unique['total'] = daily_unique.time.apply(lambda x: df[\n",
    "               (df.timestamp <= x) & \n",
    "               (df.end_timestamp > x)].bikeId.unique().shape[0])\n",
    "    daily_unique['nextbike'] = daily_unique.time.apply(lambda x: df[\n",
    "               (df.providerId == 0)&\n",
    "               (df.timestamp <= x) & \n",
    "               (df.end_timestamp > x)].bikeId.unique().shape[0])\n",
    "    daily_unique['lidlbike'] = daily_unique.time.apply(lambda x: df[\n",
    "               (df.providerId == 1)&\n",
    "               (df.timestamp <= x) & \n",
    "               (df.end_timestamp > x)].bikeId.unique().shape[0])\n",
    "    daily_unique['mobike'] = daily_unique.time.apply(lambda x: df[\n",
    "               (df.providerId == 2)&\n",
    "               (df.timestamp <= x) & \n",
    "               (df.end_timestamp > x)].bikeId.unique().shape[0])\n",
    "    \n",
    "    return daily_unique\n",
    "    "
   ]
  },
  {
   "cell_type": "code",
   "execution_count": null,
   "metadata": {},
   "outputs": [],
   "source": [
    "def get_unique_ids(df):\n",
    "    unique_bikes = pd.DataFrame()\n",
    "    unique_bikes = unique_bikes.append([([df.bikeId.unique().shape[0], df[(df.providerId == 0)].bikeId.unique().shape[0], \n",
    "             df[(df.providerId == 1)].bikeId.unique().shape[0],\n",
    "             df[(df.providerId == 2)].bikeId.unique().shape[0]])])\n",
    "    unique_bikes.columns = [['total', 'nextbike', 'lidlbike', 'mobike']]\n",
    "    return unique_bikes"
   ]
  },
  {
   "cell_type": "code",
   "execution_count": null,
   "metadata": {},
   "outputs": [],
   "source": [
    "daily_uniques = get_unique_ids_per_day(df)"
   ]
  },
  {
   "cell_type": "code",
   "execution_count": null,
   "metadata": {},
   "outputs": [],
   "source": [
    "daily_uniques.describe()"
   ]
  },
  {
   "cell_type": "code",
   "execution_count": null,
   "metadata": {},
   "outputs": [],
   "source": [
    "uniques = get_unique_ids(df)\n",
    "uniques"
   ]
  },
  {
   "cell_type": "code",
   "execution_count": null,
   "metadata": {},
   "outputs": [],
   "source": [
    "# average trips per bike\n",
    "df_trips = df[df['mode']=='trip']\n",
    "df_trips.groupby(['bikeId', 'providerId']).count().groupby('providerId').describe()"
   ]
  },
  {
   "cell_type": "markdown",
   "metadata": {},
   "source": [
    "#### How much time is a bike used? "
   ]
  },
  {
   "cell_type": "markdown",
   "metadata": {},
   "source": [
    "#### how high is the utilization rate? (available bikes / all bikes)"
   ]
  },
  {
   "cell_type": "code",
   "execution_count": null,
   "metadata": {},
   "outputs": [],
   "source": [
    "# how many bikes are available / on a trip for each hour?\n",
    "def count_bikes_in_mode(df, mode):\n",
    "    bikes_accessible = pd.DataFrame()\n",
    "\n",
    "    start_time = df.sort_values('timestamp').reset_index().loc[0,'timestamp']\n",
    "    end_time = df.sort_values('timestamp').reset_index().loc[df.shape[0]-2, 'timestamp']\n",
    "    times= []\n",
    "    while start_time < end_time:\n",
    "        times.append(start_time)\n",
    "        start_time += datetime.timedelta(hours=36)\n",
    "    \n",
    "    bikes_accessible['time'] = times\n",
    "    bikes_accessible['total'] = bikes_accessible.time.apply(lambda x: df[(df['mode']==mode) &\n",
    "               (df.timestamp <= x) & \n",
    "               (df.end_timestamp > x)].bikeId.unique().shape[0])\n",
    "    bikes_accessible['nextbike'] = bikes_accessible.time.apply(lambda x: df[(df['mode']==mode) &\n",
    "               (df.providerId == 0)&\n",
    "               (df.timestamp <= x) & \n",
    "               (df.end_timestamp > x)].bikeId.unique().shape[0])\n",
    "    bikes_accessible['lidlbike'] = bikes_accessible.time.apply(lambda x: df[(df['mode']==mode) &\n",
    "               (df.providerId == 1)&\n",
    "               (df.timestamp <= x) & \n",
    "               (df.end_timestamp > x)].bikeId.unique().shape[0])\n",
    "    bikes_accessible['mobike'] = bikes_accessible.time.apply(lambda x: df[(df['mode']==mode) &\n",
    "               (df.providerId == 2)&\n",
    "               (df.timestamp <= x) & \n",
    "               (df.end_timestamp > x)].bikeId.unique().shape[0])\n",
    "    return bikes_accessible\n",
    "    "
   ]
  },
  {
   "cell_type": "code",
   "execution_count": null,
   "metadata": {},
   "outputs": [],
   "source": [
    "accessible = count_bikes_in_mode(df.sort_values('timestamp'), 'accessible')"
   ]
  },
  {
   "cell_type": "code",
   "execution_count": null,
   "metadata": {},
   "outputs": [],
   "source": [
    "in_use = count_bikes_in_mode(df.sort_values('timestamp'), 'trip')"
   ]
  },
  {
   "cell_type": "code",
   "execution_count": null,
   "metadata": {},
   "outputs": [],
   "source": [
    "in_use.median()"
   ]
  },
  {
   "cell_type": "code",
   "execution_count": null,
   "metadata": {},
   "outputs": [],
   "source": [
    "accessible.median()"
   ]
  },
  {
   "cell_type": "code",
   "execution_count": null,
   "metadata": {},
   "outputs": [],
   "source": [
    "# still that high when cleaned??"
   ]
  },
  {
   "cell_type": "code",
   "execution_count": null,
   "metadata": {},
   "outputs": [],
   "source": [
    "in_use.median() / accessible.median()"
   ]
  },
  {
   "cell_type": "markdown",
   "metadata": {},
   "source": [
    "#### Bike Availability: \n",
    "- Where are bikes available (per Planungsraum)? On average? On average weekdays / times?\n",
    "- Distance between available bikes"
   ]
  },
  {
   "cell_type": "markdown",
   "metadata": {},
   "source": [
    "#### how long is the life span of a bike? (first appearence and last appearence)\n",
    "- is there periodical appearences?"
   ]
  },
  {
   "cell_type": "code",
   "execution_count": null,
   "metadata": {},
   "outputs": [],
   "source": [
    "# get data for lifespan\n",
    "\n",
    "def lifespan (df):\n",
    "    # each line one trip with start-loc and end-loc\n",
    "    # for each bike ID\n",
    "    start_timestamp = df.sort_values(by=['bikeId', 'timestamp']).drop_duplicates('bikeId', keep='first')\n",
    "    last_timestamp = df.sort_values(by=['bikeId', 'timestamp'], ascending = False).drop_duplicates('bikeId', keep='first')\n",
    "    start_timestamp.set_index('bikeId', inplace=True)\n",
    "    last_timestamp.set_index('bikeId', inplace=True)\n",
    "    return start_timestamp.join(last_timestamp[['timestamp']], rsuffix='_last')\n",
    "\n",
    "#df_lifespan = pd.DataFrame()\n",
    "#chunksize = 10 ** 8\n",
    "#for chunk in pd.read_csv('raw_small.csv', chunksize=chunksize):\n",
    "    #df_lifespan = df_lifespan.append(lifespan(chunk))\n",
    "    \n",
    "df_lifespan = lifespan(df)\n",
    "\n",
    "#df_lifespan.to_csv('lifespan.csv')"
   ]
  },
  {
   "cell_type": "code",
   "execution_count": null,
   "metadata": {},
   "outputs": [],
   "source": [
    "df[['bikeId', 'providerId']].drop_duplicates().groupby('providerId').count()"
   ]
  },
  {
   "cell_type": "markdown",
   "metadata": {},
   "source": [
    "#### where are bikes \"moved\"? (e.g. very fast rides by car)"
   ]
  },
  {
   "cell_type": "code",
   "execution_count": null,
   "metadata": {},
   "outputs": [],
   "source": [
    "dist['speed'] = (dist.distance/1000) / (dist.duration.apply(lambda x: x.total_seconds()/3600))"
   ]
  },
  {
   "cell_type": "code",
   "execution_count": null,
   "metadata": {},
   "outputs": [],
   "source": [
    "dist['speed'].apply(lambda x: round(x, 0)).value_counts().hist(range=(0,10))"
   ]
  },
  {
   "cell_type": "code",
   "execution_count": null,
   "metadata": {},
   "outputs": [],
   "source": [
    "#dist[dist.speed > 20]"
   ]
  },
  {
   "cell_type": "code",
   "execution_count": null,
   "metadata": {},
   "outputs": [],
   "source": [
    "dist['speed'].describe()"
   ]
  },
  {
   "cell_type": "markdown",
   "metadata": {},
   "source": [
    "## pseudonomysed trip data"
   ]
  },
  {
   "cell_type": "code",
   "execution_count": null,
   "metadata": {},
   "outputs": [],
   "source": [
    "crs = {'init': 'epsg:4326'}\n",
    "geometry = [Point(xy) for xy in zip(df.longitude, df.latitude)]\n",
    "gdf = gpd.GeoDataFrame(df, crs=crs, geometry=geometry)\n",
    "gdf = gdf.to_crs(epsg=25833)"
   ]
  },
  {
   "cell_type": "code",
   "execution_count": null,
   "metadata": {},
   "outputs": [],
   "source": [
    "geometry = [Point(xy) for xy in zip(df.next_lon, df.next_lat)]\n",
    "gdf_end = gpd.GeoDataFrame(df, crs=crs, geometry=geometry)\n",
    "gdf_end = gdf_end.to_crs(epsg=25833)"
   ]
  },
  {
   "cell_type": "code",
   "execution_count": null,
   "metadata": {},
   "outputs": [],
   "source": [
    "berlin = geopandas.read_file('lor_planungsraeume.geojson')\n",
    "berlin = berlin.to_crs(epsg=25833)"
   ]
  },
  {
   "cell_type": "code",
   "execution_count": null,
   "metadata": {},
   "outputs": [],
   "source": [
    "# map of accessible bikes\n",
    "base = berlin.plot(color='white', edgecolor='black', figsize=(20,20))\n",
    "gdf[(gdf['mode']=='accessible') & (gdf.latitude > 52.3) & (gdf.longitude > 13.0)& (gdf.latitude < 53.7) & (gdf.longitude < 13.7)].plot(ax=base, markersize=0.01, figsize=(20,20))"
   ]
  },
  {
   "cell_type": "code",
   "execution_count": null,
   "metadata": {},
   "outputs": [],
   "source": [
    "# map of startpoints\n",
    "gdf[(gdf['mode']=='trip')].plot(ax=base, markersize=0.01, figsize=(20,20))"
   ]
  },
  {
   "cell_type": "code",
   "execution_count": null,
   "metadata": {},
   "outputs": [],
   "source": [
    "# map of endpoints\n",
    "gdf_end[(gdf_end['mode']=='trip')].plot(ax=base, markersize=0.01, figsize=(20,20))"
   ]
  },
  {
   "cell_type": "code",
   "execution_count": null,
   "metadata": {},
   "outputs": [],
   "source": [
    "# map both\n",
    "start = gdf[(gdf['mode']=='trip')].plot(ax=base, markersize=0.01, figsize=(20,20), color='red')\n",
    "gdf_end[(gdf_end['mode']=='trip')].plot(ax=start, markersize=0.01, figsize=(20,20))"
   ]
  },
  {
   "cell_type": "code",
   "execution_count": null,
   "metadata": {},
   "outputs": [],
   "source": [
    "# heatmap (?)\n",
    "import geoplot\n",
    "ax = geoplot.kdeplot(gdf.head(100),\n",
    "                     shade=True, shade_lowest=False,\n",
    "                     clip=boroughs.geometry)\n",
    "geoplot.polyplot(boroughs, ax=base)"
   ]
  },
  {
   "cell_type": "markdown",
   "metadata": {},
   "source": [
    "#### How many bikes are in use at what point in time (weekday)?"
   ]
  },
  {
   "cell_type": "code",
   "execution_count": 161,
   "metadata": {},
   "outputs": [],
   "source": [
    "# hour of day\n",
    "df['hour_of_day'] = df.timestamp.apply(lambda x: x.time().hour)"
   ]
  },
  {
   "cell_type": "code",
   "execution_count": 167,
   "metadata": {},
   "outputs": [],
   "source": [
    "# day of week\n",
    "df['day_of_week'] = df.timestamp.apply(lambda x: x.weekday())"
   ]
  },
  {
   "cell_type": "code",
   "execution_count": 165,
   "metadata": {},
   "outputs": [
    {
     "data": {
      "text/plain": [
       "<matplotlib.axes._subplots.AxesSubplot at 0x495173978>"
      ]
     },
     "execution_count": 165,
     "metadata": {},
     "output_type": "execute_result"
    },
    {
     "data": {
      "image/png": "[encoded data removed]",
      "text/plain": [
       "<Figure size 432x288 with 1 Axes>"
      ]
     },
     "metadata": {
      "needs_background": "light"
     },
     "output_type": "display_data"
    }
   ],
   "source": [
    "df.hour_of_day[df['mode']=='trip'].value_counts().sort_index().plot(kind='bar')"
   ]
  },
  {
   "cell_type": "code",
   "execution_count": 168,
   "metadata": {},
   "outputs": [
    {
     "data": {
      "text/plain": [
       "<matplotlib.axes._subplots.AxesSubplot at 0x167232e10>"
      ]
     },
     "execution_count": 168,
     "metadata": {},
     "output_type": "execute_result"
    },
    {
     "data": {
      "image/png": "[encoded data removed]",
      "text/plain": [
       "<Figure size 432x288 with 1 Axes>"
      ]
     },
     "metadata": {
      "needs_background": "light"
     },
     "output_type": "display_data"
    }
   ],
   "source": [
    "df.day_of_week[df['mode']=='trip'].value_counts().sort_index().plot(kind='bar')"
   ]
  },
  {
   "cell_type": "code",
   "execution_count": null,
   "metadata": {},
   "outputs": [],
   "source": [
    "# see whole time on hourly / daily basis"
   ]
  },
  {
   "cell_type": "code",
   "execution_count": null,
   "metadata": {},
   "outputs": [],
   "source": [
    "df.loc[:,'hourly_starttime'] = df.timestamp.apply(lambda dt: datetime.datetime(dt.year, dt.month, dt.day, dt.hour,15*(dt.minute // 60)))"
   ]
  },
  {
   "cell_type": "code",
   "execution_count": null,
   "metadata": {},
   "outputs": [],
   "source": [
    "df[df['mode']=='trip'].hourly_starttime.describe()"
   ]
  },
  {
   "cell_type": "code",
   "execution_count": null,
   "metadata": {},
   "outputs": [],
   "source": [
    "# moving of bikes at 4am??"
   ]
  },
  {
   "cell_type": "code",
   "execution_count": null,
   "metadata": {},
   "outputs": [],
   "source": [
    "# amount of trips\n",
    "counts = df[(df['mode'] == 'trip')& df.providerId == 1][['bikeId', 'hourly_starttime']].groupby(['hourly_starttime']).count()"
   ]
  },
  {
   "cell_type": "code",
   "execution_count": null,
   "metadata": {},
   "outputs": [],
   "source": [
    "counts.plot()"
   ]
  },
  {
   "cell_type": "code",
   "execution_count": null,
   "metadata": {},
   "outputs": [],
   "source": [
    "df.loc[:,'daily_starttime'] = df.timestamp.apply(lambda dt: datetime.datetime(dt.year, dt.month, dt.day))"
   ]
  },
  {
   "cell_type": "code",
   "execution_count": null,
   "metadata": {},
   "outputs": [],
   "source": [
    "counts = df[(df['mode'] == 'trip')& df.providerId == 1][['bikeId', 'daily_starttime']].groupby(['daily_starttime']).count()"
   ]
  },
  {
   "cell_type": "code",
   "execution_count": null,
   "metadata": {},
   "outputs": [],
   "source": [
    "df[df.providerId == 1].sort_values('timestamp')"
   ]
  },
  {
   "cell_type": "markdown",
   "metadata": {},
   "source": [
    "#### How many rides are there per day?"
   ]
  },
  {
   "cell_type": "markdown",
   "metadata": {},
   "source": [
    "#### How long is the average ride (time and length)? How fast?"
   ]
  },
  {
   "cell_type": "markdown",
   "metadata": {},
   "source": [
    "## Geoanalysis "
   ]
  },
  {
   "cell_type": "code",
   "execution_count": null,
   "metadata": {},
   "outputs": [],
   "source": [
    "crs = {'init': 'epsg:4326'}\n",
    "geometry = [Point(xy) for xy in zip(df.longitude, df.latitude)]\n",
    "gdf_data = gpd.GeoDataFrame(df, crs=crs, geometry=geometry)\n",
    "gdf = gpd.read_file('lor_planungsraeume.geojson')"
   ]
  },
  {
   "cell_type": "code",
   "execution_count": null,
   "metadata": {},
   "outputs": [],
   "source": [
    "pointInPolys = sjoin(gdf_data.head(), gdf, how='left')"
   ]
  },
  {
   "cell_type": "code",
   "execution_count": null,
   "metadata": {},
   "outputs": [],
   "source": [
    "gdf_data.intersects(gdf.unary_union)"
   ]
  },
  {
   "cell_type": "code",
   "execution_count": null,
   "metadata": {},
   "outputs": [],
   "source": [
    "gpd.overlay(gdf, gdf_data)"
   ]
  },
  {
   "cell_type": "markdown",
   "metadata": {},
   "source": [
    "#### Where are most rides? (Bezirk, ...) Heatmap"
   ]
  },
  {
   "cell_type": "code",
   "execution_count": null,
   "metadata": {},
   "outputs": [],
   "source": [
    "# cross with Planungsräume\n",
    "\n",
    "gdf.rename(index=str, columns={\"spatial_name\": \"cell_id\"}, inplace=True)\n",
    "gdf[['cell_id', 'geometry']].to_file('planungsraeume.json', driver='GeoJSON')\n",
    "df = pd.DataFrame(gdf)[['cell_id', 'geometry']]\n",
    "gdf.set_index('cell_id', inplace=True)\n",
    "gdf['geometry'].to_file('test2.json', driver='GeoJSON', index='False')\n",
    "f= open(\"test.json\",\"w\")\n",
    "f.write(gdf['geometry'].to_json())\n",
    "f.close()    \n",
    "test = gdf['geometry'].to_dict()\n",
    "for key, values in test.items():\n",
    "    print (key)\n",
    "test = pd.read_json('test.json', orient='records')"
   ]
  },
  {
   "cell_type": "markdown",
   "metadata": {},
   "source": [
    "#### What are highly frequented routes? (Are there good bike lanes? Should there be better bike lanes?)"
   ]
  },
  {
   "cell_type": "markdown",
   "metadata": {},
   "source": [
    "#### Are there \"hot spots\" for pick up and drop off?"
   ]
  },
  {
   "cell_type": "markdown",
   "metadata": {},
   "source": [
    "## Include further data"
   ]
  },
  {
   "cell_type": "markdown",
   "metadata": {},
   "source": [
    "#### Intersect with subway stops"
   ]
  },
  {
   "cell_type": "markdown",
   "metadata": {},
   "source": [
    "#### weather data"
   ]
  },
  {
   "cell_type": "markdown",
   "metadata": {},
   "source": [
    "#### nextbike stations: with and without docking station: how many rides start from / end at a docking station"
   ]
  }
 ],
 "metadata": {
  "kernelspec": {
   "display_name": "Python 3",
   "language": "python",
   "name": "python3"
  },
  "language_info": {
   "codemirror_mode": {
    "name": "ipython",
    "version": 3
   },
   "file_extension": ".py",
   "mimetype": "text/x-python",
   "name": "python",
   "nbconvert_exporter": "python",
   "pygments_lexer": "ipython3",
   "version": "3.7.1"
  }
 },
 "nbformat": 4,
 "nbformat_minor": 2
}
