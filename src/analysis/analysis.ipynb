{
 "cells": [
  {
   "cell_type": "markdown",
   "metadata": {},
   "source": [
    "# Anaylsis Bike Sharing Data"
   ]
  },
  {
   "cell_type": "code",
   "execution_count": 3,
   "metadata": {},
   "outputs": [
    {
     "name": "stderr",
     "output_type": "stream",
     "text": [
      "/anaconda3/lib/python3.7/site-packages/requests/__init__.py:91: RequestsDependencyWarning: urllib3 (1.25.3) or chardet (3.0.4) doesn't match a supported version!\n",
      "  RequestsDependencyWarning)\n"
     ]
    }
   ],
   "source": [
    "import numpy as np\n",
    "import pandas as pd\n",
    "import datetime\n",
    "import matplotlib as plt\n",
    "%matplotlib inline\n",
    "from sqlalchemy import create_engine\n",
    "import requests\n",
    "import time\n",
    "\n",
    "import geopandas as gpd\n",
    "from shapely.geometry import Point\n",
    "from geopandas.tools import sjoin"
   ]
  },
  {
   "cell_type": "markdown",
   "metadata": {},
   "source": [
    "### Datasets\n",
    "\n",
    "- Raw data: raw.csv\n",
    "\n",
    "- Categorized in Trip and accessible: preprocessed.csv\n",
    "\n",
    "- Cleaned according to plausability: cleaned.csv\n",
    "\n",
    "- routed routed.csv\n",
    "\n",
    "- Trip Dataset: pseudonomysed.csv\n",
    "    - pseudonomysed\n",
    "    - trip ID, start time, end time, start location, stop location, duration, estimated distance<"
   ]
  },
  {
   "cell_type": "markdown",
   "metadata": {},
   "source": [
    "# Preprocessing"
   ]
  },
  {
   "cell_type": "markdown",
   "metadata": {},
   "source": [
    "## get data from database"
   ]
  },
  {
   "cell_type": "code",
   "execution_count": 108,
   "metadata": {},
   "outputs": [],
   "source": [
    "dbhost = ''\n",
    "dbname = ''\n",
    "dbuser = ''\n",
    "dbpassword = ''"
   ]
  },
  {
   "cell_type": "code",
   "execution_count": 166,
   "metadata": {},
   "outputs": [],
   "source": [
    "sql = \"\"\"\n",
    "select *\n",
    "from (\n",
    "    select  \"bikeId\", \"providerId\", \"timestamp\", latitude, longitude,\n",
    "\t\t\tlag(\"bikeId\") over (order by \"bikeId\" ASC, \"timestamp\" ASC) as prev_id,\n",
    "            lead(\"bikeId\") over (order by \"bikeId\" ASC, \"timestamp\" ASC) as next_id,\n",
    "            lag(\"latitude\") over (order by \"bikeId\" ASC, \"timestamp\" ASC) as prev_lat,\n",
    "\t\t\tlag(\"longitude\") over (order by \"bikeId\" ASC, \"timestamp\" ASC) as prev_lon,\n",
    "            lead(\"latitude\") over (order by \"bikeId\" ASC, \"timestamp\" ASC) as next_lat,\n",
    "            lead(\"longitude\") over (order by \"bikeId\" ASC, \"timestamp\" ASC) as next_lon\n",
    "    from public.\"bikeLocations\"\n",
    "    )x\n",
    "\twhere (\"bikeId\" <> next_id) or\n",
    "\t\t   (\"bikeId\" <> prev_id) or\n",
    "\t\t   (latitude <> next_lat or longitude <> next_lon or latitude <> prev_lat or longitude <> prev_lon)\n",
    "\t\n",
    "\t--keep first and last instance of bike (bikeId <> prev_id or bikeId <> next_id)\n",
    "\t--keep all changes inbetween, where bike_Id is equal to next_id but lat or lon changed to prev or next\n",
    "\"\"\"\n",
    "\n",
    "engine = create_engine('postgresql://' + dbuser + ':' + dbpassword + '@' + dbhost + ':5432/' + dbname)\n",
    "df = pd.read_sql_query(sql,con=engine)"
   ]
  },
  {
   "cell_type": "code",
   "execution_count": 167,
   "metadata": {},
   "outputs": [],
   "source": [
    "df.to_csv('../../data/raw.csv', index_label= 'id')"
   ]
  },
  {
   "cell_type": "markdown",
   "metadata": {},
   "source": [
    "## preprocess"
   ]
  },
  {
   "cell_type": "code",
   "execution_count": 151,
   "metadata": {},
   "outputs": [],
   "source": [
    "# df = pd.read_csv('../../data/raw.csv', parse_dates=['timestamp'])"
   ]
  },
  {
   "cell_type": "code",
   "execution_count": 168,
   "metadata": {},
   "outputs": [],
   "source": [
    "# if data is cleaned (in sql) then create data set for trips and accessible periods\n",
    "\n",
    "def preprocess(df):\n",
    "    \n",
    "    MODE_TRIP = 'trip'\n",
    "    MODE_ACCESS = 'accessible'\n",
    "\n",
    "    df['end_timestamp'] = None\n",
    "    df['next_lat'] = None\n",
    "    df['next_lon'] = None\n",
    "    df['mode'] = None\n",
    "\n",
    "    df.sort_values(by=['bikeId', 'timestamp'], inplace = True)\n",
    "    df['end_timestamp'] = df.timestamp.shift(-1)\n",
    "\n",
    "    # set location of next occurence (use -1 so the round doesnt crash for getting mode)\n",
    "    df['next_lat'] = np.where(df.bikeId == df.bikeId.shift(-1), df.latitude.shift(-1), -1)\n",
    "    df['next_lon'] = np.where(df.bikeId == df.bikeId.shift(-1), df.longitude.shift(-1), -1)\n",
    "    \n",
    "    # if the bike has moved its a trip, otherwise the bike was accessible at its location\n",
    "    # round to 4 digits for lat lon\n",
    "    df['mode'] = np.where((df.latitude.round(4) != df.next_lat.round(4)) | (df.longitude.round(4) != df.next_lon.round(4)), MODE_TRIP, MODE_ACCESS)\n",
    "    \n",
    "    # if bike Id is not the same as next, then this is the final time stamp and the next_timestamp is set to None\n",
    "    df['end_timestamp'] = df.end_timestamp.where(df.bikeId == df.bikeId.shift(-1),None, axis=0)\n",
    "    df['duration'] = df.end_timestamp - df.timestamp\n",
    "    \n",
    "    # delete last instances of all bikes\n",
    "    df = df[df.next_lat.notnull()]\n",
    "    \n",
    "    return df"
   ]
  },
  {
   "cell_type": "code",
   "execution_count": 169,
   "metadata": {},
   "outputs": [],
   "source": [
    "df = preprocess(df)"
   ]
  },
  {
   "cell_type": "code",
   "execution_count": 170,
   "metadata": {},
   "outputs": [],
   "source": [
    "df.to_csv('../../data/preprocessed.csv', index_label= 'id')"
   ]
  },
  {
   "cell_type": "markdown",
   "metadata": {},
   "source": [
    "## Data Cleaning"
   ]
  },
  {
   "cell_type": "code",
   "execution_count": 155,
   "metadata": {},
   "outputs": [],
   "source": [
    "# df = pd.read_csv('../../data/preprocessed.csv', parse_dates=['timestamp','end_timestamp'])"
   ]
  },
  {
   "cell_type": "code",
   "execution_count": 171,
   "metadata": {},
   "outputs": [],
   "source": [
    "def cleaning(df):\n",
    "    # switch lat lon where it's wrong (for Berlin)\n",
    "    temp = df.loc[(df.longitude > 40),'latitude'].copy(deep=True)\n",
    "\n",
    "    df.loc[(df.longitude > 40),'latitude'] = df.loc[(df.longitude > 40),'longitude']\n",
    "    df.loc[(df.longitude > 40),'longitude'] = temp\n",
    "    \n",
    "    temp0 = df.loc[(df.longitude > 40),'next_lat'].copy(deep=True)\n",
    "\n",
    "    df.loc[(df.next_lon > 40),'next_lat'] = df.loc[(df.longitude > 40),'next_lon']\n",
    "    df.loc[(df.next_lon > 40),'next_lon'] = temp0\n",
    "    \n",
    "    temp1 = df.loc[(df.prev_lon > 40),'prev_lat'].copy(deep=True)\n",
    "    \n",
    "    df.loc[(df.prev_lon > 40),'prev_lat'] = df.loc[(df.longitude > 40),'prev_lon']\n",
    "    df.loc[(df.prev_lon > 40),'prev_lon'] = temp1\n",
    "    \n",
    "    # delete instances with unplausible locations (outside of Berlin)\n",
    "    df.drop(df[df.longitude > 13.8].index, inplace=True)\n",
    "    df.drop(df[df.next_lon > 13.8].index, inplace=True)\n",
    "\n",
    "    df.drop(df[df.longitude < 13.0].index, inplace=True)\n",
    "    df.drop(df[df.next_lon < 13.0].index, inplace=True)\n",
    "\n",
    "    df.drop(df[df.latitude > 52.7].index, inplace=True)\n",
    "    df.drop(df[df.next_lat > 52.7].index, inplace=True)\n",
    "\n",
    "    df.drop(df[df.latitude < 52.3].index, inplace=True)\n",
    "    df.drop(df[df.next_lat < 52.3].index, inplace=True)\n",
    "\n",
    "    df['duration'] = df.end_timestamp - df.timestamp\n",
    "    \n",
    "    # drop trips that are longer than 24 hours\n",
    "    df = df.drop(df[(df['mode'] == 'trip') & (df.duration > datetime.timedelta(hours=24))].index)\n",
    "\n",
    "    # drop trips before 1.4.2019 \n",
    "    df = df.drop(df[df['timestamp'] <  pd.Timestamp(2019,4,1)].index)\n",
    "    return df\n",
    "\n",
    "    # TODO: drop trips that are shorter than 100 m\n",
    "    # TODO: drop bikes that are faster than x km/h"
   ]
  },
  {
   "cell_type": "code",
   "execution_count": 172,
   "metadata": {},
   "outputs": [],
   "source": [
    "df = cleaning(df)"
   ]
  },
  {
   "cell_type": "code",
   "execution_count": 173,
   "metadata": {},
   "outputs": [],
   "source": [
    "df.to_csv('../../data/cleaned.csv', index_label = 'id')"
   ]
  },
  {
   "cell_type": "markdown",
   "metadata": {},
   "source": [
    "## Routing"
   ]
  },
  {
   "cell_type": "code",
   "execution_count": 160,
   "metadata": {},
   "outputs": [],
   "source": [
    "# delete trips with smaller than x distance\n",
    "# routing only for trips (not accessible)"
   ]
  },
  {
   "cell_type": "code",
   "execution_count": 174,
   "metadata": {},
   "outputs": [],
   "source": [
    "df['response'] = None\n",
    "df['geometry'] = None\n",
    "df['distance'] = None\n",
    "df['calc_time'] = None\n",
    "df['waypoints'] = None"
   ]
  },
  {
   "cell_type": "code",
   "execution_count": 4,
   "metadata": {},
   "outputs": [],
   "source": [
    "def routing(start_lon, start_lat, end_lon, end_lat):\n",
    "    start = str(start_lon) + ',' + str(start_lat)\n",
    "    end = str(end_lon) + ',' + str(end_lat)\n",
    "    params = {'start':start,\n",
    "              'end':end,\n",
    "              'modal':'bicycle'\n",
    "             }\n",
    "    r = requests.get('http://localhost:1717/route', params = params)\n",
    "    response = r.json()\n",
    "    return response"
   ]
  },
  {
   "cell_type": "code",
   "execution_count": 5,
   "metadata": {},
   "outputs": [
    {
     "name": "stdout",
     "output_type": "stream",
     "text": [
      "19.178982257843018\n"
     ]
    }
   ],
   "source": [
    "df = pd.DataFrame()\n",
    "for chunk in pd.read_csv('../../data/cleaned.csv', index_col='id', parse_dates=['timestamp', 'end_timestamp'],chunksize=10000):\n",
    "    start = time.time()\n",
    "    chunk['response'] = None\n",
    "    chunk['geometry'] = None\n",
    "    chunk['distance'] = None\n",
    "    chunk['calc_time'] = None\n",
    "    chunk['waypoints'] = None\n",
    "    chunk.loc[chunk['mode']=='trip', 'response'] = chunk.loc[chunk['mode']=='trip'].apply(lambda row: routing(row.longitude, row.latitude, row.next_lon, row.next_lat), axis=1)\n",
    "    chunk.loc[chunk['mode']=='trip', 'geometry'] = chunk.loc[chunk['mode']=='trip']['response'].apply(lambda row: row['routes'][0]['geometry'])\n",
    "    chunk.loc[chunk['mode']=='trip', 'distance'] = chunk.loc[chunk['mode']=='trip']['response'].apply(lambda row: row['routes'][0]['distance'])\n",
    "    chunk.loc[chunk['mode']=='trip', 'calc_time'] = chunk.loc[chunk['mode']=='trip']['response'].apply(lambda row: row['routes'][0]['duration'])\n",
    "    chunk.loc[chunk['mode']=='trip', 'waypoints'] = chunk.loc[chunk['mode']=='trip']['response'].apply(lambda row: row['waypoints'])\n",
    "    end = time.time()\n",
    "    print(end - start)\n",
    "    df = df.append(chunk)\n",
    "    break"
   ]
  },
  {
   "cell_type": "code",
   "execution_count": 661,
   "metadata": {},
   "outputs": [],
   "source": [
    "df.to_csv('../../data/routed.csv')"
   ]
  },
  {
   "cell_type": "code",
   "execution_count": null,
   "metadata": {},
   "outputs": [],
   "source": [
    "df.to_json('../../data/routed.json', orient='records')"
   ]
  },
  {
   "cell_type": "markdown",
   "metadata": {},
   "source": [
    "#### Check for unplausible data (e.g. super fast rides --> Car)"
   ]
  },
  {
   "cell_type": "markdown",
   "metadata": {},
   "source": [
    "## Pseudonymisation \n",
    "\n",
    "https://datasmart.ash.harvard.edu/news/article/civic-analytics-network-dockless-mobility-open-letter\n",
    "https://data.louisvilleky.gov/dataset/dockless-vehicles"
   ]
  },
  {
   "cell_type": "code",
   "execution_count": 16,
   "metadata": {},
   "outputs": [],
   "source": [
    "# pseudonomoysed\n",
    "pseudon = df.copy(deep=True)\n",
    "pseudon['starttime'] = pseudon.timestamp.apply(lambda dt: datetime.datetime(dt.year, dt.month, dt.day, dt.hour,15*(dt.minute // 15)))\n",
    "pseudon['endtime'] = pseudon.end_timestamp.apply(lambda dt: datetime.datetime(dt.year, dt.month, dt.day, dt.hour,15*(dt.minute // 15)))\n",
    "pseudon.reset_index()\n",
    "pseudon.latitude = pseudon.latitude.round(3)\n",
    "pseudon.longitude = pseudon.longitude.round(3)\n",
    "pseudon.next_lat = pseudon.next_lat.round(3)\n",
    "pseudon.next_lon = pseudon.next_lon.round(3)\n",
    "pseudon = pseudon[pseudon['mode'] == 'trip'].drop(['providerId', 'bikeId', 'timestamp', 'end_timestamp', 'next_id','prev_id', 'mode', 'prev_lat', 'prev_lon', 'response', 'calc_time','geometry', 'waypoints'], axis=1).copy(deep=True)"
   ]
  },
  {
   "cell_type": "code",
   "execution_count": 17,
   "metadata": {},
   "outputs": [
    {
     "data": {
      "text/html": [
       "<div>\n",
       "<style scoped>\n",
       "    .dataframe tbody tr th:only-of-type {\n",
       "        vertical-align: middle;\n",
       "    }\n",
       "\n",
       "    .dataframe tbody tr th {\n",
       "        vertical-align: top;\n",
       "    }\n",
       "\n",
       "    .dataframe thead th {\n",
       "        text-align: right;\n",
       "    }\n",
       "</style>\n",
       "<table border=\"1\" class=\"dataframe\">\n",
       "  <thead>\n",
       "    <tr style=\"text-align: right;\">\n",
       "      <th></th>\n",
       "      <th>latitude</th>\n",
       "      <th>longitude</th>\n",
       "      <th>next_lat</th>\n",
       "      <th>next_lon</th>\n",
       "      <th>duration</th>\n",
       "      <th>distance</th>\n",
       "      <th>starttime</th>\n",
       "      <th>endtime</th>\n",
       "    </tr>\n",
       "    <tr>\n",
       "      <th>id</th>\n",
       "      <th></th>\n",
       "      <th></th>\n",
       "      <th></th>\n",
       "      <th></th>\n",
       "      <th></th>\n",
       "      <th></th>\n",
       "      <th></th>\n",
       "      <th></th>\n",
       "    </tr>\n",
       "  </thead>\n",
       "  <tbody>\n",
       "    <tr>\n",
       "      <th>2</th>\n",
       "      <td>52.510</td>\n",
       "      <td>13.406</td>\n",
       "      <td>52.532</td>\n",
       "      <td>13.421</td>\n",
       "      <td>0 days 04:31:59.428520000</td>\n",
       "      <td>3238.3</td>\n",
       "      <td>2019-04-05 13:30:00</td>\n",
       "      <td>2019-04-05 18:15:00</td>\n",
       "    </tr>\n",
       "    <tr>\n",
       "      <th>6</th>\n",
       "      <td>52.532</td>\n",
       "      <td>13.421</td>\n",
       "      <td>52.530</td>\n",
       "      <td>13.418</td>\n",
       "      <td>0 days 01:03:59.502937000</td>\n",
       "      <td>516.4</td>\n",
       "      <td>2019-04-06 12:45:00</td>\n",
       "      <td>2019-04-06 13:45:00</td>\n",
       "    </tr>\n",
       "    <tr>\n",
       "      <th>8</th>\n",
       "      <td>52.530</td>\n",
       "      <td>13.418</td>\n",
       "      <td>52.516</td>\n",
       "      <td>13.398</td>\n",
       "      <td>0 days 00:24:00.581760000</td>\n",
       "      <td>2388.2</td>\n",
       "      <td>2019-04-07 11:15:00</td>\n",
       "      <td>2019-04-07 11:30:00</td>\n",
       "    </tr>\n",
       "    <tr>\n",
       "      <th>10</th>\n",
       "      <td>52.516</td>\n",
       "      <td>13.398</td>\n",
       "      <td>52.516</td>\n",
       "      <td>13.376</td>\n",
       "      <td>0 days 00:16:00.452547000</td>\n",
       "      <td>1783.2</td>\n",
       "      <td>2019-04-07 12:00:00</td>\n",
       "      <td>2019-04-07 12:15:00</td>\n",
       "    </tr>\n",
       "    <tr>\n",
       "      <th>18</th>\n",
       "      <td>52.476</td>\n",
       "      <td>13.447</td>\n",
       "      <td>52.504</td>\n",
       "      <td>13.443</td>\n",
       "      <td>0 days 15:08:00.178330000</td>\n",
       "      <td>4218.1</td>\n",
       "      <td>2019-04-11 18:45:00</td>\n",
       "      <td>2019-04-12 10:00:00</td>\n",
       "    </tr>\n",
       "  </tbody>\n",
       "</table>\n",
       "</div>"
      ],
      "text/plain": [
       "    latitude  longitude  next_lat  next_lon                   duration  \\\n",
       "id                                                                       \n",
       "2     52.510     13.406    52.532    13.421  0 days 04:31:59.428520000   \n",
       "6     52.532     13.421    52.530    13.418  0 days 01:03:59.502937000   \n",
       "8     52.530     13.418    52.516    13.398  0 days 00:24:00.581760000   \n",
       "10    52.516     13.398    52.516    13.376  0 days 00:16:00.452547000   \n",
       "18    52.476     13.447    52.504    13.443  0 days 15:08:00.178330000   \n",
       "\n",
       "   distance           starttime             endtime  \n",
       "id                                                   \n",
       "2    3238.3 2019-04-05 13:30:00 2019-04-05 18:15:00  \n",
       "6     516.4 2019-04-06 12:45:00 2019-04-06 13:45:00  \n",
       "8    2388.2 2019-04-07 11:15:00 2019-04-07 11:30:00  \n",
       "10   1783.2 2019-04-07 12:00:00 2019-04-07 12:15:00  \n",
       "18   4218.1 2019-04-11 18:45:00 2019-04-12 10:00:00  "
      ]
     },
     "execution_count": 17,
     "metadata": {},
     "output_type": "execute_result"
    }
   ],
   "source": [
    "pseudon.head()"
   ]
  },
  {
   "cell_type": "code",
   "execution_count": null,
   "metadata": {},
   "outputs": [],
   "source": [
    "# pseudon.to_csv('../../data/pseudonomysed.csv', index_label='id')"
   ]
  },
  {
   "cell_type": "markdown",
   "metadata": {},
   "source": [
    "# Analysis"
   ]
  },
  {
   "cell_type": "code",
   "execution_count": 62,
   "metadata": {},
   "outputs": [
    {
     "data": {
      "text/plain": [
       "accessible    2617149\n",
       "trip          2179357\n",
       "Name: mode, dtype: int64"
      ]
     },
     "execution_count": 62,
     "metadata": {},
     "output_type": "execute_result"
    }
   ],
   "source": [
    "df['mode'].value_counts()"
   ]
  },
  {
   "cell_type": "code",
   "execution_count": 25,
   "metadata": {},
   "outputs": [
    {
     "data": {
      "text/plain": [
       "trip          2447621\n",
       "accessible    2348884\n",
       "Name: mode, dtype: int64"
      ]
     },
     "execution_count": 25,
     "metadata": {},
     "output_type": "execute_result"
    }
   ],
   "source": [
    "df['mode'].value_counts()"
   ]
  },
  {
   "cell_type": "code",
   "execution_count": 49,
   "metadata": {},
   "outputs": [
    {
     "name": "stderr",
     "output_type": "stream",
     "text": [
      "/anaconda3/lib/python3.7/site-packages/IPython/core/interactiveshell.py:3020: DtypeWarning: Columns (0,15,16,19) have mixed types. Specify dtype option on import or set low_memory=False.\n",
      "  interactivity=interactivity, compiler=compiler, result=result)\n"
     ]
    }
   ],
   "source": [
    "df = pd.read_csv('../../data/routed.csv', parse_dates=['timestamp','end_timestamp', 'duration'])"
   ]
  },
  {
   "cell_type": "code",
   "execution_count": 6,
   "metadata": {},
   "outputs": [],
   "source": [
    "df.duration = df.end_timestamp - df.timestamp"
   ]
  },
  {
   "cell_type": "code",
   "execution_count": 7,
   "metadata": {},
   "outputs": [],
   "source": [
    "dist = df[df.distance.notnull()]"
   ]
  },
  {
   "cell_type": "code",
   "execution_count": 21,
   "metadata": {},
   "outputs": [
    {
     "data": {
      "text/html": [
       "<div>\n",
       "<style scoped>\n",
       "    .dataframe tbody tr th:only-of-type {\n",
       "        vertical-align: middle;\n",
       "    }\n",
       "\n",
       "    .dataframe tbody tr th {\n",
       "        vertical-align: top;\n",
       "    }\n",
       "\n",
       "    .dataframe thead th {\n",
       "        text-align: right;\n",
       "    }\n",
       "</style>\n",
       "<table border=\"1\" class=\"dataframe\">\n",
       "  <thead>\n",
       "    <tr style=\"text-align: right;\">\n",
       "      <th></th>\n",
       "      <th>count</th>\n",
       "      <th>unique</th>\n",
       "      <th>top</th>\n",
       "      <th>freq</th>\n",
       "    </tr>\n",
       "    <tr>\n",
       "      <th>providerId</th>\n",
       "      <th></th>\n",
       "      <th></th>\n",
       "      <th></th>\n",
       "      <th></th>\n",
       "    </tr>\n",
       "  </thead>\n",
       "  <tbody>\n",
       "    <tr>\n",
       "      <th>0</th>\n",
       "      <td>4449.0</td>\n",
       "      <td>3840.0</td>\n",
       "      <td>0.0</td>\n",
       "      <td>23.0</td>\n",
       "    </tr>\n",
       "  </tbody>\n",
       "</table>\n",
       "</div>"
      ],
      "text/plain": [
       "             count  unique  top  freq\n",
       "providerId                           \n",
       "0           4449.0  3840.0  0.0  23.0"
      ]
     },
     "execution_count": 21,
     "metadata": {},
     "output_type": "execute_result"
    }
   ],
   "source": [
    "dist.groupby('providerId').distance.describe()"
   ]
  },
  {
   "cell_type": "code",
   "execution_count": 71,
   "metadata": {},
   "outputs": [
    {
     "data": {
      "text/plain": [
       "<matplotlib.axes._subplots.AxesSubplot at 0x1cb5b9b38>"
      ]
     },
     "execution_count": 71,
     "metadata": {},
     "output_type": "execute_result"
    },
    {
     "data": {
      "image/png": "[encoded data removed]",
      "text/plain": [
       "<Figure size 432x288 with 1 Axes>"
      ]
     },
     "metadata": {
      "needs_background": "light"
     },
     "output_type": "display_data"
    }
   ],
   "source": [
    "dist[dist.distance > 100].distance.hist(range=(200, 2000))"
   ]
  },
  {
   "cell_type": "code",
   "execution_count": 1,
   "metadata": {},
   "outputs": [],
   "source": [
    "#dist[dist.distance > 200].distance.value_counts()"
   ]
  },
  {
   "cell_type": "code",
   "execution_count": 69,
   "metadata": {},
   "outputs": [
    {
     "data": {
      "text/html": [
       "<div>\n",
       "<style scoped>\n",
       "    .dataframe tbody tr th:only-of-type {\n",
       "        vertical-align: middle;\n",
       "    }\n",
       "\n",
       "    .dataframe tbody tr th {\n",
       "        vertical-align: top;\n",
       "    }\n",
       "\n",
       "    .dataframe thead th {\n",
       "        text-align: right;\n",
       "    }\n",
       "</style>\n",
       "<table border=\"1\" class=\"dataframe\">\n",
       "  <thead>\n",
       "    <tr style=\"text-align: right;\">\n",
       "      <th></th>\n",
       "      <th>bikeId</th>\n",
       "      <th>providerId</th>\n",
       "      <th>latitude</th>\n",
       "      <th>longitude</th>\n",
       "      <th>prev_id</th>\n",
       "      <th>next_id</th>\n",
       "      <th>prev_lat</th>\n",
       "      <th>prev_lon</th>\n",
       "      <th>next_lat</th>\n",
       "      <th>next_lon</th>\n",
       "      <th>duration</th>\n",
       "      <th>distance</th>\n",
       "      <th>calc_time</th>\n",
       "    </tr>\n",
       "  </thead>\n",
       "  <tbody>\n",
       "    <tr>\n",
       "      <th>count</th>\n",
       "      <td>1.343250e+05</td>\n",
       "      <td>134325.000000</td>\n",
       "      <td>134325.000000</td>\n",
       "      <td>134325.000000</td>\n",
       "      <td>1.343250e+05</td>\n",
       "      <td>1.343250e+05</td>\n",
       "      <td>127708.000000</td>\n",
       "      <td>134325.000000</td>\n",
       "      <td>134325.000000</td>\n",
       "      <td>134325.000000</td>\n",
       "      <td>134126</td>\n",
       "      <td>134325.000000</td>\n",
       "      <td>134325.000000</td>\n",
       "    </tr>\n",
       "    <tr>\n",
       "      <th>mean</th>\n",
       "      <td>7.676697e+08</td>\n",
       "      <td>1.947746</td>\n",
       "      <td>52.512241</td>\n",
       "      <td>13.370533</td>\n",
       "      <td>7.676697e+08</td>\n",
       "      <td>7.676697e+08</td>\n",
       "      <td>52.511903</td>\n",
       "      <td>13.367610</td>\n",
       "      <td>52.432910</td>\n",
       "      <td>13.349247</td>\n",
       "      <td>0 days 02:20:05.418219</td>\n",
       "      <td>2884.246564</td>\n",
       "      <td>830.073481</td>\n",
       "    </tr>\n",
       "    <tr>\n",
       "      <th>std</th>\n",
       "      <td>1.802506e+08</td>\n",
       "      <td>0.222539</td>\n",
       "      <td>0.019494</td>\n",
       "      <td>0.048505</td>\n",
       "      <td>1.802506e+08</td>\n",
       "      <td>1.802506e+08</td>\n",
       "      <td>0.019404</td>\n",
       "      <td>0.048659</td>\n",
       "      <td>2.058258</td>\n",
       "      <td>0.554839</td>\n",
       "      <td>0 days 15:44:35.263895</td>\n",
       "      <td>3299.207159</td>\n",
       "      <td>892.717062</td>\n",
       "    </tr>\n",
       "    <tr>\n",
       "      <th>min</th>\n",
       "      <td>1.841760e+05</td>\n",
       "      <td>1.000000</td>\n",
       "      <td>52.434452</td>\n",
       "      <td>13.263792</td>\n",
       "      <td>1.841760e+05</td>\n",
       "      <td>1.841760e+05</td>\n",
       "      <td>52.459920</td>\n",
       "      <td>13.263792</td>\n",
       "      <td>-1.000000</td>\n",
       "      <td>-1.000000</td>\n",
       "      <td>0 days 00:00:06.225870</td>\n",
       "      <td>100.100000</td>\n",
       "      <td>15.300000</td>\n",
       "    </tr>\n",
       "    <tr>\n",
       "      <th>25%</th>\n",
       "      <td>8.100022e+08</td>\n",
       "      <td>2.000000</td>\n",
       "      <td>52.498712</td>\n",
       "      <td>13.330286</td>\n",
       "      <td>8.100022e+08</td>\n",
       "      <td>8.100022e+08</td>\n",
       "      <td>52.497873</td>\n",
       "      <td>13.325248</td>\n",
       "      <td>52.498575</td>\n",
       "      <td>13.329838</td>\n",
       "      <td>0 days 00:04:06.451638</td>\n",
       "      <td>228.400000</td>\n",
       "      <td>116.000000</td>\n",
       "    </tr>\n",
       "    <tr>\n",
       "      <th>50%</th>\n",
       "      <td>8.100034e+08</td>\n",
       "      <td>2.000000</td>\n",
       "      <td>52.511993</td>\n",
       "      <td>13.369098</td>\n",
       "      <td>8.100034e+08</td>\n",
       "      <td>8.100034e+08</td>\n",
       "      <td>52.511959</td>\n",
       "      <td>13.363803</td>\n",
       "      <td>52.511993</td>\n",
       "      <td>13.369010</td>\n",
       "      <td>0 days 00:15:59.639255</td>\n",
       "      <td>1382.600000</td>\n",
       "      <td>435.400000</td>\n",
       "    </tr>\n",
       "    <tr>\n",
       "      <th>75%</th>\n",
       "      <td>8.100045e+08</td>\n",
       "      <td>2.000000</td>\n",
       "      <td>52.524930</td>\n",
       "      <td>13.410304</td>\n",
       "      <td>8.100045e+08</td>\n",
       "      <td>8.100045e+08</td>\n",
       "      <td>52.523488</td>\n",
       "      <td>13.407374</td>\n",
       "      <td>52.524785</td>\n",
       "      <td>13.410007</td>\n",
       "      <td>0 days 00:47:53.849552</td>\n",
       "      <td>5009.100000</td>\n",
       "      <td>1380.900000</td>\n",
       "    </tr>\n",
       "    <tr>\n",
       "      <th>max</th>\n",
       "      <td>8.100063e+08</td>\n",
       "      <td>2.000000</td>\n",
       "      <td>52.574486</td>\n",
       "      <td>13.523591</td>\n",
       "      <td>8.100063e+08</td>\n",
       "      <td>8.100063e+08</td>\n",
       "      <td>52.560593</td>\n",
       "      <td>13.523591</td>\n",
       "      <td>52.574486</td>\n",
       "      <td>13.523556</td>\n",
       "      <td>53 days 14:52:05.278680</td>\n",
       "      <td>14252.200000</td>\n",
       "      <td>3818.600000</td>\n",
       "    </tr>\n",
       "  </tbody>\n",
       "</table>\n",
       "</div>"
      ],
      "text/plain": [
       "             bikeId     providerId       latitude      longitude  \\\n",
       "count  1.343250e+05  134325.000000  134325.000000  134325.000000   \n",
       "mean   7.676697e+08       1.947746      52.512241      13.370533   \n",
       "std    1.802506e+08       0.222539       0.019494       0.048505   \n",
       "min    1.841760e+05       1.000000      52.434452      13.263792   \n",
       "25%    8.100022e+08       2.000000      52.498712      13.330286   \n",
       "50%    8.100034e+08       2.000000      52.511993      13.369098   \n",
       "75%    8.100045e+08       2.000000      52.524930      13.410304   \n",
       "max    8.100063e+08       2.000000      52.574486      13.523591   \n",
       "\n",
       "            prev_id       next_id       prev_lat       prev_lon  \\\n",
       "count  1.343250e+05  1.343250e+05  127708.000000  134325.000000   \n",
       "mean   7.676697e+08  7.676697e+08      52.511903      13.367610   \n",
       "std    1.802506e+08  1.802506e+08       0.019404       0.048659   \n",
       "min    1.841760e+05  1.841760e+05      52.459920      13.263792   \n",
       "25%    8.100022e+08  8.100022e+08      52.497873      13.325248   \n",
       "50%    8.100034e+08  8.100034e+08      52.511959      13.363803   \n",
       "75%    8.100045e+08  8.100045e+08      52.523488      13.407374   \n",
       "max    8.100063e+08  8.100063e+08      52.560593      13.523591   \n",
       "\n",
       "            next_lat       next_lon                 duration       distance  \\\n",
       "count  134325.000000  134325.000000                   134126  134325.000000   \n",
       "mean       52.432910      13.349247   0 days 02:20:05.418219    2884.246564   \n",
       "std         2.058258       0.554839   0 days 15:44:35.263895    3299.207159   \n",
       "min        -1.000000      -1.000000   0 days 00:00:06.225870     100.100000   \n",
       "25%        52.498575      13.329838   0 days 00:04:06.451638     228.400000   \n",
       "50%        52.511993      13.369010   0 days 00:15:59.639255    1382.600000   \n",
       "75%        52.524785      13.410007   0 days 00:47:53.849552    5009.100000   \n",
       "max        52.574486      13.523556  53 days 14:52:05.278680   14252.200000   \n",
       "\n",
       "           calc_time  \n",
       "count  134325.000000  \n",
       "mean      830.073481  \n",
       "std       892.717062  \n",
       "min        15.300000  \n",
       "25%       116.000000  \n",
       "50%       435.400000  \n",
       "75%      1380.900000  \n",
       "max      3818.600000  "
      ]
     },
     "execution_count": 69,
     "metadata": {},
     "output_type": "execute_result"
    }
   ],
   "source": [
    "dist[dist.distance > 100].describe()"
   ]
  },
  {
   "cell_type": "code",
   "execution_count": 18,
   "metadata": {},
   "outputs": [
    {
     "data": {
      "text/plain": [
       "(432298, 20)"
      ]
     },
     "execution_count": 18,
     "metadata": {},
     "output_type": "execute_result"
    }
   ],
   "source": [
    "dist[dist.distance < 100].shape"
   ]
  },
  {
   "cell_type": "code",
   "execution_count": 66,
   "metadata": {},
   "outputs": [
    {
     "data": {
      "text/html": [
       "<div>\n",
       "<style scoped>\n",
       "    .dataframe tbody tr th:only-of-type {\n",
       "        vertical-align: middle;\n",
       "    }\n",
       "\n",
       "    .dataframe tbody tr th {\n",
       "        vertical-align: top;\n",
       "    }\n",
       "\n",
       "    .dataframe thead th {\n",
       "        text-align: right;\n",
       "    }\n",
       "</style>\n",
       "<table border=\"1\" class=\"dataframe\">\n",
       "  <thead>\n",
       "    <tr style=\"text-align: right;\">\n",
       "      <th></th>\n",
       "      <th>bikeId</th>\n",
       "      <th>providerId</th>\n",
       "      <th>latitude</th>\n",
       "      <th>longitude</th>\n",
       "      <th>prev_id</th>\n",
       "      <th>next_id</th>\n",
       "      <th>prev_lat</th>\n",
       "      <th>prev_lon</th>\n",
       "      <th>next_lat</th>\n",
       "      <th>next_lon</th>\n",
       "      <th>duration</th>\n",
       "      <th>distance</th>\n",
       "      <th>calc_time</th>\n",
       "    </tr>\n",
       "  </thead>\n",
       "  <tbody>\n",
       "    <tr>\n",
       "      <th>count</th>\n",
       "      <td>4.881670e+05</td>\n",
       "      <td>488167.000000</td>\n",
       "      <td>488167.000000</td>\n",
       "      <td>488167.000000</td>\n",
       "      <td>4.881670e+05</td>\n",
       "      <td>4.881670e+05</td>\n",
       "      <td>481600.000000</td>\n",
       "      <td>488167.000000</td>\n",
       "      <td>488167.000000</td>\n",
       "      <td>488167.000000</td>\n",
       "      <td>488167</td>\n",
       "      <td>488167.000000</td>\n",
       "      <td>488167.000000</td>\n",
       "    </tr>\n",
       "    <tr>\n",
       "      <th>mean</th>\n",
       "      <td>7.984664e+08</td>\n",
       "      <td>1.985784</td>\n",
       "      <td>52.511164</td>\n",
       "      <td>13.382816</td>\n",
       "      <td>7.984664e+08</td>\n",
       "      <td>7.984664e+08</td>\n",
       "      <td>52.511127</td>\n",
       "      <td>13.382462</td>\n",
       "      <td>52.511143</td>\n",
       "      <td>13.382826</td>\n",
       "      <td>0 days 02:18:24.114559</td>\n",
       "      <td>437.159092</td>\n",
       "      <td>133.668287</td>\n",
       "    </tr>\n",
       "    <tr>\n",
       "      <th>std</th>\n",
       "      <td>9.596500e+07</td>\n",
       "      <td>0.118382</td>\n",
       "      <td>0.021648</td>\n",
       "      <td>0.046398</td>\n",
       "      <td>9.596500e+07</td>\n",
       "      <td>9.596500e+07</td>\n",
       "      <td>0.021673</td>\n",
       "      <td>0.046523</td>\n",
       "      <td>0.021642</td>\n",
       "      <td>0.046412</td>\n",
       "      <td>0 days 16:43:32.634078</td>\n",
       "      <td>1504.701687</td>\n",
       "      <td>418.142826</td>\n",
       "    </tr>\n",
       "    <tr>\n",
       "      <th>min</th>\n",
       "      <td>1.841760e+05</td>\n",
       "      <td>1.000000</td>\n",
       "      <td>52.434452</td>\n",
       "      <td>13.263792</td>\n",
       "      <td>1.841760e+05</td>\n",
       "      <td>1.841760e+05</td>\n",
       "      <td>52.459920</td>\n",
       "      <td>13.263792</td>\n",
       "      <td>52.434452</td>\n",
       "      <td>13.263777</td>\n",
       "      <td>0 days 00:05:00.444690</td>\n",
       "      <td>0.000000</td>\n",
       "      <td>0.000000</td>\n",
       "    </tr>\n",
       "    <tr>\n",
       "      <th>25%</th>\n",
       "      <td>8.100024e+08</td>\n",
       "      <td>2.000000</td>\n",
       "      <td>52.493993</td>\n",
       "      <td>13.346835</td>\n",
       "      <td>8.100024e+08</td>\n",
       "      <td>8.100024e+08</td>\n",
       "      <td>52.493992</td>\n",
       "      <td>13.346141</td>\n",
       "      <td>52.493982</td>\n",
       "      <td>13.346876</td>\n",
       "      <td>0 days 00:15:46.007794</td>\n",
       "      <td>2.600000</td>\n",
       "      <td>0.900000</td>\n",
       "    </tr>\n",
       "    <tr>\n",
       "      <th>50%</th>\n",
       "      <td>8.100035e+08</td>\n",
       "      <td>2.000000</td>\n",
       "      <td>52.510766</td>\n",
       "      <td>13.384343</td>\n",
       "      <td>8.100035e+08</td>\n",
       "      <td>8.100035e+08</td>\n",
       "      <td>52.510746</td>\n",
       "      <td>13.384050</td>\n",
       "      <td>52.510742</td>\n",
       "      <td>13.384335</td>\n",
       "      <td>0 days 00:27:57.847473</td>\n",
       "      <td>12.700000</td>\n",
       "      <td>5.700000</td>\n",
       "    </tr>\n",
       "    <tr>\n",
       "      <th>75%</th>\n",
       "      <td>8.100046e+08</td>\n",
       "      <td>2.000000</td>\n",
       "      <td>52.528024</td>\n",
       "      <td>13.420752</td>\n",
       "      <td>8.100046e+08</td>\n",
       "      <td>8.100046e+08</td>\n",
       "      <td>52.528011</td>\n",
       "      <td>13.420492</td>\n",
       "      <td>52.527964</td>\n",
       "      <td>13.420839</td>\n",
       "      <td>0 days 00:59:59.835491</td>\n",
       "      <td>64.800000</td>\n",
       "      <td>42.600000</td>\n",
       "    </tr>\n",
       "    <tr>\n",
       "      <th>max</th>\n",
       "      <td>8.100063e+08</td>\n",
       "      <td>2.000000</td>\n",
       "      <td>52.574486</td>\n",
       "      <td>13.523591</td>\n",
       "      <td>8.100063e+08</td>\n",
       "      <td>8.100063e+08</td>\n",
       "      <td>52.560593</td>\n",
       "      <td>13.523591</td>\n",
       "      <td>52.574486</td>\n",
       "      <td>13.523556</td>\n",
       "      <td>63 days 16:39:59.796462</td>\n",
       "      <td>14252.200000</td>\n",
       "      <td>3818.600000</td>\n",
       "    </tr>\n",
       "  </tbody>\n",
       "</table>\n",
       "</div>"
      ],
      "text/plain": [
       "             bikeId     providerId       latitude      longitude  \\\n",
       "count  4.881670e+05  488167.000000  488167.000000  488167.000000   \n",
       "mean   7.984664e+08       1.985784      52.511164      13.382816   \n",
       "std    9.596500e+07       0.118382       0.021648       0.046398   \n",
       "min    1.841760e+05       1.000000      52.434452      13.263792   \n",
       "25%    8.100024e+08       2.000000      52.493993      13.346835   \n",
       "50%    8.100035e+08       2.000000      52.510766      13.384343   \n",
       "75%    8.100046e+08       2.000000      52.528024      13.420752   \n",
       "max    8.100063e+08       2.000000      52.574486      13.523591   \n",
       "\n",
       "            prev_id       next_id       prev_lat       prev_lon  \\\n",
       "count  4.881670e+05  4.881670e+05  481600.000000  488167.000000   \n",
       "mean   7.984664e+08  7.984664e+08      52.511127      13.382462   \n",
       "std    9.596500e+07  9.596500e+07       0.021673       0.046523   \n",
       "min    1.841760e+05  1.841760e+05      52.459920      13.263792   \n",
       "25%    8.100024e+08  8.100024e+08      52.493992      13.346141   \n",
       "50%    8.100035e+08  8.100035e+08      52.510746      13.384050   \n",
       "75%    8.100046e+08  8.100046e+08      52.528011      13.420492   \n",
       "max    8.100063e+08  8.100063e+08      52.560593      13.523591   \n",
       "\n",
       "            next_lat       next_lon                 duration       distance  \\\n",
       "count  488167.000000  488167.000000                   488167  488167.000000   \n",
       "mean       52.511143      13.382826   0 days 02:18:24.114559     437.159092   \n",
       "std         0.021642       0.046412   0 days 16:43:32.634078    1504.701687   \n",
       "min        52.434452      13.263777   0 days 00:05:00.444690       0.000000   \n",
       "25%        52.493982      13.346876   0 days 00:15:46.007794       2.600000   \n",
       "50%        52.510742      13.384335   0 days 00:27:57.847473      12.700000   \n",
       "75%        52.527964      13.420839   0 days 00:59:59.835491      64.800000   \n",
       "max        52.574486      13.523556  63 days 16:39:59.796462   14252.200000   \n",
       "\n",
       "           calc_time  \n",
       "count  488167.000000  \n",
       "mean      133.668287  \n",
       "std       418.142826  \n",
       "min         0.000000  \n",
       "25%         0.900000  \n",
       "50%         5.700000  \n",
       "75%        42.600000  \n",
       "max      3818.600000  "
      ]
     },
     "execution_count": 66,
     "metadata": {},
     "output_type": "execute_result"
    }
   ],
   "source": [
    "dist[dist.duration > datetime.timedelta(minutes=5)].describe()"
   ]
  },
  {
   "cell_type": "code",
   "execution_count": 8,
   "metadata": {},
   "outputs": [
    {
     "data": {
      "text/html": [
       "<div>\n",
       "<style scoped>\n",
       "    .dataframe tbody tr th:only-of-type {\n",
       "        vertical-align: middle;\n",
       "    }\n",
       "\n",
       "    .dataframe tbody tr th {\n",
       "        vertical-align: top;\n",
       "    }\n",
       "\n",
       "    .dataframe thead th {\n",
       "        text-align: right;\n",
       "    }\n",
       "</style>\n",
       "<table border=\"1\" class=\"dataframe\">\n",
       "  <thead>\n",
       "    <tr style=\"text-align: right;\">\n",
       "      <th></th>\n",
       "      <th>count</th>\n",
       "      <th>unique</th>\n",
       "      <th>top</th>\n",
       "      <th>freq</th>\n",
       "    </tr>\n",
       "    <tr>\n",
       "      <th>providerId</th>\n",
       "      <th></th>\n",
       "      <th></th>\n",
       "      <th></th>\n",
       "      <th></th>\n",
       "    </tr>\n",
       "  </thead>\n",
       "  <tbody>\n",
       "    <tr>\n",
       "      <th>1.0</th>\n",
       "      <td>7019</td>\n",
       "      <td>6643</td>\n",
       "      <td>0 days 09:07:59.956992000</td>\n",
       "      <td>27</td>\n",
       "    </tr>\n",
       "    <tr>\n",
       "      <th>2.0</th>\n",
       "      <td>127306</td>\n",
       "      <td>100958</td>\n",
       "      <td>0 days 00:04:00.973432000</td>\n",
       "      <td>11</td>\n",
       "    </tr>\n",
       "  </tbody>\n",
       "</table>\n",
       "</div>"
      ],
      "text/plain": [
       "             count  unique                        top freq\n",
       "providerId                                                \n",
       "1.0           7019    6643  0 days 09:07:59.956992000   27\n",
       "2.0         127306  100958  0 days 00:04:00.973432000   11"
      ]
     },
     "execution_count": 8,
     "metadata": {},
     "output_type": "execute_result"
    }
   ],
   "source": [
    "dist[dist.distance > 100].groupby('providerId').duration.describe()"
   ]
  },
  {
   "cell_type": "code",
   "execution_count": null,
   "metadata": {},
   "outputs": [],
   "source": [
    "df[df['mode'] == 'trip'].duration.describe()"
   ]
  },
  {
   "cell_type": "code",
   "execution_count": null,
   "metadata": {},
   "outputs": [],
   "source": [
    "# histogram of minutes spent on trip\n",
    "df.duration.apply(lambda x: x.seconds / 60).hist(range=(0,250))"
   ]
  },
  {
   "cell_type": "code",
   "execution_count": null,
   "metadata": {},
   "outputs": [],
   "source": [
    "# average duration of trips and accesible quases"
   ]
  },
  {
   "cell_type": "code",
   "execution_count": null,
   "metadata": {},
   "outputs": [],
   "source": [
    "df[df['mode'] == 'trip'].duration.describe()"
   ]
  },
  {
   "cell_type": "code",
   "execution_count": null,
   "metadata": {},
   "outputs": [],
   "source": [
    "df[df['mode'] == 'accessible'].duration.describe()"
   ]
  },
  {
   "cell_type": "code",
   "execution_count": 75,
   "metadata": {},
   "outputs": [
    {
     "name": "stderr",
     "output_type": "stream",
     "text": [
      "/Users/akapp/Documents/Allgemein/Packages/lib/python3.7/site-packages/pandas/core/indexing.py:362: SettingWithCopyWarning: \n",
      "A value is trying to be set on a copy of a slice from a DataFrame.\n",
      "Try using .loc[row_indexer,col_indexer] = value instead\n",
      "\n",
      "See the caveats in the documentation: http://pandas.pydata.org/pandas-docs/stable/indexing.html#indexing-view-versus-copy\n",
      "  self.obj[key] = _infer_fill_value(value)\n",
      "/Users/akapp/Documents/Allgemein/Packages/lib/python3.7/site-packages/pandas/core/indexing.py:543: SettingWithCopyWarning: \n",
      "A value is trying to be set on a copy of a slice from a DataFrame.\n",
      "Try using .loc[row_indexer,col_indexer] = value instead\n",
      "\n",
      "See the caveats in the documentation: http://pandas.pydata.org/pandas-docs/stable/indexing.html#indexing-view-versus-copy\n",
      "  self.obj[item] = s\n"
     ]
    }
   ],
   "source": [
    "dist.loc[:,'hourly_starttime'] = dist.timestamp.apply(lambda dt: datetime.datetime(dt.year, dt.month, dt.day, dt.hour,15*(dt.minute // 60)))"
   ]
  },
  {
   "cell_type": "code",
   "execution_count": null,
   "metadata": {},
   "outputs": [],
   "source": [
    "dist"
   ]
  },
  {
   "cell_type": "code",
   "execution_count": 90,
   "metadata": {},
   "outputs": [],
   "source": [
    "counts = dist[dist.distance > 100][['bikeId', 'hourly_starttime']].groupby(['hourly_starttime']).count()"
   ]
  },
  {
   "cell_type": "code",
   "execution_count": 99,
   "metadata": {},
   "outputs": [
    {
     "data": {
      "text/plain": [
       "<matplotlib.axes._subplots.AxesSubplot at 0x1912dfda0>"
      ]
     },
     "execution_count": 99,
     "metadata": {},
     "output_type": "execute_result"
    },
    {
     "data": {
      "image/png": "[encoded data removed]",
      "text/plain": [
       "<Figure size 1440x720 with 1 Axes>"
      ]
     },
     "metadata": {
      "needs_background": "light"
     },
     "output_type": "display_data"
    }
   ],
   "source": [
    "counts[100:300].plot(figsize=(20,10))"
   ]
  },
  {
   "cell_type": "markdown",
   "metadata": {},
   "source": [
    "### original data"
   ]
  },
  {
   "cell_type": "markdown",
   "metadata": {},
   "source": [
    "#### How many unique bike IDs are there (per provider)?"
   ]
  },
  {
   "cell_type": "code",
   "execution_count": null,
   "metadata": {},
   "outputs": [],
   "source": [
    "# how many bikes are available / on a trip for each hour?\n",
    "def get_unique_ids_per_day(df):\n",
    "    daily_unique = pd.DataFrame()\n",
    "\n",
    "    start_time = df.sort_values('timestamp').reset_index().loc[0,'timestamp']\n",
    "    end_time = df.sort_values('timestamp').reset_index().loc[df.shape[0]-2, 'timestamp']\n",
    "    times= []\n",
    "    \n",
    "    # get all desired times\n",
    "    while start_time < end_time:\n",
    "        times.append(start_time)\n",
    "        start_time += datetime.timedelta(hours=24)\n",
    "    \n",
    "    daily_unique['time'] = times\n",
    "    daily_unique['total'] = daily_unique.time.apply(lambda x: df[\n",
    "               (df.timestamp <= x) & \n",
    "               (df.end_timestamp > x)].bikeId.unique().shape[0])\n",
    "    daily_unique['nextbike'] = daily_unique.time.apply(lambda x: df[\n",
    "               (df.providerId == 0)&\n",
    "               (df.timestamp <= x) & \n",
    "               (df.end_timestamp > x)].bikeId.unique().shape[0])\n",
    "    daily_unique['lidlbike'] = daily_unique.time.apply(lambda x: df[\n",
    "               (df.providerId == 1)&\n",
    "               (df.timestamp <= x) & \n",
    "               (df.end_timestamp > x)].bikeId.unique().shape[0])\n",
    "    daily_unique['mobike'] = daily_unique.time.apply(lambda x: df[\n",
    "               (df.providerId == 2)&\n",
    "               (df.timestamp <= x) & \n",
    "               (df.end_timestamp > x)].bikeId.unique().shape[0])\n",
    "    \n",
    "    return daily_unique\n",
    "    "
   ]
  },
  {
   "cell_type": "code",
   "execution_count": 385,
   "metadata": {},
   "outputs": [],
   "source": [
    "def get_unique_ids(df):\n",
    "    unique_bikes = pd.DataFrame()\n",
    "    unique_bikes = unique_bikes.append([([df.bikeId.unique().shape[0], df[(df.providerId == 0)].bikeId.unique().shape[0], \n",
    "             df[(df.providerId == 1)].bikeId.unique().shape[0],\n",
    "             df[(df.providerId == 2)].bikeId.unique().shape[0]])])\n",
    "    unique_bikes.columns = [['total', 'nextbike', 'lidlbike', 'mobike']]\n",
    "    return unique_bikes"
   ]
  },
  {
   "cell_type": "code",
   "execution_count": 170,
   "metadata": {},
   "outputs": [],
   "source": [
    "daily_uniques = get_unique_ids_per_day(df)"
   ]
  },
  {
   "cell_type": "code",
   "execution_count": 171,
   "metadata": {},
   "outputs": [
    {
     "data": {
      "text/html": [
       "<div>\n",
       "<style scoped>\n",
       "    .dataframe tbody tr th:only-of-type {\n",
       "        vertical-align: middle;\n",
       "    }\n",
       "\n",
       "    .dataframe tbody tr th {\n",
       "        vertical-align: top;\n",
       "    }\n",
       "\n",
       "    .dataframe thead th {\n",
       "        text-align: right;\n",
       "    }\n",
       "</style>\n",
       "<table border=\"1\" class=\"dataframe\">\n",
       "  <thead>\n",
       "    <tr style=\"text-align: right;\">\n",
       "      <th></th>\n",
       "      <th>total</th>\n",
       "      <th>nextbike</th>\n",
       "      <th>lidlbike</th>\n",
       "      <th>mobike</th>\n",
       "    </tr>\n",
       "  </thead>\n",
       "  <tbody>\n",
       "    <tr>\n",
       "      <th>count</th>\n",
       "      <td>105.000000</td>\n",
       "      <td>105.000000</td>\n",
       "      <td>105.000000</td>\n",
       "      <td>105.000000</td>\n",
       "    </tr>\n",
       "    <tr>\n",
       "      <th>mean</th>\n",
       "      <td>7202.828571</td>\n",
       "      <td>1026.580952</td>\n",
       "      <td>2168.895238</td>\n",
       "      <td>4007.352381</td>\n",
       "    </tr>\n",
       "    <tr>\n",
       "      <th>std</th>\n",
       "      <td>1740.188730</td>\n",
       "      <td>316.039517</td>\n",
       "      <td>836.469790</td>\n",
       "      <td>1288.964477</td>\n",
       "    </tr>\n",
       "    <tr>\n",
       "      <th>min</th>\n",
       "      <td>0.000000</td>\n",
       "      <td>0.000000</td>\n",
       "      <td>0.000000</td>\n",
       "      <td>0.000000</td>\n",
       "    </tr>\n",
       "    <tr>\n",
       "      <th>25%</th>\n",
       "      <td>7056.000000</td>\n",
       "      <td>962.000000</td>\n",
       "      <td>2241.000000</td>\n",
       "      <td>4172.000000</td>\n",
       "    </tr>\n",
       "    <tr>\n",
       "      <th>50%</th>\n",
       "      <td>7914.000000</td>\n",
       "      <td>1091.000000</td>\n",
       "      <td>2422.000000</td>\n",
       "      <td>4425.000000</td>\n",
       "    </tr>\n",
       "    <tr>\n",
       "      <th>75%</th>\n",
       "      <td>8245.000000</td>\n",
       "      <td>1206.000000</td>\n",
       "      <td>2544.000000</td>\n",
       "      <td>4635.000000</td>\n",
       "    </tr>\n",
       "    <tr>\n",
       "      <th>max</th>\n",
       "      <td>8788.000000</td>\n",
       "      <td>1598.000000</td>\n",
       "      <td>3125.000000</td>\n",
       "      <td>4962.000000</td>\n",
       "    </tr>\n",
       "  </tbody>\n",
       "</table>\n",
       "</div>"
      ],
      "text/plain": [
       "             total     nextbike     lidlbike       mobike\n",
       "count   105.000000   105.000000   105.000000   105.000000\n",
       "mean   7202.828571  1026.580952  2168.895238  4007.352381\n",
       "std    1740.188730   316.039517   836.469790  1288.964477\n",
       "min       0.000000     0.000000     0.000000     0.000000\n",
       "25%    7056.000000   962.000000  2241.000000  4172.000000\n",
       "50%    7914.000000  1091.000000  2422.000000  4425.000000\n",
       "75%    8245.000000  1206.000000  2544.000000  4635.000000\n",
       "max    8788.000000  1598.000000  3125.000000  4962.000000"
      ]
     },
     "execution_count": 171,
     "metadata": {},
     "output_type": "execute_result"
    }
   ],
   "source": [
    "daily_uniques.describe()"
   ]
  },
  {
   "cell_type": "code",
   "execution_count": 386,
   "metadata": {},
   "outputs": [
    {
     "data": {
      "text/html": [
       "<div>\n",
       "<style scoped>\n",
       "    .dataframe tbody tr th:only-of-type {\n",
       "        vertical-align: middle;\n",
       "    }\n",
       "\n",
       "    .dataframe tbody tr th {\n",
       "        vertical-align: top;\n",
       "    }\n",
       "\n",
       "    .dataframe thead tr th {\n",
       "        text-align: left;\n",
       "    }\n",
       "</style>\n",
       "<table border=\"1\" class=\"dataframe\">\n",
       "  <thead>\n",
       "    <tr>\n",
       "      <th></th>\n",
       "      <th>total</th>\n",
       "      <th>nextbike</th>\n",
       "      <th>lidlbike</th>\n",
       "      <th>mobike</th>\n",
       "    </tr>\n",
       "  </thead>\n",
       "  <tbody>\n",
       "    <tr>\n",
       "      <th>0</th>\n",
       "      <td>14546</td>\n",
       "      <td>2390</td>\n",
       "      <td>2816</td>\n",
       "      <td>9340</td>\n",
       "    </tr>\n",
       "  </tbody>\n",
       "</table>\n",
       "</div>"
      ],
      "text/plain": [
       "   total nextbike lidlbike mobike\n",
       "0  14546     2390     2816   9340"
      ]
     },
     "execution_count": 386,
     "metadata": {},
     "output_type": "execute_result"
    }
   ],
   "source": [
    "uniques = get_unique_ids(df)\n",
    "uniques"
   ]
  },
  {
   "cell_type": "code",
   "execution_count": 184,
   "metadata": {},
   "outputs": [
    {
     "data": {
      "text/html": [
       "<div>\n",
       "<style scoped>\n",
       "    .dataframe tbody tr th:only-of-type {\n",
       "        vertical-align: middle;\n",
       "    }\n",
       "\n",
       "    .dataframe tbody tr th {\n",
       "        vertical-align: top;\n",
       "    }\n",
       "\n",
       "    .dataframe thead tr th {\n",
       "        text-align: left;\n",
       "    }\n",
       "\n",
       "    .dataframe thead tr:last-of-type th {\n",
       "        text-align: right;\n",
       "    }\n",
       "</style>\n",
       "<table border=\"1\" class=\"dataframe\">\n",
       "  <thead>\n",
       "    <tr>\n",
       "      <th></th>\n",
       "      <th colspan=\"8\" halign=\"left\">level_0</th>\n",
       "      <th colspan=\"2\" halign=\"left\">index</th>\n",
       "      <th>...</th>\n",
       "      <th colspan=\"2\" halign=\"left\">waypoints</th>\n",
       "      <th colspan=\"8\" halign=\"left\">response</th>\n",
       "    </tr>\n",
       "    <tr>\n",
       "      <th></th>\n",
       "      <th>count</th>\n",
       "      <th>mean</th>\n",
       "      <th>std</th>\n",
       "      <th>min</th>\n",
       "      <th>25%</th>\n",
       "      <th>50%</th>\n",
       "      <th>75%</th>\n",
       "      <th>max</th>\n",
       "      <th>count</th>\n",
       "      <th>mean</th>\n",
       "      <th>...</th>\n",
       "      <th>75%</th>\n",
       "      <th>max</th>\n",
       "      <th>count</th>\n",
       "      <th>mean</th>\n",
       "      <th>std</th>\n",
       "      <th>min</th>\n",
       "      <th>25%</th>\n",
       "      <th>50%</th>\n",
       "      <th>75%</th>\n",
       "      <th>max</th>\n",
       "    </tr>\n",
       "    <tr>\n",
       "      <th>providerId</th>\n",
       "      <th></th>\n",
       "      <th></th>\n",
       "      <th></th>\n",
       "      <th></th>\n",
       "      <th></th>\n",
       "      <th></th>\n",
       "      <th></th>\n",
       "      <th></th>\n",
       "      <th></th>\n",
       "      <th></th>\n",
       "      <th></th>\n",
       "      <th></th>\n",
       "      <th></th>\n",
       "      <th></th>\n",
       "      <th></th>\n",
       "      <th></th>\n",
       "      <th></th>\n",
       "      <th></th>\n",
       "      <th></th>\n",
       "      <th></th>\n",
       "      <th></th>\n",
       "    </tr>\n",
       "  </thead>\n",
       "  <tbody>\n",
       "    <tr>\n",
       "      <th>0</th>\n",
       "      <td>2382.0</td>\n",
       "      <td>73.283795</td>\n",
       "      <td>34.313157</td>\n",
       "      <td>1.0</td>\n",
       "      <td>57.0</td>\n",
       "      <td>72.0</td>\n",
       "      <td>87.0</td>\n",
       "      <td>465.0</td>\n",
       "      <td>2382.0</td>\n",
       "      <td>73.283795</td>\n",
       "      <td>...</td>\n",
       "      <td>0.0</td>\n",
       "      <td>0.0</td>\n",
       "      <td>2382.0</td>\n",
       "      <td>0.0</td>\n",
       "      <td>0.0</td>\n",
       "      <td>0.0</td>\n",
       "      <td>0.0</td>\n",
       "      <td>0.0</td>\n",
       "      <td>0.0</td>\n",
       "      <td>0.0</td>\n",
       "    </tr>\n",
       "    <tr>\n",
       "      <th>1</th>\n",
       "      <td>3592.0</td>\n",
       "      <td>106.138363</td>\n",
       "      <td>41.804395</td>\n",
       "      <td>1.0</td>\n",
       "      <td>83.0</td>\n",
       "      <td>115.0</td>\n",
       "      <td>134.0</td>\n",
       "      <td>655.0</td>\n",
       "      <td>3592.0</td>\n",
       "      <td>106.138363</td>\n",
       "      <td>...</td>\n",
       "      <td>0.0</td>\n",
       "      <td>0.0</td>\n",
       "      <td>3592.0</td>\n",
       "      <td>0.0</td>\n",
       "      <td>0.0</td>\n",
       "      <td>0.0</td>\n",
       "      <td>0.0</td>\n",
       "      <td>0.0</td>\n",
       "      <td>0.0</td>\n",
       "      <td>0.0</td>\n",
       "    </tr>\n",
       "    <tr>\n",
       "      <th>2</th>\n",
       "      <td>9316.0</td>\n",
       "      <td>219.991305</td>\n",
       "      <td>223.889874</td>\n",
       "      <td>1.0</td>\n",
       "      <td>135.0</td>\n",
       "      <td>203.0</td>\n",
       "      <td>268.0</td>\n",
       "      <td>4445.0</td>\n",
       "      <td>9316.0</td>\n",
       "      <td>219.991305</td>\n",
       "      <td>...</td>\n",
       "      <td>0.0</td>\n",
       "      <td>0.0</td>\n",
       "      <td>9316.0</td>\n",
       "      <td>0.0</td>\n",
       "      <td>0.0</td>\n",
       "      <td>0.0</td>\n",
       "      <td>0.0</td>\n",
       "      <td>0.0</td>\n",
       "      <td>0.0</td>\n",
       "      <td>0.0</td>\n",
       "    </tr>\n",
       "  </tbody>\n",
       "</table>\n",
       "<p>3 rows × 152 columns</p>\n",
       "</div>"
      ],
      "text/plain": [
       "           level_0                                                            \\\n",
       "             count        mean         std  min    25%    50%    75%     max   \n",
       "providerId                                                                     \n",
       "0           2382.0   73.283795   34.313157  1.0   57.0   72.0   87.0   465.0   \n",
       "1           3592.0  106.138363   41.804395  1.0   83.0  115.0  134.0   655.0   \n",
       "2           9316.0  219.991305  223.889874  1.0  135.0  203.0  268.0  4445.0   \n",
       "\n",
       "             index              ... waypoints      response                 \\\n",
       "             count        mean  ...       75%  max    count mean  std  min   \n",
       "providerId                      ...                                          \n",
       "0           2382.0   73.283795  ...       0.0  0.0   2382.0  0.0  0.0  0.0   \n",
       "1           3592.0  106.138363  ...       0.0  0.0   3592.0  0.0  0.0  0.0   \n",
       "2           9316.0  219.991305  ...       0.0  0.0   9316.0  0.0  0.0  0.0   \n",
       "\n",
       "                                \n",
       "            25%  50%  75%  max  \n",
       "providerId                      \n",
       "0           0.0  0.0  0.0  0.0  \n",
       "1           0.0  0.0  0.0  0.0  \n",
       "2           0.0  0.0  0.0  0.0  \n",
       "\n",
       "[3 rows x 152 columns]"
      ]
     },
     "execution_count": 184,
     "metadata": {},
     "output_type": "execute_result"
    }
   ],
   "source": [
    "# average trips per bike\n",
    "df_trips = df[df['mode']=='trip']\n",
    "df_trips.groupby(['bikeId', 'providerId']).count().groupby('providerId').describe()"
   ]
  },
  {
   "cell_type": "markdown",
   "metadata": {},
   "source": [
    "#### How much time is a bike used? "
   ]
  },
  {
   "cell_type": "markdown",
   "metadata": {},
   "source": [
    "#### how high is the utilization rate? (available bikes / all bikes)"
   ]
  },
  {
   "cell_type": "code",
   "execution_count": 611,
   "metadata": {},
   "outputs": [],
   "source": [
    "# how many bikes are available / on a trip for each hour?\n",
    "def count_bikes_in_mode(df, mode):\n",
    "    bikes_accessible = pd.DataFrame()\n",
    "\n",
    "    start_time = df.sort_values('timestamp').reset_index().loc[0,'timestamp']\n",
    "    end_time = df.sort_values('timestamp').reset_index().loc[df.shape[0]-2, 'timestamp']\n",
    "    times= []\n",
    "    while start_time < end_time:\n",
    "        times.append(start_time)\n",
    "        start_time += datetime.timedelta(hours=36)\n",
    "    \n",
    "    bikes_accessible['time'] = times\n",
    "    bikes_accessible['total'] = bikes_accessible.time.apply(lambda x: df[(df['mode']==mode) &\n",
    "               (df.timestamp <= x) & \n",
    "               (df.end_timestamp > x)].bikeId.unique().shape[0])\n",
    "    bikes_accessible['nextbike'] = bikes_accessible.time.apply(lambda x: df[(df['mode']==mode) &\n",
    "               (df.providerId == 0)&\n",
    "               (df.timestamp <= x) & \n",
    "               (df.end_timestamp > x)].bikeId.unique().shape[0])\n",
    "    bikes_accessible['lidlbike'] = bikes_accessible.time.apply(lambda x: df[(df['mode']==mode) &\n",
    "               (df.providerId == 1)&\n",
    "               (df.timestamp <= x) & \n",
    "               (df.end_timestamp > x)].bikeId.unique().shape[0])\n",
    "    bikes_accessible['mobike'] = bikes_accessible.time.apply(lambda x: df[(df['mode']==mode) &\n",
    "               (df.providerId == 2)&\n",
    "               (df.timestamp <= x) & \n",
    "               (df.end_timestamp > x)].bikeId.unique().shape[0])\n",
    "    return bikes_accessible\n",
    "    "
   ]
  },
  {
   "cell_type": "code",
   "execution_count": 612,
   "metadata": {},
   "outputs": [],
   "source": [
    "accessible = count_bikes_in_mode(df.sort_values('timestamp'), 'accessible')"
   ]
  },
  {
   "cell_type": "code",
   "execution_count": 615,
   "metadata": {},
   "outputs": [],
   "source": [
    "in_use = count_bikes_in_mode(df.sort_values('timestamp'), 'trip')"
   ]
  },
  {
   "cell_type": "code",
   "execution_count": 616,
   "metadata": {},
   "outputs": [
    {
     "data": {
      "text/plain": [
       "total       1301.0\n",
       "nextbike     141.0\n",
       "lidlbike      78.0\n",
       "mobike      1081.0\n",
       "dtype: float64"
      ]
     },
     "execution_count": 616,
     "metadata": {},
     "output_type": "execute_result"
    }
   ],
   "source": [
    "in_use.median()"
   ]
  },
  {
   "cell_type": "code",
   "execution_count": 613,
   "metadata": {},
   "outputs": [
    {
     "data": {
      "text/plain": [
       "total       6065.0\n",
       "nextbike     965.0\n",
       "lidlbike    2647.0\n",
       "mobike      2452.0\n",
       "dtype: float64"
      ]
     },
     "execution_count": 613,
     "metadata": {},
     "output_type": "execute_result"
    }
   ],
   "source": [
    "accessible.median()"
   ]
  },
  {
   "cell_type": "code",
   "execution_count": null,
   "metadata": {},
   "outputs": [],
   "source": [
    "# still that high when cleaned??"
   ]
  },
  {
   "cell_type": "code",
   "execution_count": 618,
   "metadata": {},
   "outputs": [
    {
     "data": {
      "text/plain": [
       "total       0.214509\n",
       "nextbike    0.146114\n",
       "lidlbike    0.029467\n",
       "mobike      0.440865\n",
       "dtype: float64"
      ]
     },
     "execution_count": 618,
     "metadata": {},
     "output_type": "execute_result"
    }
   ],
   "source": [
    "in_use.median() / accessible.median()"
   ]
  },
  {
   "cell_type": "markdown",
   "metadata": {},
   "source": [
    "#### Bike Availability: \n",
    "- Where are bikes available (per Planungsraum)? On average? On average weekdays / times?\n",
    "- Distance between available bikes"
   ]
  },
  {
   "cell_type": "markdown",
   "metadata": {},
   "source": [
    "#### how long is the life span of a bike? (first appearence and last appearence)\n",
    "- is there periodical appearences?"
   ]
  },
  {
   "cell_type": "code",
   "execution_count": 195,
   "metadata": {},
   "outputs": [],
   "source": [
    "# get data for lifespan\n",
    "\n",
    "def lifespan (df):\n",
    "    # each line one trip with start-loc and end-loc\n",
    "    # for each bike ID\n",
    "    start_timestamp = df.sort_values(by=['bikeId', 'timestamp']).drop_duplicates('bikeId', keep='first')\n",
    "    last_timestamp = df.sort_values(by=['bikeId', 'timestamp'], ascending = False).drop_duplicates('bikeId', keep='first')\n",
    "    start_timestamp.set_index('bikeId', inplace=True)\n",
    "    last_timestamp.set_index('bikeId', inplace=True)\n",
    "    return start_timestamp.join(last_timestamp[['timestamp']], rsuffix='_last')\n",
    "\n",
    "#df_lifespan = pd.DataFrame()\n",
    "#chunksize = 10 ** 8\n",
    "#for chunk in pd.read_csv('raw_small.csv', chunksize=chunksize):\n",
    "    #df_lifespan = df_lifespan.append(lifespan(chunk))\n",
    "    \n",
    "df_lifespan = lifespan(df)\n",
    "\n",
    "#df_lifespan.to_csv('lifespan.csv')"
   ]
  },
  {
   "cell_type": "code",
   "execution_count": 2,
   "metadata": {},
   "outputs": [
    {
     "ename": "NameError",
     "evalue": "name 'df' is not defined",
     "output_type": "error",
     "traceback": [
      "\u001b[0;31m---------------------------------------------------------------------------\u001b[0m",
      "\u001b[0;31mNameError\u001b[0m                                 Traceback (most recent call last)",
      "\u001b[0;32m<ipython-input-2-50c1fab93d58>\u001b[0m in \u001b[0;36m<module>\u001b[0;34m\u001b[0m\n\u001b[0;32m----> 1\u001b[0;31m \u001b[0mdf\u001b[0m\u001b[0;34m[\u001b[0m\u001b[0;34m[\u001b[0m\u001b[0;34m'bikeId'\u001b[0m\u001b[0;34m,\u001b[0m \u001b[0;34m'providerId'\u001b[0m\u001b[0;34m]\u001b[0m\u001b[0;34m]\u001b[0m\u001b[0;34m.\u001b[0m\u001b[0mdrop_duplicates\u001b[0m\u001b[0;34m(\u001b[0m\u001b[0;34m)\u001b[0m\u001b[0;34m.\u001b[0m\u001b[0mgroupby\u001b[0m\u001b[0;34m(\u001b[0m\u001b[0;34m'providerId'\u001b[0m\u001b[0;34m)\u001b[0m\u001b[0;34m.\u001b[0m\u001b[0mcount\u001b[0m\u001b[0;34m(\u001b[0m\u001b[0;34m)\u001b[0m\u001b[0;34m\u001b[0m\u001b[0;34m\u001b[0m\u001b[0m\n\u001b[0m",
      "\u001b[0;31mNameError\u001b[0m: name 'df' is not defined"
     ]
    }
   ],
   "source": [
    "df[['bikeId', 'providerId']].drop_duplicates().groupby('providerId').count()"
   ]
  },
  {
   "cell_type": "markdown",
   "metadata": {},
   "source": [
    "#### where are bikes \"moved\"? (e.g. very fast rides by car)"
   ]
  },
  {
   "cell_type": "code",
   "execution_count": 8,
   "metadata": {},
   "outputs": [
    {
     "name": "stderr",
     "output_type": "stream",
     "text": [
      "/anaconda3/lib/python3.7/site-packages/ipykernel_launcher.py:1: SettingWithCopyWarning: \n",
      "A value is trying to be set on a copy of a slice from a DataFrame.\n",
      "Try using .loc[row_indexer,col_indexer] = value instead\n",
      "\n",
      "See the caveats in the documentation: http://pandas.pydata.org/pandas-docs/stable/indexing.html#indexing-view-versus-copy\n",
      "  \"\"\"Entry point for launching an IPython kernel.\n"
     ]
    }
   ],
   "source": [
    "dist['speed'] = (dist.distance/1000) / (dist.duration.apply(lambda x: x.total_seconds()/3600))"
   ]
  },
  {
   "cell_type": "code",
   "execution_count": 34,
   "metadata": {},
   "outputs": [
    {
     "data": {
      "text/plain": [
       "<matplotlib.axes._subplots.AxesSubplot at 0x12ebed400>"
      ]
     },
     "execution_count": 34,
     "metadata": {},
     "output_type": "execute_result"
    },
    {
     "data": {
      "image/png": "[encoded data removed]",
      "text/plain": [
       "<Figure size 432x288 with 1 Axes>"
      ]
     },
     "metadata": {
      "needs_background": "light"
     },
     "output_type": "display_data"
    }
   ],
   "source": [
    "dist['speed'].apply(lambda x: round(x, 0)).value_counts().hist(range=(0,10))"
   ]
  },
  {
   "cell_type": "code",
   "execution_count": 35,
   "metadata": {},
   "outputs": [],
   "source": [
    "#dist[dist.speed > 20]"
   ]
  },
  {
   "cell_type": "code",
   "execution_count": 9,
   "metadata": {},
   "outputs": [
    {
     "data": {
      "text/plain": [
       "count     4449.0\n",
       "unique    4427.0\n",
       "top          0.0\n",
       "freq        23.0\n",
       "Name: speed, dtype: float64"
      ]
     },
     "execution_count": 9,
     "metadata": {},
     "output_type": "execute_result"
    }
   ],
   "source": [
    "dist['speed'].describe()"
   ]
  },
  {
   "cell_type": "markdown",
   "metadata": {},
   "source": [
    "## pseudonomysed trip data"
   ]
  },
  {
   "cell_type": "code",
   "execution_count": null,
   "metadata": {},
   "outputs": [],
   "source": [
    "crs = {'init': 'epsg:4326'}\n",
    "geometry = [Point(xy) for xy in zip(df.longitude, df.latitude)]\n",
    "gdf = gpd.GeoDataFrame(df, crs=crs, geometry=geometry)\n",
    "gdf = gdf.to_crs(epsg=25833)"
   ]
  },
  {
   "cell_type": "code",
   "execution_count": null,
   "metadata": {},
   "outputs": [],
   "source": [
    "geometry = [Point(xy) for xy in zip(df.next_lon, df.next_lat)]\n",
    "gdf_end = gpd.GeoDataFrame(df, crs=crs, geometry=geometry)\n",
    "gdf_end = gdf_end.to_crs(epsg=25833)"
   ]
  },
  {
   "cell_type": "code",
   "execution_count": null,
   "metadata": {},
   "outputs": [],
   "source": [
    "berlin = geopandas.read_file('lor_planungsraeume.geojson')\n",
    "berlin = berlin.to_crs(epsg=25833)"
   ]
  },
  {
   "cell_type": "code",
   "execution_count": null,
   "metadata": {},
   "outputs": [],
   "source": [
    "# map of accessible bikes\n",
    "base = berlin.plot(color='white', edgecolor='black', figsize=(20,20))\n",
    "gdf[(gdf['mode']=='accessible') & (gdf.latitude > 52.3) & (gdf.longitude > 13.0)& (gdf.latitude < 53.7) & (gdf.longitude < 13.7)].plot(ax=base, markersize=0.01, figsize=(20,20))"
   ]
  },
  {
   "cell_type": "code",
   "execution_count": null,
   "metadata": {},
   "outputs": [],
   "source": [
    "# map of startpoints\n",
    "gdf[(gdf['mode']=='trip')].plot(ax=base, markersize=0.01, figsize=(20,20))"
   ]
  },
  {
   "cell_type": "code",
   "execution_count": null,
   "metadata": {},
   "outputs": [],
   "source": [
    "# map of endpoints\n",
    "gdf_end[(gdf_end['mode']=='trip')].plot(ax=base, markersize=0.01, figsize=(20,20))"
   ]
  },
  {
   "cell_type": "code",
   "execution_count": null,
   "metadata": {},
   "outputs": [],
   "source": [
    "# map both\n",
    "start = gdf[(gdf['mode']=='trip')].plot(ax=base, markersize=0.01, figsize=(20,20), color='red')\n",
    "gdf_end[(gdf_end['mode']=='trip')].plot(ax=start, markersize=0.01, figsize=(20,20))"
   ]
  },
  {
   "cell_type": "code",
   "execution_count": null,
   "metadata": {},
   "outputs": [],
   "source": [
    "# heatmap (?)\n",
    "import geoplot\n",
    "ax = geoplot.kdeplot(gdf.head(100),\n",
    "                     shade=True, shade_lowest=False,\n",
    "                     clip=boroughs.geometry)\n",
    "geoplot.polyplot(boroughs, ax=base)"
   ]
  },
  {
   "cell_type": "markdown",
   "metadata": {},
   "source": [
    "#### How many bikes are in use at what point in time (weekday)?"
   ]
  },
  {
   "cell_type": "code",
   "execution_count": 48,
   "metadata": {},
   "outputs": [],
   "source": [
    "# hour of day\n",
    "df['hour_of_day'] = df.timestamp.apply(lambda x: x.time().hour)"
   ]
  },
  {
   "cell_type": "code",
   "execution_count": 51,
   "metadata": {},
   "outputs": [],
   "source": [
    "# day of week\n",
    "df['day_of_week'] = df.timestamp.apply(lambda x: x.weekday())"
   ]
  },
  {
   "cell_type": "code",
   "execution_count": 53,
   "metadata": {},
   "outputs": [
    {
     "data": {
      "text/plain": [
       "<matplotlib.axes._subplots.AxesSubplot at 0x12eea3898>"
      ]
     },
     "execution_count": 53,
     "metadata": {},
     "output_type": "execute_result"
    },
    {
     "data": {
      "image/png": "[encoded data removed]",
      "text/plain": [
       "<Figure size 432x288 with 1 Axes>"
      ]
     },
     "metadata": {
      "needs_background": "light"
     },
     "output_type": "display_data"
    }
   ],
   "source": [
    "df.hour_of_day.hist()"
   ]
  },
  {
   "cell_type": "code",
   "execution_count": 59,
   "metadata": {},
   "outputs": [
    {
     "data": {
      "text/plain": [
       "<matplotlib.axes._subplots.AxesSubplot at 0x12f8337b8>"
      ]
     },
     "execution_count": 59,
     "metadata": {},
     "output_type": "execute_result"
    },
    {
     "data": {
      "image/png": "[encoded data removed]",
      "text/plain": [
       "<Figure size 432x288 with 1 Axes>"
      ]
     },
     "metadata": {
      "needs_background": "light"
     },
     "output_type": "display_data"
    }
   ],
   "source": [
    "df.day_of_week.value_counts().sort_index().plot(kind='bar')"
   ]
  },
  {
   "cell_type": "code",
   "execution_count": null,
   "metadata": {},
   "outputs": [],
   "source": [
    "# see whole time on hourly / daily basis"
   ]
  },
  {
   "cell_type": "code",
   "execution_count": 298,
   "metadata": {},
   "outputs": [],
   "source": [
    "df.loc[:,'hourly_starttime'] = df.timestamp.apply(lambda dt: datetime.datetime(dt.year, dt.month, dt.day, dt.hour,15*(dt.minute // 60)))"
   ]
  },
  {
   "cell_type": "code",
   "execution_count": 299,
   "metadata": {},
   "outputs": [
    {
     "data": {
      "text/plain": [
       "count                 2122449\n",
       "unique                   2405\n",
       "top       2019-03-28 09:00:00\n",
       "freq                     2262\n",
       "first     2019-03-27 18:00:00\n",
       "last      2019-07-09 19:00:00\n",
       "Name: hourly_starttime, dtype: object"
      ]
     },
     "execution_count": 299,
     "metadata": {},
     "output_type": "execute_result"
    }
   ],
   "source": [
    "df[df['mode']=='trip'].hourly_starttime.describe()"
   ]
  },
  {
   "cell_type": "code",
   "execution_count": null,
   "metadata": {},
   "outputs": [],
   "source": [
    "# moving of bikes at 4am??"
   ]
  },
  {
   "cell_type": "code",
   "execution_count": 326,
   "metadata": {},
   "outputs": [],
   "source": [
    "# amount of trips\n",
    "counts = df[(df['mode'] == 'trip')& df.providerId == 1][['bikeId', 'hourly_starttime']].groupby(['hourly_starttime']).count()"
   ]
  },
  {
   "cell_type": "code",
   "execution_count": 328,
   "metadata": {},
   "outputs": [
    {
     "data": {
      "text/plain": [
       "<matplotlib.axes._subplots.AxesSubplot at 0x798f79630>"
      ]
     },
     "execution_count": 328,
     "metadata": {},
     "output_type": "execute_result"
    },
    {
     "data": {
      "image/png": "[encoded data removed]",
      "text/plain": [
       "<Figure size 432x288 with 1 Axes>"
      ]
     },
     "metadata": {
      "needs_background": "light"
     },
     "output_type": "display_data"
    }
   ],
   "source": [
    "counts.plot()"
   ]
  },
  {
   "cell_type": "code",
   "execution_count": 389,
   "metadata": {},
   "outputs": [
    {
     "name": "stderr",
     "output_type": "stream",
     "text": [
      "/Users/akapp/Documents/Allgemein/Packages/lib/python3.7/site-packages/pandas/core/indexing.py:362: SettingWithCopyWarning: \n",
      "A value is trying to be set on a copy of a slice from a DataFrame.\n",
      "Try using .loc[row_indexer,col_indexer] = value instead\n",
      "\n",
      "See the caveats in the documentation: http://pandas.pydata.org/pandas-docs/stable/indexing.html#indexing-view-versus-copy\n",
      "  self.obj[key] = _infer_fill_value(value)\n",
      "/Users/akapp/Documents/Allgemein/Packages/lib/python3.7/site-packages/pandas/core/indexing.py:543: SettingWithCopyWarning: \n",
      "A value is trying to be set on a copy of a slice from a DataFrame.\n",
      "Try using .loc[row_indexer,col_indexer] = value instead\n",
      "\n",
      "See the caveats in the documentation: http://pandas.pydata.org/pandas-docs/stable/indexing.html#indexing-view-versus-copy\n",
      "  self.obj[item] = s\n"
     ]
    }
   ],
   "source": [
    "df.loc[:,'daily_starttime'] = df.timestamp.apply(lambda dt: datetime.datetime(dt.year, dt.month, dt.day))"
   ]
  },
  {
   "cell_type": "code",
   "execution_count": 390,
   "metadata": {},
   "outputs": [],
   "source": [
    "counts = df[(df['mode'] == 'trip')& df.providerId == 1][['bikeId', 'daily_starttime']].groupby(['daily_starttime']).count()"
   ]
  },
  {
   "cell_type": "code",
   "execution_count": 60,
   "metadata": {},
   "outputs": [],
   "source": [
    "df[df.providerId == 1].sort_values('timestamp')"
   ]
  },
  {
   "cell_type": "markdown",
   "metadata": {},
   "source": [
    "#### How many rides are there per day?"
   ]
  },
  {
   "cell_type": "markdown",
   "metadata": {},
   "source": [
    "#### How long is the average ride (time and length)? How fast?"
   ]
  },
  {
   "cell_type": "markdown",
   "metadata": {},
   "source": [
    "## Geoanalysis "
   ]
  },
  {
   "cell_type": "code",
   "execution_count": null,
   "metadata": {},
   "outputs": [],
   "source": [
    "crs = {'init': 'epsg:4326'}\n",
    "geometry = [Point(xy) for xy in zip(df.longitude, df.latitude)]\n",
    "gdf_data = gpd.GeoDataFrame(df, crs=crs, geometry=geometry)\n",
    "gdf = gpd.read_file('lor_planungsraeume.geojson')"
   ]
  },
  {
   "cell_type": "code",
   "execution_count": null,
   "metadata": {},
   "outputs": [],
   "source": [
    "pointInPolys = sjoin(gdf_data.head(), gdf, how='left')"
   ]
  },
  {
   "cell_type": "code",
   "execution_count": null,
   "metadata": {},
   "outputs": [],
   "source": [
    "gdf_data.intersects(gdf.unary_union)"
   ]
  },
  {
   "cell_type": "code",
   "execution_count": null,
   "metadata": {},
   "outputs": [],
   "source": [
    "gpd.overlay(gdf, gdf_data)"
   ]
  },
  {
   "cell_type": "markdown",
   "metadata": {},
   "source": [
    "#### Where are most rides? (Bezirk, ...) Heatmap"
   ]
  },
  {
   "cell_type": "code",
   "execution_count": null,
   "metadata": {},
   "outputs": [],
   "source": [
    "# cross with Planungsräume\n",
    "\n",
    "gdf.rename(index=str, columns={\"spatial_name\": \"cell_id\"}, inplace=True)\n",
    "gdf[['cell_id', 'geometry']].to_file('planungsraeume.json', driver='GeoJSON')\n",
    "df = pd.DataFrame(gdf)[['cell_id', 'geometry']]\n",
    "gdf.set_index('cell_id', inplace=True)\n",
    "gdf['geometry'].to_file('test2.json', driver='GeoJSON', index='False')\n",
    "f= open(\"test.json\",\"w\")\n",
    "f.write(gdf['geometry'].to_json())\n",
    "f.close()    \n",
    "test = gdf['geometry'].to_dict()\n",
    "for key, values in test.items():\n",
    "    print (key)\n",
    "test = pd.read_json('test.json', orient='records')"
   ]
  },
  {
   "cell_type": "markdown",
   "metadata": {},
   "source": [
    "#### What are highly frequented routes? (Are there good bike lanes? Should there be better bike lanes?)"
   ]
  },
  {
   "cell_type": "markdown",
   "metadata": {},
   "source": [
    "#### Are there \"hot spots\" for pick up and drop off?"
   ]
  },
  {
   "cell_type": "markdown",
   "metadata": {},
   "source": [
    "## Include further data"
   ]
  },
  {
   "cell_type": "markdown",
   "metadata": {},
   "source": [
    "#### Intersect with subway stops"
   ]
  },
  {
   "cell_type": "markdown",
   "metadata": {},
   "source": [
    "#### weather data"
   ]
  },
  {
   "cell_type": "markdown",
   "metadata": {},
   "source": [
    "#### nextbike stations: with and without docking station: how many rides start from / end at a docking station"
   ]
  }
 ],
 "metadata": {
  "kernelspec": {
   "display_name": "Python 3",
   "language": "python",
   "name": "python3"
  },
  "language_info": {
   "codemirror_mode": {
    "name": "ipython",
    "version": 3
   },
   "file_extension": ".py",
   "mimetype": "text/x-python",
   "name": "python",
   "nbconvert_exporter": "python",
   "pygments_lexer": "ipython3",
   "version": "3.7.1"
  }
 },
 "nbformat": 4,
 "nbformat_minor": 2
}
